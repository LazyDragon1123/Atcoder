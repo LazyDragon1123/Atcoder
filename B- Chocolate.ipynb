{
 "cells": [
  {
   "cell_type": "code",
   "execution_count": 1,
   "metadata": {},
   "outputs": [
    {
     "name": "stdout",
     "output_type": "stream",
     "text": [
      "3\n",
      "7 1\n",
      "2\n",
      "5\n",
      "10\n",
      "8\n"
     ]
    }
   ],
   "source": [
    "n = int(input())\n",
    "d, x = [int(i) for i in input().split()]\n",
    "ans = x\n",
    "\n",
    "for _ in range(n):\n",
    "    a = int(input())\n",
    "    ans += (d-1)//a + 1\n",
    "    \n",
    "print(ans)"
   ]
  },
  {
   "cell_type": "code",
   "execution_count": null,
   "metadata": {},
   "outputs": [],
   "source": []
  }
 ],
 "metadata": {
  "kernelspec": {
   "display_name": "Python 3",
   "language": "python",
   "name": "python3"
  },
  "language_info": {
   "codemirror_mode": {
    "name": "ipython",
    "version": 3
   },
   "file_extension": ".py",
   "mimetype": "text/x-python",
   "name": "python",
   "nbconvert_exporter": "python",
   "pygments_lexer": "ipython3",
   "version": "3.7.4"
  }
 },
 "nbformat": 4,
 "nbformat_minor": 2
}
