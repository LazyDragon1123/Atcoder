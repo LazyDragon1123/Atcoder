{
 "cells": [
  {
   "cell_type": "code",
   "execution_count": 9,
   "metadata": {},
   "outputs": [
    {
     "name": "stdout",
     "output_type": "stream",
     "text": [
      "4\n",
      "1 2 3 4\n",
      "No\n"
     ]
    }
   ],
   "source": [
    "import numpy as np\n",
    "n = int(input())\n",
    "\n",
    "a = np.array([int(i) for i in input().split()])\n",
    "\n",
    "def distri(num):\n",
    "    res = np.array([0,0,0])\n",
    "    if num%4==0:\n",
    "        res = res + np.array([1,0,0])\n",
    "        return res\n",
    "    elif num%2 == 0:\n",
    "        res = res + np.array([0,1,0])\n",
    "        return res\n",
    "    else:\n",
    "        res = res + np.array([0,0,1])\n",
    "        return res\n",
    "    \n",
    "cout420 = np.array([0,0,0])\n",
    "\n",
    "for i in a:\n",
    "    cout420 = cout420 + distri(i)\n",
    "if cout420[1] ==0:\n",
    "    assign2 = 0\n",
    "else:\n",
    "    assign2 = 1\n",
    "    \n",
    "non4 = cout420[-1] + assign2\n",
    "\n",
    "if non4 <= cout420[0]*2:\n",
    "    print(\"Yes\")\n",
    "else:\n",
    "    print(\"No\")"
   ]
  }
 ],
 "metadata": {
  "kernelspec": {
   "display_name": "Python 3",
   "language": "python",
   "name": "python3"
  },
  "language_info": {
   "codemirror_mode": {
    "name": "ipython",
    "version": 3
   },
   "file_extension": ".py",
   "mimetype": "text/x-python",
   "name": "python",
   "nbconvert_exporter": "python",
   "pygments_lexer": "ipython3",
   "version": "3.7.4"
  }
 },
 "nbformat": 4,
 "nbformat_minor": 2
}
