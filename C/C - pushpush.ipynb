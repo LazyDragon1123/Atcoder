{
 "cells": [
  {
   "cell_type": "code",
   "execution_count": 14,
   "metadata": {},
   "outputs": [
    {
     "name": "stdout",
     "output_type": "stream",
     "text": [
      "3\n",
      "1 2 3\n",
      "3 1 2\n"
     ]
    }
   ],
   "source": [
    "import numpy as np\n",
    "n = int(input())\n",
    "a = [int(i) for i in input().split()]\n",
    "\n",
    "begin = a[0::2]\n",
    "end = a[1::2]\n",
    "\n",
    "if n%2 == 0:\n",
    "    end = end[:-1]\n",
    "    ans = end+begin\n",
    "else:\n",
    "    begin = begin[::-1]\n",
    "    ans = begin+end\n",
    "    \n",
    "Ans = ''\n",
    "for i in range(len(ans)):\n",
    "\n",
    "    if i == len(ans)-1:\n",
    "        Ans = Ans + str(ans[i])\n",
    "    else:\n",
    "        Ans = Ans + str(ans[i]) +' '\n",
    "\n",
    "print(Ans)\n",
    "    "
   ]
  },
  {
   "cell_type": "code",
   "execution_count": 12,
   "metadata": {},
   "outputs": [
    {
     "data": {
      "text/plain": [
       "[3, 1, 2]"
      ]
     },
     "execution_count": 12,
     "metadata": {},
     "output_type": "execute_result"
    }
   ],
   "source": [
    "ans"
   ]
  },
  {
   "cell_type": "code",
   "execution_count": null,
   "metadata": {},
   "outputs": [],
   "source": []
  }
 ],
 "metadata": {
  "kernelspec": {
   "display_name": "Python 3",
   "language": "python",
   "name": "python3"
  },
  "language_info": {
   "codemirror_mode": {
    "name": "ipython",
    "version": 3
   },
   "file_extension": ".py",
   "mimetype": "text/x-python",
   "name": "python",
   "nbconvert_exporter": "python",
   "pygments_lexer": "ipython3",
   "version": "3.7.4"
  }
 },
 "nbformat": 4,
 "nbformat_minor": 2
}
