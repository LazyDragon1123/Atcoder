{
 "cells": [
  {
   "cell_type": "code",
   "execution_count": 2,
   "metadata": {},
   "outputs": [
    {
     "name": "stdout",
     "output_type": "stream",
     "text": [
      "3 20\n",
      "3\n"
     ]
    }
   ],
   "source": [
    "x, y = [int(i) for i in input().split()]\n",
    "\n",
    "n = y//x\n",
    "\n",
    "flag = True\n",
    "k = 0\n",
    "\n",
    "while flag:\n",
    "    if 2**k <= n and n< 2**(k+1):\n",
    "        flag = False\n",
    "    else:\n",
    "        k += 1\n",
    "        \n",
    "ans = k+1\n",
    "print(int(ans))"
   ]
  },
  {
   "cell_type": "code",
   "execution_count": null,
   "metadata": {},
   "outputs": [],
   "source": []
  }
 ],
 "metadata": {
  "kernelspec": {
   "display_name": "Python 3",
   "language": "python",
   "name": "python3"
  },
  "language_info": {
   "codemirror_mode": {
    "name": "ipython",
    "version": 3
   },
   "file_extension": ".py",
   "mimetype": "text/x-python",
   "name": "python",
   "nbconvert_exporter": "python",
   "pygments_lexer": "ipython3",
   "version": "3.7.4"
  }
 },
 "nbformat": 4,
 "nbformat_minor": 2
}
