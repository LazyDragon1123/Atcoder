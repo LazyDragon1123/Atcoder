{
 "cells": [
  {
   "cell_type": "code",
   "execution_count": 8,
   "metadata": {},
   "outputs": [
    {
     "name": "stdout",
     "output_type": "stream",
     "text": [
      "11\n",
      "5\n"
     ]
    }
   ],
   "source": [
    "import numpy as np\n",
    "x = abs(int(input()))\n",
    "\n",
    "# case of 98: (n-1)**2<n(n-1)<196<=n(n+1)<(n+1)**2, m=np.floor((2n)**1/2)-1,+1,+2  \n",
    "# x - m(m-1)/2 until m-1, [x - m(m-1)/2] - m = wait, +add after wait (+1)\n",
    "\n",
    "n = int(np.floor((2*x)**(1/2)))\n",
    "m_cand = [n-1,n,n+1,n+2,n+3]\n",
    "\n",
    "\n",
    "for i in m_cand:\n",
    "    if (i*(i+1)<=2*x) & ((i+1)*(i+2)>2*x):\n",
    "        m = i\n",
    "        break\n",
    "        \n",
    "if m*(m+1)/2 == x:\n",
    "    ans=m\n",
    "else:\n",
    "    ans = m+1\n",
    "print(int(ans))\n"
   ]
  },
  {
   "cell_type": "code",
   "execution_count": 6,
   "metadata": {},
   "outputs": [
    {
     "data": {
      "text/plain": [
       "[2, 3, 4, 5, 6]"
      ]
     },
     "execution_count": 6,
     "metadata": {},
     "output_type": "execute_result"
    }
   ],
   "source": [
    "m_cand"
   ]
  },
  {
   "cell_type": "code",
   "execution_count": null,
   "metadata": {},
   "outputs": [],
   "source": []
  }
 ],
 "metadata": {
  "kernelspec": {
   "display_name": "Python 3",
   "language": "python",
   "name": "python3"
  },
  "language_info": {
   "codemirror_mode": {
    "name": "ipython",
    "version": 3
   },
   "file_extension": ".py",
   "mimetype": "text/x-python",
   "name": "python",
   "nbconvert_exporter": "python",
   "pygments_lexer": "ipython3",
   "version": "3.7.4"
  }
 },
 "nbformat": 4,
 "nbformat_minor": 2
}
