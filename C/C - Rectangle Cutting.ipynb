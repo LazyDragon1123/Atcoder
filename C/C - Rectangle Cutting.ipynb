{
 "cells": [
  {
   "cell_type": "code",
   "execution_count": 2,
   "metadata": {},
   "outputs": [
    {
     "name": "stdout",
     "output_type": "stream",
     "text": [
      "2 2 1 1 \n",
      "2.0 1\n"
     ]
    }
   ],
   "source": [
    "import numpy as np\n",
    "\n",
    "W, H, x, y = [int(i) for i in input().split()]\n",
    "\n",
    "ans_1 = W*H/2\n",
    "\n",
    "if (x == W/2) & (y == H/2):\n",
    "    ans_2 = 1\n",
    "else:\n",
    "    ans_2 = 0\n",
    "    \n",
    "ans = str(ans_1) + \" \" + str(ans_2)\n",
    "\n",
    "print(ans)"
   ]
  },
  {
   "cell_type": "code",
   "execution_count": null,
   "metadata": {},
   "outputs": [],
   "source": []
  }
 ],
 "metadata": {
  "kernelspec": {
   "display_name": "Python 3",
   "language": "python",
   "name": "python3"
  },
  "language_info": {
   "codemirror_mode": {
    "name": "ipython",
    "version": 3
   },
   "file_extension": ".py",
   "mimetype": "text/x-python",
   "name": "python",
   "nbconvert_exporter": "python",
   "pygments_lexer": "ipython3",
   "version": "3.7.4"
  }
 },
 "nbformat": 4,
 "nbformat_minor": 2
}
