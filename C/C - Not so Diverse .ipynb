{
 "cells": [
  {
   "cell_type": "code",
   "execution_count": 2,
   "metadata": {},
   "outputs": [
    {
     "name": "stdout",
     "output_type": "stream",
     "text": [
      "5 2\n",
      "1 1 2 2 5\n",
      "1\n"
     ]
    }
   ],
   "source": [
    "n, k = [int(i) for i in input().split()]\n",
    "\n",
    "a = [int(i) for i in input().split()]\n",
    "\n",
    "dic = {}\n",
    "\n",
    "for i in a:\n",
    "    if dic.get(i) is None:\n",
    "        dic[i] = 1\n",
    "    else:\n",
    "        dic[i] += 1\n",
    "        \n",
    "key = list(dic.keys())\n",
    "val = list(dic.values())\n",
    "\n",
    "num = len(key)\n",
    "val.sort()\n",
    "\n",
    "rest = num - k\n",
    "\n",
    "ans = 0\n",
    "\n",
    "if rest<=0:\n",
    "    pass\n",
    "else:\n",
    "    for i in range(rest):\n",
    "        ans += val[i]\n",
    "        \n",
    "print(ans)\n",
    "    \n"
   ]
  },
  {
   "cell_type": "code",
   "execution_count": null,
   "metadata": {},
   "outputs": [],
   "source": []
  }
 ],
 "metadata": {
  "kernelspec": {
   "display_name": "Python 3",
   "language": "python",
   "name": "python3"
  },
  "language_info": {
   "codemirror_mode": {
    "name": "ipython",
    "version": 3
   },
   "file_extension": ".py",
   "mimetype": "text/x-python",
   "name": "python",
   "nbconvert_exporter": "python",
   "pygments_lexer": "ipython3",
   "version": "3.7.4"
  }
 },
 "nbformat": 4,
 "nbformat_minor": 2
}
