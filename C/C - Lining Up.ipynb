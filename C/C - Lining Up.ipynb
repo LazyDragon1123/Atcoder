{
 "cells": [
  {
   "cell_type": "code",
   "execution_count": 10,
   "metadata": {},
   "outputs": [
    {
     "name": "stdout",
     "output_type": "stream",
     "text": [
      "5\n",
      "2 4 4 0 2\n",
      "4\n"
     ]
    }
   ],
   "source": [
    "import numpy as np\n",
    "\n",
    "div = 10**9 + 7\n",
    "\n",
    "def Mod_Pow(a,n,mod):\n",
    "    res = 1\n",
    "    while (n > 0):\n",
    "        if (n & 1):\n",
    "            res = (res * a )% mod\n",
    "        a = (a * a)% mod\n",
    "        n >>= 1\n",
    "    \n",
    "    return res\n",
    "\n",
    "def CountFrequency(my_list): \n",
    "  \n",
    "    # Creating an empty dictionary  \n",
    "    freq = {} \n",
    "    count_0 = 0\n",
    "    for item in my_list: \n",
    "        if (item in freq): \n",
    "            freq[item] += 1\n",
    "        else:             \n",
    "            if item ==0:\n",
    "                count_0+=1\n",
    "            else:\n",
    "                freq[item] = 1\n",
    "    if N%2==0:\n",
    "        return freq\n",
    "    else:\n",
    "        return freq, count_0\n",
    "\n",
    "N = int(input())\n",
    "\n",
    "A = list([int(i) for i in input().split()])\n",
    "\n",
    "if N%2 == 0:\n",
    "    if all([ i ==2 for i in CountFrequency(A).values()]):\n",
    "        ans = Mod_Pow(2,int(N/2),div)\n",
    "    else:\n",
    "        ans =0\n",
    "    \n",
    "            \n",
    "else:\n",
    "    count_0 = CountFrequency(A)[1]\n",
    "    \n",
    "    count_1 = list(CountFrequency(A)[0].values())\n",
    "    if all([ i ==2 for i in count_1]) & (count_0 ==1):\n",
    "        ans = Mod_Pow(2,int(N/2),div)\n",
    "    else:\n",
    "        ans =0\n",
    "    \n",
    "    \n",
    "            \n",
    "print(ans)      "
   ]
  },
  {
   "cell_type": "code",
   "execution_count": 1,
   "metadata": {},
   "outputs": [
    {
     "name": "stdout",
     "output_type": "stream",
     "text": [
      "1 2 3\n"
     ]
    }
   ],
   "source": [
    "5\n",
    "2 4 4 0 2"
   ]
  },
  {
   "cell_type": "code",
   "execution_count": 9,
   "metadata": {},
   "outputs": [
    {
     "data": {
      "text/plain": [
       "[2, 2, 1]"
      ]
     },
     "execution_count": 9,
     "metadata": {},
     "output_type": "execute_result"
    }
   ],
   "source": [
    "list(CountFrequency(A).values())[]"
   ]
  },
  {
   "cell_type": "code",
   "execution_count": null,
   "metadata": {},
   "outputs": [],
   "source": []
  }
 ],
 "metadata": {
  "kernelspec": {
   "display_name": "Python 3",
   "language": "python",
   "name": "python3"
  },
  "language_info": {
   "codemirror_mode": {
    "name": "ipython",
    "version": 3
   },
   "file_extension": ".py",
   "mimetype": "text/x-python",
   "name": "python",
   "nbconvert_exporter": "python",
   "pygments_lexer": "ipython3",
   "version": "3.7.4"
  }
 },
 "nbformat": 4,
 "nbformat_minor": 2
}
