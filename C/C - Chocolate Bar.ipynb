{
 "cells": [
  {
   "cell_type": "code",
   "execution_count": 2,
   "metadata": {},
   "outputs": [
    {
     "name": "stdout",
     "output_type": "stream",
     "text": [
      "4 5\n",
      "2\n"
     ]
    }
   ],
   "source": [
    "H, W = [int(i) for i in input().split()]\n",
    "\n",
    "if (H%3==0) |(W%3==0):\n",
    "    ans =0\n",
    "    \n",
    "else:\n",
    "    # cand1\n",
    "    a1 = H*(W//3)\n",
    "    a2 = (H//2)*(W-W//3)\n",
    "    a3 = (H-H//2)*(W-W//3)\n",
    "    cand1 = max(a1,a2,a3)-min(a1,a2,a3)\n",
    "    \n",
    "    #cand2\n",
    "    \n",
    "    a1 = H*(W//3+1)\n",
    "    a2 = (H//2)*(W-W//3-1)\n",
    "    a3 = (H-H//2)*(W-W//3-1)\n",
    "    cand2 = max(a1,a2,a3)-min(a1,a2,a3)\n",
    "    \n",
    "    #cand3\n",
    "    \n",
    "    dum1 = H\n",
    "    dum2 = W\n",
    "    H =dum2\n",
    "    W =dum1\n",
    "    \n",
    "    a1 = H*(W//3)\n",
    "    a2 = (H//2)*(W-W//3)\n",
    "    a3 = (H-H//2)*(W-W//3)\n",
    "    cand3 = max(a1,a2,a3)-min(a1,a2,a3)\n",
    "    \n",
    "    #cand4\n",
    "    \n",
    "    a1 = H*(W//3+1)\n",
    "    a2 = (H//2)*(W-W//3-1)\n",
    "    a3 = (H-H//2)*(W-W//3-1)\n",
    "    cand4 = max(a1,a2,a3)-min(a1,a2,a3)\n",
    "    \n",
    "    ans = min(cand1,cand2,cand3,cand4)\n",
    "    \n",
    "print(ans)"
   ]
  },
  {
   "cell_type": "code",
   "execution_count": null,
   "metadata": {},
   "outputs": [],
   "source": []
  }
 ],
 "metadata": {
  "kernelspec": {
   "display_name": "Python 3",
   "language": "python",
   "name": "python3"
  },
  "language_info": {
   "codemirror_mode": {
    "name": "ipython",
    "version": 3
   },
   "file_extension": ".py",
   "mimetype": "text/x-python",
   "name": "python",
   "nbconvert_exporter": "python",
   "pygments_lexer": "ipython3",
   "version": "3.7.4"
  }
 },
 "nbformat": 4,
 "nbformat_minor": 2
}
