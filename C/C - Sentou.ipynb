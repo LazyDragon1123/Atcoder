{
 "cells": [
  {
   "cell_type": "code",
   "execution_count": null,
   "metadata": {},
   "outputs": [],
   "source": [
    "N, T = [int(i) for i in input().split()]\n",
    "\n",
    "t = [int(i) for i in input().split()]\n",
    "\n",
    "ans = N*T\n",
    "\n",
    "for i in range(N-1):\n",
    "    time_gap = t[i+1] - t[i] \n",
    "    if time_gap > T:\n",
    "        loss_i =0\n",
    "    else:\n",
    "        loss_i = T - time_gap\n",
    "    ans -= loss_i\n",
    "    \n",
    "print(int(ans))"
   ]
  }
 ],
 "metadata": {
  "kernelspec": {
   "display_name": "Python 3",
   "language": "python",
   "name": "python3"
  },
  "language_info": {
   "codemirror_mode": {
    "name": "ipython",
    "version": 3
   },
   "file_extension": ".py",
   "mimetype": "text/x-python",
   "name": "python",
   "nbconvert_exporter": "python",
   "pygments_lexer": "ipython3",
   "version": "3.7.4"
  }
 },
 "nbformat": 4,
 "nbformat_minor": 2
}
