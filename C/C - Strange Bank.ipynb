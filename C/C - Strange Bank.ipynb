{
 "cells": [
  {
   "cell_type": "code",
   "execution_count": 3,
   "metadata": {},
   "outputs": [
    {
     "name": "stdout",
     "output_type": "stream",
     "text": [
      "127\n",
      "4\n"
     ]
    }
   ],
   "source": [
    "n = int(input())\n",
    "\n",
    "def base10to(n, b):\n",
    "    if (int(n/b)):\n",
    "        return base10to(int(n/b), b) + str(n%b)\n",
    "    return str(n%b)\n",
    "\n",
    "anss = []\n",
    "\n",
    "for i in range(n+1):\n",
    "    six = 0\n",
    "    for j in base10to(i,6):\n",
    "        six += int(j)\n",
    "    nine = 0\n",
    "    for j in base10to(n-i,9):\n",
    "        nine += int(j)\n",
    "    anss.append(six+nine)\n",
    "    \n",
    "ans = min(anss)\n",
    "\n",
    "print(ans)"
   ]
  },
  {
   "cell_type": "code",
   "execution_count": null,
   "metadata": {},
   "outputs": [],
   "source": []
  }
 ],
 "metadata": {
  "kernelspec": {
   "display_name": "Python 3",
   "language": "python",
   "name": "python3"
  },
  "language_info": {
   "codemirror_mode": {
    "name": "ipython",
    "version": 3
   },
   "file_extension": ".py",
   "mimetype": "text/x-python",
   "name": "python",
   "nbconvert_exporter": "python",
   "pygments_lexer": "ipython3",
   "version": "3.7.4"
  }
 },
 "nbformat": 4,
 "nbformat_minor": 2
}
