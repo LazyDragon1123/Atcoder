{
 "cells": [
  {
   "cell_type": "code",
   "execution_count": 34,
   "metadata": {},
   "outputs": [],
   "source": [
    "import math\n",
    "import numpy as np"
   ]
  },
  {
   "cell_type": "code",
   "execution_count": 54,
   "metadata": {},
   "outputs": [
    {
     "name": "stdout",
     "output_type": "stream",
     "text": [
      "3\n",
      "aa\n",
      "as\n",
      "acc\n"
     ]
    }
   ],
   "source": [
    "n =int(input())\n",
    "S = [str(input()) for _ in range(0,n)]"
   ]
  },
  {
   "cell_type": "code",
   "execution_count": 55,
   "metadata": {},
   "outputs": [],
   "source": [
    "def Count_Alphabet(word):\n",
    "    string = str(word)\n",
    "    alphabet=str(\"abcdefghijklmnopqrstuvwxyz\")\n",
    "    count = np.zeros(len(alphabet))\n",
    "    \n",
    "    for i in range(0,len(alphabet)):\n",
    "        for j in range(0,len(string)):\n",
    "            if alphabet[i] == string[j]:\n",
    "                count[i] += 1\n",
    "    \n",
    "    return count"
   ]
  },
  {
   "cell_type": "code",
   "execution_count": 56,
   "metadata": {},
   "outputs": [],
   "source": [
    "S_stat = np.ones((n,26))\n",
    "for i in range (0,n):\n",
    "    S_stat[i] = Count_Alphabet(S[i])"
   ]
  },
  {
   "cell_type": "code",
   "execution_count": 57,
   "metadata": {},
   "outputs": [],
   "source": [
    "Min_sta = np.ones(26)\n",
    "for i in range(0,26):\n",
    "    Min_sta[i] = min(S_stat[:,i])"
   ]
  },
  {
   "cell_type": "code",
   "execution_count": 61,
   "metadata": {},
   "outputs": [],
   "source": [
    "ans = str()\n",
    "alphabet=str(\"abcdefghijklmnopqrstuvwxyz\")\n",
    "for i in range(0,26):\n",
    "    ans += str(alphabet[i])*int(Min_sta[i])"
   ]
  }
 ],
 "metadata": {
  "kernelspec": {
   "display_name": "Python 3",
   "language": "python",
   "name": "python3"
  },
  "language_info": {
   "codemirror_mode": {
    "name": "ipython",
    "version": 3
   },
   "file_extension": ".py",
   "mimetype": "text/x-python",
   "name": "python",
   "nbconvert_exporter": "python",
   "pygments_lexer": "ipython3",
   "version": "3.7.4"
  }
 },
 "nbformat": 4,
 "nbformat_minor": 2
}
