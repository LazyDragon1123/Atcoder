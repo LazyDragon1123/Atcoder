{
 "cells": [
  {
   "cell_type": "code",
   "execution_count": 5,
   "metadata": {},
   "outputs": [
    {
     "name": "stdout",
     "output_type": "stream",
     "text": [
      "1500 2000 1600 3 2\n",
      "7900\n"
     ]
    }
   ],
   "source": [
    "import numpy as np\n",
    "a,b,c,x,y = [int(i) for i in input().split()]\n",
    "\n",
    "p = np.array([a,b])\n",
    "n = np.array([x,y])\n",
    "\n",
    "if sum(p) <= 2*c:\n",
    "    ans = a * x + b * y\n",
    "    \n",
    "else:\n",
    "    larger_p = np.argmax(p)\n",
    "    small_p = np.argmin(p)\n",
    "    more_n = np.argmax(n)\n",
    "    less_n = np.argmin(n)\n",
    "    ans = 2 * c * n[less_n]\n",
    "    \n",
    "    if p[more_n] > 2*c:\n",
    "        ans += 2 * c * (n[more_n]-n[less_n])\n",
    "    else:\n",
    "        ans += p[more_n] * (n[more_n]-n[less_n])\n",
    "    \n",
    "print(int(ans))"
   ]
  }
 ],
 "metadata": {
  "kernelspec": {
   "display_name": "Python 3",
   "language": "python",
   "name": "python3"
  },
  "language_info": {
   "codemirror_mode": {
    "name": "ipython",
    "version": 3
   },
   "file_extension": ".py",
   "mimetype": "text/x-python",
   "name": "python",
   "nbconvert_exporter": "python",
   "pygments_lexer": "ipython3",
   "version": "3.7.4"
  }
 },
 "nbformat": 4,
 "nbformat_minor": 2
}
