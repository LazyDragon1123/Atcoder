{
 "cells": [
  {
   "cell_type": "code",
   "execution_count": null,
   "metadata": {},
   "outputs": [],
   "source": [
    "import numpy as np\n",
    "k,n = [int(i) for i in input().split()]\n",
    "\n",
    "A = [int(i) for i in input().split()]\n",
    "\n",
    "A.sort()\n",
    "\n",
    "ans_p = A[0] + k - A[-1]\n",
    "\n",
    "for i in range(n-1):\n",
    "    cand = A[i+1] - A[i]\n",
    "    if cand > ans_p:\n",
    "        ans_p = cand\n",
    "        \n",
    "ans = k - ans_p\n",
    "\n",
    "print(ans)"
   ]
  }
 ],
 "metadata": {
  "kernelspec": {
   "display_name": "Python 3",
   "language": "python",
   "name": "python3"
  },
  "language_info": {
   "codemirror_mode": {
    "name": "ipython",
    "version": 3
   },
   "file_extension": ".py",
   "mimetype": "text/x-python",
   "name": "python",
   "nbconvert_exporter": "python",
   "pygments_lexer": "ipython3",
   "version": "3.7.4"
  }
 },
 "nbformat": 4,
 "nbformat_minor": 2
}
