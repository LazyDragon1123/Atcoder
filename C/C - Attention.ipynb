{
 "cells": [
  {
   "cell_type": "code",
   "execution_count": 6,
   "metadata": {},
   "outputs": [
    {
     "name": "stdout",
     "output_type": "stream",
     "text": [
      "4\n",
      "WWWE\n",
      "1\n"
     ]
    }
   ],
   "source": [
    "import numpy as np\n",
    "n = int(input())\n",
    "\n",
    "s = str(input())\n",
    "\n",
    "num = np.ones(n)\n",
    "\n",
    "n0 = 0\n",
    "for i in range(n-1):\n",
    "    if s[i+1] == 'E':\n",
    "        n0 +=1\n",
    "    \n",
    "num[0] = n0\n",
    "\n",
    "for i in range(n-1):\n",
    "    change = 0\n",
    "    if s[i] == 'W':\n",
    "        change +=1\n",
    "    if s[i+1] == 'E':\n",
    "        change -= 1\n",
    "        \n",
    "    num[i+1] = num[i] + change\n",
    "\n",
    "ans = min(num)\n",
    "print(int(ans))"
   ]
  },
  {
   "cell_type": "code",
   "execution_count": 5,
   "metadata": {},
   "outputs": [
    {
     "data": {
      "text/plain": [
       "array([2., 1., 0., 0.])"
      ]
     },
     "execution_count": 5,
     "metadata": {},
     "output_type": "execute_result"
    }
   ],
   "source": [
    "num"
   ]
  },
  {
   "cell_type": "code",
   "execution_count": null,
   "metadata": {},
   "outputs": [],
   "source": []
  }
 ],
 "metadata": {
  "kernelspec": {
   "display_name": "Python 3",
   "language": "python",
   "name": "python3"
  },
  "language_info": {
   "codemirror_mode": {
    "name": "ipython",
    "version": 3
   },
   "file_extension": ".py",
   "mimetype": "text/x-python",
   "name": "python",
   "nbconvert_exporter": "python",
   "pygments_lexer": "ipython3",
   "version": "3.7.4"
  }
 },
 "nbformat": 4,
 "nbformat_minor": 2
}
