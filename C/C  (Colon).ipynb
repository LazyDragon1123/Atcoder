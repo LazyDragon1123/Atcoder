{
 "cells": [
  {
   "cell_type": "code",
   "execution_count": 16,
   "metadata": {},
   "outputs": [
    {
     "name": "stdout",
     "output_type": "stream",
     "text": [
      "3 4 10 40\n",
      "4.564257194330054\n"
     ]
    }
   ],
   "source": [
    "import math\n",
    "a,b,h,m = [int(i) for i in input().split()]\n",
    "\n",
    "theta_a = (math.pi/6)*(h + m/60) % (2*math.pi)\n",
    "theta_b = 2*math.pi*m/60  % (2*math.pi)\n",
    "diff = abs(theta_a-theta_b)\n",
    "if diff > math.pi:\n",
    "    diff = 2*math.pi - diff\n",
    "\n",
    "c = (a**2+b**2 - 2*a*b*math.cos(diff))**0.5\n",
    "print(c)"
   ]
  }
 ],
 "metadata": {
  "kernelspec": {
   "display_name": "Python 3",
   "language": "python",
   "name": "python3"
  },
  "language_info": {
   "codemirror_mode": {
    "name": "ipython",
    "version": 3
   },
   "file_extension": ".py",
   "mimetype": "text/x-python",
   "name": "python",
   "nbconvert_exporter": "python",
   "pygments_lexer": "ipython3",
   "version": "3.7.4"
  }
 },
 "nbformat": 4,
 "nbformat_minor": 2
}
