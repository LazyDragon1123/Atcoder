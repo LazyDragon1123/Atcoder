{
 "cells": [
  {
   "cell_type": "code",
   "execution_count": 3,
   "metadata": {},
   "outputs": [
    {
     "name": "stdout",
     "output_type": "stream",
     "text": [
      "3\n",
      "6 5 1\n",
      "1 10 1\n",
      "12\n",
      "11\n",
      "0\n"
     ]
    }
   ],
   "source": [
    "def adder(enter, s_, f_, c_):\n",
    "    if enter <=s_:\n",
    "        res = s_ - enter\n",
    "        res += c_\n",
    "        return res\n",
    "    else:\n",
    "        n = 0\n",
    "        \n",
    "        while (s_ + f_*n) < enter:\n",
    "            n += 1\n",
    "        res = (s_ + f_*(n)) - enter\n",
    "        res += c_\n",
    "        return res\n",
    "    \n",
    "n = int(input())\n",
    "c, s, f = [],[],[]\n",
    "\n",
    "for i in range(n-1):\n",
    "    x,y,z = [int(i) for i in input().split()]\n",
    "    c.append(x)\n",
    "    s.append(y)\n",
    "    f.append(z)\n",
    "    \n",
    "    \n",
    "for i in range(n-1):\n",
    "    ans = 0\n",
    "    for j in range(i,n-1):\n",
    "        ans += adder(ans, s[j], f[j], c[j])\n",
    "        \n",
    "    print(ans)\n",
    "    \n",
    "print(int(0))"
   ]
  },
  {
   "cell_type": "code",
   "execution_count": null,
   "metadata": {},
   "outputs": [],
   "source": []
  }
 ],
 "metadata": {
  "kernelspec": {
   "display_name": "Python 3",
   "language": "python",
   "name": "python3"
  },
  "language_info": {
   "codemirror_mode": {
    "name": "ipython",
    "version": 3
   },
   "file_extension": ".py",
   "mimetype": "text/x-python",
   "name": "python",
   "nbconvert_exporter": "python",
   "pygments_lexer": "ipython3",
   "version": "3.7.4"
  }
 },
 "nbformat": 4,
 "nbformat_minor": 2
}
