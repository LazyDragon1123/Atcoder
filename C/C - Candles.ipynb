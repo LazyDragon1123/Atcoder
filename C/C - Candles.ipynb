{
 "cells": [
  {
   "cell_type": "code",
   "execution_count": null,
   "metadata": {},
   "outputs": [],
   "source": [
    "n,k = [int(i) for i in input().split()]\n",
    "x = [int(i) for i in input().split()]\n",
    "\n",
    "flag = 0\n",
    "ind0 = 0\n",
    "ind = str()\n",
    "ind_ = str()\n",
    "\n",
    "for i in range(n):\n",
    "    if x[i] >=0 and flag == 0:\n",
    "        ind0 = i\n",
    "        flag +=1\n",
    "    if x[i] ==0:\n",
    "        \n",
    "    \n"
   ]
  }
 ],
 "metadata": {
  "kernelspec": {
   "display_name": "Python 3",
   "language": "python",
   "name": "python3"
  },
  "language_info": {
   "codemirror_mode": {
    "name": "ipython",
    "version": 3
   },
   "file_extension": ".py",
   "mimetype": "text/x-python",
   "name": "python",
   "nbconvert_exporter": "python",
   "pygments_lexer": "ipython3",
   "version": "3.7.4"
  }
 },
 "nbformat": 4,
 "nbformat_minor": 2
}
