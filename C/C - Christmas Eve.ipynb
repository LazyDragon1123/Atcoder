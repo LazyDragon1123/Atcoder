{
 "cells": [
  {
   "cell_type": "code",
   "execution_count": 1,
   "metadata": {},
   "outputs": [
    {
     "name": "stdout",
     "output_type": "stream",
     "text": [
      "5 3\n",
      "10\n",
      "15\n",
      "11\n",
      "14\n",
      "12\n",
      "2\n"
     ]
    }
   ],
   "source": [
    "import numpy as np\n",
    "\n",
    "n, k = [int(i) for i in input().split()]\n",
    "\n",
    "h = np.ones(n)\n",
    "\n",
    "for i in range(n):\n",
    "    h[i] = int(input())\n",
    "    \n",
    "h = np.sort(h)\n",
    "\n",
    "ans = float('inf')\n",
    "\n",
    "for i in range(n-k+1):\n",
    "    cand = h[i+k-1] - h[i]\n",
    "    if cand < ans:\n",
    "        ans = cand\n",
    "    \n",
    "print(int(ans))"
   ]
  },
  {
   "cell_type": "code",
   "execution_count": null,
   "metadata": {},
   "outputs": [],
   "source": []
  }
 ],
 "metadata": {
  "kernelspec": {
   "display_name": "Python 3",
   "language": "python",
   "name": "python3"
  },
  "language_info": {
   "codemirror_mode": {
    "name": "ipython",
    "version": 3
   },
   "file_extension": ".py",
   "mimetype": "text/x-python",
   "name": "python",
   "nbconvert_exporter": "python",
   "pygments_lexer": "ipython3",
   "version": "3.7.4"
  }
 },
 "nbformat": 4,
 "nbformat_minor": 2
}
