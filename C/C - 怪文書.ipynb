{
 "cells": [
  {
   "cell_type": "code",
   "execution_count": 23,
   "metadata": {},
   "outputs": [
    {
     "name": "stdout",
     "output_type": "stream",
     "text": [
      "1\n",
      "a\n",
      "[array([1., 0., 0., 0., 0., 0., 0., 0., 0., 0., 0., 0., 0., 0., 0., 0., 0.,\n",
      "       0., 0., 0., 0., 0., 0., 0., 0., 0.])]\n",
      "0 a\n",
      "1 b\n",
      "2 c\n",
      "3 d\n",
      "4 e\n",
      "5 f\n",
      "6 g\n",
      "7 h\n",
      "8 i\n",
      "9 j\n",
      "10 k\n",
      "11 l\n",
      "12 m\n",
      "13 n\n",
      "14 o\n",
      "15 p\n",
      "16 q\n",
      "17 r\n",
      "18 s\n",
      "19 t\n",
      "20 u\n",
      "21 v\n",
      "22 w\n",
      "23 x\n",
      "24 y\n",
      "25 z\n",
      "[array([1., 0., 0., 0., 0., 0., 0., 0., 0., 0., 0., 0., 0., 0., 0., 0., 0.,\n",
      "       0., 0., 0., 0., 0., 0., 0., 0., 0.])]\n"
     ]
    }
   ],
   "source": [
    "import math\n",
    "import numpy as np\n",
    "\n",
    "n = int(input())\n",
    "S=[]\n",
    "\n",
    "for i in range(n):\n",
    "    S.append(str(input()))\n",
    "    \n",
    "\n",
    "def Count_Alphabet(word):\n",
    "    global alphabet\n",
    "    string = str(word)\n",
    "    alphabet=str(\"abcdefghijklmnopqrstuvwxyz\")\n",
    "    count = np.zeros(len(alphabet))\n",
    "    \n",
    "    for i in range(0,len(alphabet)):\n",
    "        for j in range(0,len(string)):\n",
    "            if alphabet[i] == string[j]:\n",
    "                count[i] += 1    \n",
    "    return count\n",
    "\n",
    "cout = []\n",
    "\n",
    "for i in range(n):\n",
    "    cout.append(Count_Alphabet(str(S[i])))\n",
    "    \n",
    "\n",
    "\n",
    "\n",
    "ans = str()\n",
    "\n",
    "for i in range(len(alphabet)):\n",
    "    ith = []\n",
    "    for j in range(n):\n",
    "        ith.append(cout[j][i])\n",
    "        \n",
    "    min_i = min(ith)\n",
    "    ans = ans + str(alphabet[i])*int(min_i)\n",
    "    \n",
    "print(ans)"
   ]
  },
  {
   "cell_type": "code",
   "execution_count": null,
   "metadata": {},
   "outputs": [],
   "source": []
  },
  {
   "cell_type": "code",
   "execution_count": 22,
   "metadata": {},
   "outputs": [
    {
     "ename": "IndexError",
     "evalue": "list index out of range",
     "output_type": "error",
     "traceback": [
      "\u001b[0;31m---------------------------------------------------------------------------\u001b[0m",
      "\u001b[0;31mIndexError\u001b[0m                                Traceback (most recent call last)",
      "\u001b[0;32m<ipython-input-22-f26ede7e1560>\u001b[0m in \u001b[0;36m<module>\u001b[0;34m\u001b[0m\n\u001b[0;32m----> 1\u001b[0;31m \u001b[0mcout\u001b[0m\u001b[0;34m[\u001b[0m\u001b[0;34m:\u001b[0m\u001b[0;34m]\u001b[0m\u001b[0;34m[\u001b[0m\u001b[0;36m1\u001b[0m\u001b[0;34m]\u001b[0m\u001b[0;34m\u001b[0m\u001b[0;34m\u001b[0m\u001b[0m\n\u001b[0m",
      "\u001b[0;31mIndexError\u001b[0m: list index out of range"
     ]
    }
   ],
   "source": [
    "c = "
   ]
  },
  {
   "cell_type": "code",
   "execution_count": null,
   "metadata": {},
   "outputs": [],
   "source": []
  }
 ],
 "metadata": {
  "kernelspec": {
   "display_name": "Python 3",
   "language": "python",
   "name": "python3"
  },
  "language_info": {
   "codemirror_mode": {
    "name": "ipython",
    "version": 3
   },
   "file_extension": ".py",
   "mimetype": "text/x-python",
   "name": "python",
   "nbconvert_exporter": "python",
   "pygments_lexer": "ipython3",
   "version": "3.7.4"
  }
 },
 "nbformat": 4,
 "nbformat_minor": 2
}
