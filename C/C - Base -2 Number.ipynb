{
 "cells": [
  {
   "cell_type": "code",
   "execution_count": 9,
   "metadata": {},
   "outputs": [
    {
     "data": {
      "text/plain": [
       "'0b11100'"
      ]
     },
     "execution_count": 9,
     "metadata": {},
     "output_type": "execute_result"
    }
   ],
   "source": [
    "a = int('0b1111',2)\n",
    "b = int('0b1101',2)\n",
    "c = bin(a + b)\n",
    "c"
   ]
  },
  {
   "cell_type": "code",
   "execution_count": 40,
   "metadata": {},
   "outputs": [
    {
     "name": "stdout",
     "output_type": "stream",
     "text": [
      "-9\n",
      "1001011\n"
     ]
    }
   ],
   "source": [
    "n = int(input())\n",
    "\n",
    "if n >= 0:\n",
    "    rest = 0\n",
    "    ind = 0\n",
    "    bi = bin(n)[2:][::-1]\n",
    "    leng = len(bi)\n",
    "    ans = ''\n",
    "    bi = bi + '00'\n",
    "    while rest != 0 or ind < leng:\n",
    "        rest_ = int(rest//2)\n",
    "        rest_temp = int(rest % 2)\n",
    "        if ind % 2 == 0:\n",
    "            temp = rest_temp+int(bi[ind])\n",
    "            if temp == 2:\n",
    "                \n",
    "                temp = 0\n",
    "                rest_ += 1\n",
    "            else:\n",
    "                rest_ += 0\n",
    "            ans = str(temp) + ans\n",
    "            rest = rest_\n",
    "            ind += 1\n",
    "            \n",
    "        else:\n",
    "            if int(bi[ind]) == 1:\n",
    "                rest_ +=1\n",
    "                rest_odd = 1\n",
    "            else:\n",
    "                rest_odd = 0\n",
    "            temp = rest_temp+rest_odd\n",
    "            if temp == 2:\n",
    "                temp = 0\n",
    "                rest_ += 1\n",
    "            elif temp==1 and rest_temp ==1:\n",
    "                rest_ += 1\n",
    "            else:\n",
    "                rest_ += 0\n",
    "            ans = str(temp) + ans\n",
    "            rest = rest_\n",
    "            ind += 1\n",
    "else:\n",
    "    n = -n\n",
    "    rest = 0\n",
    "    ind = 0\n",
    "    bi = bin(n)[2:][::-1]\n",
    "    leng = len(bi)\n",
    "    ans = ''\n",
    "    bi = bi + '00'\n",
    "    while rest != 0 or ind < leng:\n",
    "        rest_ = int(rest//2)\n",
    "        rest_temp = int(rest % 2)\n",
    "        if ind % 2 == 0:\n",
    "            temp = rest_temp+int(bi[ind])\n",
    "            if temp == 2:\n",
    "                \n",
    "                temp = 0\n",
    "                rest_ += 1\n",
    "            else:\n",
    "                rest_ += 0\n",
    "            ans = str(temp) + ans\n",
    "            rest = rest_\n",
    "            ind += 1\n",
    "            \n",
    "        else:\n",
    "            if int(bi[ind]) == 1:\n",
    "                rest_ +=1\n",
    "                rest_odd = 1\n",
    "            else:\n",
    "                rest_odd = 0\n",
    "            temp = rest_temp+rest_odd\n",
    "            if temp == 2:\n",
    "                temp = 0\n",
    "                rest_ += 1\n",
    "            elif temp==1 and rest_temp ==1:\n",
    "                rest_ += 1\n",
    "            else:\n",
    "                rest_ += 0\n",
    "            ans = str(temp) + ans\n",
    "            rest = rest_\n",
    "            ind += 1\n",
    "            \n",
    "    rest = 0\n",
    "    ind = 0\n",
    "    bi = ans[::-1]\n",
    "    leng = len(ans)\n",
    "    bi = bi + '0000'\n",
    "    ans = ''\n",
    "    while rest != 0 or ind < leng:\n",
    "        rest_ = int(rest//2)\n",
    "        rest_temp = int(rest % 2)\n",
    "\n",
    "        if int(bi[ind]) == 1:\n",
    "            rest_ +=1\n",
    "            rest_odd = 1\n",
    "        else:\n",
    "            rest_odd = 0\n",
    "        temp = rest_temp+rest_odd\n",
    "        if temp == 2:\n",
    "            temp = 0\n",
    "            rest_ += 1\n",
    "\n",
    "        else:\n",
    "            rest_ += 0\n",
    "        ans = str(temp) + ans\n",
    "        rest = rest_\n",
    "\n",
    "        ind += 1\n",
    "            \n",
    "            \n",
    "print(ans)"
   ]
  },
  {
   "cell_type": "code",
   "execution_count": 36,
   "metadata": {},
   "outputs": [
    {
     "data": {
      "text/plain": [
       "'110010000'"
      ]
     },
     "execution_count": 36,
     "metadata": {},
     "output_type": "execute_result"
    }
   ],
   "source": [
    "bi"
   ]
  },
  {
   "cell_type": "code",
   "execution_count": 26,
   "metadata": {},
   "outputs": [
    {
     "data": {
      "text/plain": [
       "'1001001'"
      ]
     },
     "execution_count": 26,
     "metadata": {},
     "output_type": "execute_result"
    }
   ],
   "source": [
    "ans"
   ]
  }
 ],
 "metadata": {
  "kernelspec": {
   "display_name": "Python 3",
   "language": "python",
   "name": "python3"
  },
  "language_info": {
   "codemirror_mode": {
    "name": "ipython",
    "version": 3
   },
   "file_extension": ".py",
   "mimetype": "text/x-python",
   "name": "python",
   "nbconvert_exporter": "python",
   "pygments_lexer": "ipython3",
   "version": "3.7.4"
  }
 },
 "nbformat": 4,
 "nbformat_minor": 2
}
