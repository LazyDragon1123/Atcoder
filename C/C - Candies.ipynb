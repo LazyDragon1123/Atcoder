{
 "cells": [
  {
   "cell_type": "code",
   "execution_count": 1,
   "metadata": {},
   "outputs": [
    {
     "name": "stdout",
     "output_type": "stream",
     "text": [
      "5\n",
      "3 2 2 4 1\n",
      "1 2 2 2 1\n",
      "14\n"
     ]
    }
   ],
   "source": [
    "n = int(input())\n",
    "a1 = [int(i) for i in input().split()]\n",
    "a2 = [int(i) for i in input().split()]\n",
    "\n",
    "mark = float('inf')\n",
    "\n",
    "for i in range(1,n):\n",
    "    if i == 1:\n",
    "        temp = sum(a1[i:])\n",
    "    else:\n",
    "        temp = sum(a1[i:]) + sum(a2[:i-1])\n",
    "        \n",
    "    if temp < mark:\n",
    "        mark = temp\n",
    "        \n",
    "ans = sum(a1) + sum(a2) - mark\n",
    "\n",
    "print(ans)"
   ]
  },
  {
   "cell_type": "code",
   "execution_count": null,
   "metadata": {},
   "outputs": [],
   "source": []
  }
 ],
 "metadata": {
  "kernelspec": {
   "display_name": "Python 3",
   "language": "python",
   "name": "python3"
  },
  "language_info": {
   "codemirror_mode": {
    "name": "ipython",
    "version": 3
   },
   "file_extension": ".py",
   "mimetype": "text/x-python",
   "name": "python",
   "nbconvert_exporter": "python",
   "pygments_lexer": "ipython3",
   "version": "3.7.4"
  }
 },
 "nbformat": 4,
 "nbformat_minor": 2
}
