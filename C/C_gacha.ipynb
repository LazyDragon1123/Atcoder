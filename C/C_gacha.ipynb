{
 "cells": [
  {
   "cell_type": "code",
   "execution_count": null,
   "metadata": {},
   "outputs": [],
   "source": [
    "n = int(input())\n",
    "\n",
    "dic = {}\n",
    "\n",
    "for i in range(n):\n",
    "    a = str(input())\n",
    "    if dic.get(a) is None:\n",
    "        dic[a] = 1\n",
    "    else:\n",
    "        dic[a] +=1\n",
    "    \n",
    "    \n",
    "keys = list(dic.keys())\n",
    "ans = int(len(keys))\n",
    "\n",
    "print(ans)"
   ]
  }
 ],
 "metadata": {
  "kernelspec": {
   "display_name": "Python 3",
   "language": "python",
   "name": "python3"
  },
  "language_info": {
   "codemirror_mode": {
    "name": "ipython",
    "version": 3
   },
   "file_extension": ".py",
   "mimetype": "text/x-python",
   "name": "python",
   "nbconvert_exporter": "python",
   "pygments_lexer": "ipython3",
   "version": "3.7.4"
  }
 },
 "nbformat": 4,
 "nbformat_minor": 2
}
