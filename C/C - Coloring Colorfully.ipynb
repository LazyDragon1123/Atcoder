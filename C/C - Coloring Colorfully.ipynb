{
 "cells": [
  {
   "cell_type": "code",
   "execution_count": 1,
   "metadata": {},
   "outputs": [
    {
     "name": "stdout",
     "output_type": "stream",
     "text": [
      "000\n",
      "1\n"
     ]
    }
   ],
   "source": [
    "s = str(input())\n",
    "n = len(s)\n",
    "\n",
    "pat1 = 0\n",
    "pat2 = 0\n",
    "\n",
    "for i in range(n):\n",
    "    if i%2 == 0:\n",
    "        if s[i] == '0':\n",
    "            pat1 += 1\n",
    "            \n",
    "        else:\n",
    "            pat2 += 1\n",
    "    else:\n",
    "        if s[i] == '1':\n",
    "            pat1 += 1\n",
    "            \n",
    "        else:\n",
    "            pat2 += 1\n",
    "            \n",
    "print(min(pat1,pat2))"
   ]
  },
  {
   "cell_type": "code",
   "execution_count": null,
   "metadata": {},
   "outputs": [],
   "source": []
  }
 ],
 "metadata": {
  "kernelspec": {
   "display_name": "Python 3",
   "language": "python",
   "name": "python3"
  },
  "language_info": {
   "codemirror_mode": {
    "name": "ipython",
    "version": 3
   },
   "file_extension": ".py",
   "mimetype": "text/x-python",
   "name": "python",
   "nbconvert_exporter": "python",
   "pygments_lexer": "ipython3",
   "version": "3.7.4"
  }
 },
 "nbformat": 4,
 "nbformat_minor": 2
}
