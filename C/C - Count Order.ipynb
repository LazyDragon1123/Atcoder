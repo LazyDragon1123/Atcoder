{
 "cells": [
  {
   "cell_type": "code",
   "execution_count": 174,
   "metadata": {},
   "outputs": [
    {
     "name": "stdout",
     "output_type": "stream",
     "text": [
      "3\n",
      "3 1 2\n",
      "1 3 2\n"
     ]
    }
   ],
   "source": [
    "N = int(input())\n",
    "P = [int(i) for i in input().split()]\n",
    "Q = [int(i) for i in input().split()]"
   ]
  },
  {
   "cell_type": "code",
   "execution_count": 189,
   "metadata": {},
   "outputs": [
    {
     "name": "stdout",
     "output_type": "stream",
     "text": [
      "312\n",
      "3\n"
     ]
    }
   ],
   "source": [
    "Num = range(1,N+1)\n",
    "\n",
    "Number = str(''.join(map(str,Num)))\n",
    "\n",
    "\n",
    "per_num=list(itertools.permutations(Number))\n",
    "pernum_arr = np.ones(len(per_num))\n",
    "for i in range(len(per_num)): \n",
    "    pernum_arr[i] = int(''.join(map(str,per_num[i])))\n",
    "P = int(''.join(map(str,P)))\n",
    "Q = int(''.join(map(str,Q)))\n",
    "print(P)\n",
    "ans = abs(np.where(pernum_arr==P)[0]-np.where(pernum_arr==Q)[0])\n",
    "print(ans[0])"
   ]
  }
 ],
 "metadata": {
  "kernelspec": {
   "display_name": "Python 3",
   "language": "python",
   "name": "python3"
  },
  "language_info": {
   "codemirror_mode": {
    "name": "ipython",
    "version": 3
   },
   "file_extension": ".py",
   "mimetype": "text/x-python",
   "name": "python",
   "nbconvert_exporter": "python",
   "pygments_lexer": "ipython3",
   "version": "3.7.4"
  }
 },
 "nbformat": 4,
 "nbformat_minor": 2
}
