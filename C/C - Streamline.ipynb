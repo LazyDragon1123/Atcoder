{
 "cells": [
  {
   "cell_type": "code",
   "execution_count": 10,
   "metadata": {},
   "outputs": [
    {
     "name": "stdout",
     "output_type": "stream",
     "text": [
      "2 5\n",
      "10 12 1 2 14\n",
      "5.0\n"
     ]
    }
   ],
   "source": [
    "import numpy as np\n",
    "\n",
    "n, m = map(int, input().split())\n",
    "x = [int(i) for i in input().split()]\n",
    "\n",
    "rest = m - n\n",
    "\n",
    "x = np.sort(x)\n",
    "dis = np.ones(m-1)\n",
    "\n",
    "for i in range(m-1):\n",
    "    dis[i] = x[i+1] - x[i]\n",
    "    \n",
    "dis = np.sort(dis)\n",
    "\n",
    "ans = 0\n",
    "\n",
    "for i in range(rest):\n",
    "    ans += dis[i]\n",
    "    \n",
    "print(int(ans))"
   ]
  },
  {
   "cell_type": "code",
   "execution_count": null,
   "metadata": {},
   "outputs": [],
   "source": []
  }
 ],
 "metadata": {
  "kernelspec": {
   "display_name": "Python 3",
   "language": "python",
   "name": "python3"
  },
  "language_info": {
   "codemirror_mode": {
    "name": "ipython",
    "version": 3
   },
   "file_extension": ".py",
   "mimetype": "text/x-python",
   "name": "python",
   "nbconvert_exporter": "python",
   "pygments_lexer": "ipython3",
   "version": "3.7.4"
  }
 },
 "nbformat": 4,
 "nbformat_minor": 2
}
