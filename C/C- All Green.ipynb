{
 "cells": [
  {
   "cell_type": "code",
   "execution_count": null,
   "metadata": {},
   "outputs": [],
   "source": [
    "# import numpy as np\n",
    "\n",
    "# d,g = [int(i) for i in input()split()]\n",
    "\n",
    "# p, c, pa = [],[],np.ones([g,g])\n",
    "\n",
    "# for _ in range(g):\n",
    "#     p_,c_ = [int(i) for i in input().split()]\n",
    "#     pa_ = p_*100 + c_/p_\n",
    "    \n",
    "#     p.append(p_)\n",
    "#     c.append(c_)\n",
    "#     pa = np.append(pa,[pa_,p_,c_])\n",
    "    \n",
    "\n",
    "# pa = np.sort(pa,axis=0)[::-1]\n",
    "\n",
    "# cout = 0 \n",
    "# rest = g\n",
    "# ind = 0\n",
    "\n",
    "# while rest>0:\n",
    "#     allp = pa[ind,0]*pa[ind,1]\n",
    "#     if rest - allp > 0:\n",
    "#         rest -= allp\n",
    "#         cout += pa[ind,1]\n",
    "#         pa[ind,0] = 0\n",
    "#         pa[ind,1] = 0\n",
    "#         pa[ind,2] = 0\n",
    "#     elif rest"
   ]
  }
 ],
 "metadata": {
  "kernelspec": {
   "display_name": "Python 3",
   "language": "python",
   "name": "python3"
  },
  "language_info": {
   "codemirror_mode": {
    "name": "ipython",
    "version": 3
   },
   "file_extension": ".py",
   "mimetype": "text/x-python",
   "name": "python",
   "nbconvert_exporter": "python",
   "pygments_lexer": "ipython3",
   "version": "3.7.4"
  }
 },
 "nbformat": 4,
 "nbformat_minor": 2
}
