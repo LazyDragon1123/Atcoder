{
 "cells": [
  {
   "cell_type": "code",
   "execution_count": 39,
   "metadata": {},
   "outputs": [
    {
     "name": "stdout",
     "output_type": "stream",
     "text": [
      "4 30\n",
      "6 18\n",
      "2 5\n",
      "3 10\n",
      "7 9\n",
      "130.0\n"
     ]
    }
   ],
   "source": [
    "import numpy as np\n",
    "\n",
    "N,M =[int(i) for i in input().split()]\n",
    "\n",
    "AB = np.ones([N,2])\n",
    "\n",
    "\n",
    "for i in range(N):\n",
    "    AB[i,0],AB[i,1] = [int(i) for i in input().split()]\n",
    "    \n",
    "count=0\n",
    "price=0\n",
    "\n",
    "AB_new = AB[np.argsort(AB[:,0])]\n",
    "\n",
    "for i in range(N):\n",
    "\n",
    "    if count<=M: \n",
    "        count+=AB_new[i,1]\n",
    "        if count<=M:\n",
    "            price+=AB_new[i,0]*AB_new[i,1]\n",
    "        elif count>M:\n",
    "            price+=AB_new[i,0]*(M-count+AB_new[i,1])\n",
    "    else:\n",
    "        break\n",
    "\n",
    "        \n",
    "print(int(price))"
   ]
  },
  {
   "cell_type": "code",
   "execution_count": 38,
   "metadata": {},
   "outputs": [
    {
     "data": {
      "text/plain": [
       "array([[ 2.,  5.],\n",
       "       [ 3., 10.],\n",
       "       [ 6., 18.],\n",
       "       [ 7.,  9.]])"
      ]
     },
     "execution_count": 38,
     "metadata": {},
     "output_type": "execute_result"
    }
   ],
   "source": [
    "AB_new"
   ]
  },
  {
   "cell_type": "code",
   "execution_count": 31,
   "metadata": {},
   "outputs": [
    {
     "data": {
      "text/plain": [
       "array([[2., 4.],\n",
       "       [4., 9.]])"
      ]
     },
     "execution_count": 31,
     "metadata": {},
     "output_type": "execute_result"
    }
   ],
   "source": [
    "AB_new"
   ]
  },
  {
   "cell_type": "code",
   "execution_count": null,
   "metadata": {},
   "outputs": [],
   "source": [
    "4 30\n",
    "6 18\n",
    "2 5\n",
    "3 10\n",
    "7 9"
   ]
  }
 ],
 "metadata": {
  "kernelspec": {
   "display_name": "Python 3",
   "language": "python",
   "name": "python3"
  },
  "language_info": {
   "codemirror_mode": {
    "name": "ipython",
    "version": 3
   },
   "file_extension": ".py",
   "mimetype": "text/x-python",
   "name": "python",
   "nbconvert_exporter": "python",
   "pygments_lexer": "ipython3",
   "version": "3.7.4"
  }
 },
 "nbformat": 4,
 "nbformat_minor": 2
}
