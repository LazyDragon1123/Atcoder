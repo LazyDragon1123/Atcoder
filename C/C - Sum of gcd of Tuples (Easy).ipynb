{
 "cells": [
  {
   "cell_type": "code",
   "execution_count": 20,
   "metadata": {},
   "outputs": [
    {
     "name": "stdout",
     "output_type": "stream",
     "text": [
      "2\n",
      "9\n"
     ]
    }
   ],
   "source": [
    "import math\n",
    "import numpy as np\n",
    "\n",
    "K = int(input())\n",
    "\n",
    "ind = np.ones(K)\n",
    "\n",
    "for i in range(K):\n",
    "    if i ==0:\n",
    "        pass\n",
    "    else:\n",
    "        num = i+1\n",
    "        # num num other\n",
    "        cout =0\n",
    "        for j in range(1,num):\n",
    "            cout += math.gcd(num,j)\n",
    "        ind[i] = ind[i-1] + cout*3\n",
    "        \n",
    "        # num other other\n",
    "        \n",
    "        cout=0\n",
    "        for k in range(1,num):\n",
    "            ene = math.gcd(num,k)\n",
    "            for l in range(1,num):\n",
    "                cout+= math.gcd(ene,l)\n",
    "            \n",
    "        ind[i]+= cout*3 +num\n",
    "        \n",
    "           \n",
    "print(int(ind[-1]))\n",
    "\n"
   ]
  },
  {
   "cell_type": "code",
   "execution_count": null,
   "metadata": {},
   "outputs": [],
   "source": [
    "import math\n",
    "math.gcd(12,5)"
   ]
  },
  {
   "cell_type": "code",
   "execution_count": 12,
   "metadata": {},
   "outputs": [
    {
     "data": {
      "text/plain": [
       "25.0"
      ]
     },
     "execution_count": 12,
     "metadata": {},
     "output_type": "execute_result"
    }
   ],
   "source": [
    "ind[2]"
   ]
  },
  {
   "cell_type": "code",
   "execution_count": 13,
   "metadata": {},
   "outputs": [],
   "source": [
    "a=1\n",
    "a+= 1+1"
   ]
  },
  {
   "cell_type": "code",
   "execution_count": 14,
   "metadata": {},
   "outputs": [
    {
     "data": {
      "text/plain": [
       "3"
      ]
     },
     "execution_count": 14,
     "metadata": {},
     "output_type": "execute_result"
    }
   ],
   "source": [
    "a"
   ]
  },
  {
   "cell_type": "code",
   "execution_count": null,
   "metadata": {},
   "outputs": [],
   "source": []
  }
 ],
 "metadata": {
  "kernelspec": {
   "display_name": "Python 3",
   "language": "python",
   "name": "python3"
  },
  "language_info": {
   "codemirror_mode": {
    "name": "ipython",
    "version": 3
   },
   "file_extension": ".py",
   "mimetype": "text/x-python",
   "name": "python",
   "nbconvert_exporter": "python",
   "pygments_lexer": "ipython3",
   "version": "3.7.4"
  }
 },
 "nbformat": 4,
 "nbformat_minor": 2
}
