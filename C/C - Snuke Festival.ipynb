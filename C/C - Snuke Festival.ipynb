{
 "cells": [
  {
   "cell_type": "code",
   "execution_count": 19,
   "metadata": {},
   "outputs": [
    {
     "name": "stdout",
     "output_type": "stream",
     "text": [
      "2\n",
      "1 5\n",
      "2 4\n",
      "3 6\n",
      "i 0\n",
      "j 0\n",
      "k 0\n",
      "j 1\n",
      "k 0\n",
      "k 1\n",
      "i 1\n",
      "j 1\n",
      "3\n"
     ]
    }
   ],
   "source": [
    "n = int(input())\n",
    "\n",
    "a = [int(i) for i in input().split()]\n",
    "b = [int(i) for i in input().split()]\n",
    "c = [int(i) for i in input().split()]\n",
    "\n",
    "a.sort()\n",
    "b.sort()\n",
    "c.sort()\n",
    "\n",
    "\n",
    "mark_b = 0\n",
    "mark_c = 0\n",
    "ans = 0\n",
    "flag = 0\n",
    "\n",
    "for i in range(n):\n",
    "    if flag == 1:\n",
    "        break\n",
    "\n",
    "    for j in range(mark_b, n):\n",
    "\n",
    "        if a[i] <= b[j]:\n",
    "            mark_b = j         \n",
    "        elif j == n - 1:\n",
    "            mark_b = n-1\n",
    "            flag = 1\n",
    "            break \n",
    "        elif (mark_c == n-1):\n",
    "            flag = 1\n",
    "            break\n",
    "\n",
    "        \n",
    "        else:\n",
    "            continue\n",
    " \n",
    "        for k in range(mark_c,n):\n",
    "\n",
    "            if b[j] <= c[k]:\n",
    "                mark_c = k\n",
    "                temp_c = n - k\n",
    "                ans += temp_c\n",
    "                break\n",
    "            elif k == n - 1:\n",
    "                mark_c = n-1\n",
    "                break\n",
    "                \n",
    "\n",
    "        \n",
    "\n",
    "                \n",
    "print(ans)        \n",
    "\n",
    "            "
   ]
  },
  {
   "cell_type": "code",
   "execution_count": 10,
   "metadata": {},
   "outputs": [
    {
     "data": {
      "text/plain": [
       "0"
      ]
     },
     "execution_count": 10,
     "metadata": {},
     "output_type": "execute_result"
    }
   ],
   "source": [
    "mark_b"
   ]
  },
  {
   "cell_type": "code",
   "execution_count": null,
   "metadata": {},
   "outputs": [],
   "source": []
  }
 ],
 "metadata": {
  "kernelspec": {
   "display_name": "Python 3",
   "language": "python",
   "name": "python3"
  },
  "language_info": {
   "codemirror_mode": {
    "name": "ipython",
    "version": 3
   },
   "file_extension": ".py",
   "mimetype": "text/x-python",
   "name": "python",
   "nbconvert_exporter": "python",
   "pygments_lexer": "ipython3",
   "version": "3.7.4"
  }
 },
 "nbformat": 4,
 "nbformat_minor": 2
}
