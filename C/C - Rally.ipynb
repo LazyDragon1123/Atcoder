{
 "cells": [
  {
   "cell_type": "code",
   "execution_count": 6,
   "metadata": {},
   "outputs": [
    {
     "name": "stdout",
     "output_type": "stream",
     "text": [
      "2\n",
      "3 3\n",
      "0\n"
     ]
    }
   ],
   "source": [
    "import numpy as np\n",
    "N =int(input())\n",
    "\n",
    "X = np.array([int(i) for i in input().split()])\n",
    "\n",
    "co_min = min(X)\n",
    "co_max = max(X)\n",
    "\n",
    "Y =np.ones(co_max-co_min)\n",
    "\n",
    "for i in range(len(Y)):\n",
    "    start = co_min + i\n",
    "    Y[i] = sum((X-start)**2)\n",
    "if co_min != co_max:    \n",
    "    ans = int(min(Y))\n",
    "elif co_min == co_max:\n",
    "    ans =0\n",
    "print(ans)"
   ]
  },
  {
   "cell_type": "code",
   "execution_count": null,
   "metadata": {},
   "outputs": [],
   "source": []
  }
 ],
 "metadata": {
  "kernelspec": {
   "display_name": "Python 3",
   "language": "python",
   "name": "python3"
  },
  "language_info": {
   "codemirror_mode": {
    "name": "ipython",
    "version": 3
   },
   "file_extension": ".py",
   "mimetype": "text/x-python",
   "name": "python",
   "nbconvert_exporter": "python",
   "pygments_lexer": "ipython3",
   "version": "3.7.4"
  }
 },
 "nbformat": 4,
 "nbformat_minor": 2
}
