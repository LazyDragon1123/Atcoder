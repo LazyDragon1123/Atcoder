{
 "cells": [
  {
   "cell_type": "code",
   "execution_count": 1,
   "metadata": {},
   "outputs": [
    {
     "name": "stdout",
     "output_type": "stream",
     "text": [
      "11011010001011\n",
      "11\n"
     ]
    }
   ],
   "source": [
    "import numpy as np\n",
    "\n",
    "S = str(input())\n",
    "\n",
    "flag=0\n",
    "count=0\n",
    "i=0\n",
    "while (i < (len(S)-1)):\n",
    "    if (S[i] == S[i+1]): #switch on counting\n",
    "        flag+=1\n",
    "        i+=1\n",
    "    elif ((S[i] != S[i+1]) & (flag>0)): # switch off counting\n",
    "        count+=flag+1 \n",
    "        S = S[:i+1-flag-1]+ S[i+1:]\n",
    "        flag =0 # initialize\n",
    "        i = 0\n",
    "    elif ((S[i] != S[i+1]) & (flag==0)): # go through\n",
    "        i+=1\n",
    "        \n",
    "print(int(count))"
   ]
  },
  {
   "cell_type": "code",
   "execution_count": 3,
   "metadata": {},
   "outputs": [
    {
     "data": {
      "text/plain": [
       "1"
      ]
     },
     "execution_count": 3,
     "metadata": {},
     "output_type": "execute_result"
    }
   ],
   "source": [
    "len('0')"
   ]
  },
  {
   "cell_type": "code",
   "execution_count": null,
   "metadata": {},
   "outputs": [],
   "source": []
  }
 ],
 "metadata": {
  "kernelspec": {
   "display_name": "Python 3",
   "language": "python",
   "name": "python3"
  },
  "language_info": {
   "codemirror_mode": {
    "name": "ipython",
    "version": 3
   },
   "file_extension": ".py",
   "mimetype": "text/x-python",
   "name": "python",
   "nbconvert_exporter": "python",
   "pygments_lexer": "ipython3",
   "version": "3.7.4"
  }
 },
 "nbformat": 4,
 "nbformat_minor": 2
}
