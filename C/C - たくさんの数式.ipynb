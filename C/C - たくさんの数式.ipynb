{
 "cells": [
  {
   "cell_type": "code",
   "execution_count": 19,
   "metadata": {},
   "outputs": [
    {
     "name": "stdout",
     "output_type": "stream",
     "text": [
      "125\n",
      "176\n"
     ]
    }
   ],
   "source": [
    "import numpy as np\n",
    "\n",
    "import numpy as np\n",
    "def Binary_Gen(n):\n",
    "    bina = np.ones(2**n,dtype=object)\n",
    "    for i in range(2**n):\n",
    "        b = str(bin(i))[2:].zfill(n)\n",
    "        bina[i] = b\n",
    "    return bina\n",
    "\n",
    "\n",
    "S =str(input())\n",
    "\n",
    "add_ = Binary_Gen(len(S)-1)\n",
    "\n",
    "\n",
    "\n",
    "\n",
    "\n",
    "count = 0\n",
    "\n",
    "for i in add_:\n",
    "\n",
    "    list_1 = [int(idx) for idx,j in enumerate(str(i)) if j == '1']\n",
    "\n",
    "    if len(list_1)>0:\n",
    "        comp = np.ones(len(list_1)+1)\n",
    "        for k in range(len(comp)):\n",
    "            if k==0:\n",
    "                comp[k] = int(S[:list_1[k]+1])\n",
    "            elif k == (len(comp)-1):\n",
    "                comp[k] = int(S[list_1[k-1]+1:])\n",
    "            else:\n",
    "                comp[k] = int(S[list_1[k-1]+1:list_1[k]+1])\n",
    "\n",
    "        count+= sum(comp)\n",
    "    elif len(list_1)==0:\n",
    "        count+=int(S)\n",
    "        \n",
    "print(int(count))"
   ]
  },
  {
   "cell_type": "code",
   "execution_count": 3,
   "metadata": {},
   "outputs": [
    {
     "name": "stdout",
     "output_type": "stream",
     "text": [
      "500\n"
     ]
    }
   ],
   "source": [
    "print(count)"
   ]
  },
  {
   "cell_type": "code",
   "execution_count": null,
   "metadata": {},
   "outputs": [],
   "source": []
  }
 ],
 "metadata": {
  "kernelspec": {
   "display_name": "Python 3",
   "language": "python",
   "name": "python3"
  },
  "language_info": {
   "codemirror_mode": {
    "name": "ipython",
    "version": 3
   },
   "file_extension": ".py",
   "mimetype": "text/x-python",
   "name": "python",
   "nbconvert_exporter": "python",
   "pygments_lexer": "ipython3",
   "version": "3.7.4"
  }
 },
 "nbformat": 4,
 "nbformat_minor": 2
}
