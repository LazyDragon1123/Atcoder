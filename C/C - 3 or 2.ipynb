{
 "cells": [
  {
   "cell_type": "code",
   "execution_count": 3,
   "metadata": {},
   "outputs": [
    {
     "name": "stdout",
     "output_type": "stream",
     "text": [
      "3\n",
      "8 7 6\n",
      "4.0\n"
     ]
    }
   ],
   "source": [
    "import collections\n",
    "import numpy as np\n",
    "\n",
    "def prime_factorize(n):\n",
    "    a = []\n",
    "    while n % 2 == 0:\n",
    "        a.append(2)\n",
    "        n //= 2\n",
    "    f = 3\n",
    "    while f * f <= n:\n",
    "        if n % f == 0:\n",
    "            a.append(f)\n",
    "            n //= f\n",
    "        else:\n",
    "            f += 2\n",
    "    if n != 1:\n",
    "        a.append(n)\n",
    "    return a\n",
    "\n",
    "N =int(input())\n",
    "\n",
    "a = [int(i) for i in input().split()]\n",
    "\n",
    "ans_array = np.zeros(N)\n",
    "\n",
    "for i in range(N):\n",
    "    dummy = prime_factorize(a[i])\n",
    "    if collections.Counter(dummy).get(2) is not None:\n",
    "        ans_array[i] = collections.Counter(dummy)[2]\n",
    "ans = int(sum(ans_array))\n",
    "print(ans)"
   ]
  },
  {
   "cell_type": "code",
   "execution_count": null,
   "metadata": {},
   "outputs": [],
   "source": [
    "import collections\n",
    "import numpy as np\n",
    "\n",
    "def prime_factorize(n):\n",
    "\ta = 0   \n",
    "\twhile n % 2 == 0:\n",
    "\t\ta+=1\n",
    "\t\tn //= 2\n",
    "\treturn a\n",
    "\n",
    "N =int(input())\n",
    "\n",
    "a = [int(i) for i in input().split()]\n",
    "\n",
    "ans_array = np.zeros(N)\n",
    "\n",
    "for i in range(N):\n",
    "    dummy = prime_factorize(a[i])\n",
    "  \n",
    "    ans_array[i] = dummy\n",
    "ans = int(sum(ans_array))\n",
    "print(ans)\n"
   ]
  }
 ],
 "metadata": {
  "kernelspec": {
   "display_name": "Python 3",
   "language": "python",
   "name": "python3"
  },
  "language_info": {
   "codemirror_mode": {
    "name": "ipython",
    "version": 3
   },
   "file_extension": ".py",
   "mimetype": "text/x-python",
   "name": "python",
   "nbconvert_exporter": "python",
   "pygments_lexer": "ipython3",
   "version": "3.7.4"
  }
 },
 "nbformat": 4,
 "nbformat_minor": 2
}
