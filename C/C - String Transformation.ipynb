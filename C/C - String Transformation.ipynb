{
 "cells": [
  {
   "cell_type": "code",
   "execution_count": 4,
   "metadata": {},
   "outputs": [
    {
     "name": "stdout",
     "output_type": "stream",
     "text": [
      "azz\n",
      "app\n",
      "Yes\n"
     ]
    }
   ],
   "source": [
    "s = str(input())\n",
    "t = str(input())\n",
    "\n",
    "dic = {}\n",
    "ans = 'Yes'\n",
    "\n",
    "for i in range(len(s)):\n",
    "    if dic.get(s[i]) is None:\n",
    "        dic[s[i]] = t[i]\n",
    "        continue\n",
    "    else:\n",
    "        if dic[s[i]] == t[i]:\n",
    "            continue\n",
    "        else:\n",
    "            ans = \"No\"\n",
    "            break\n",
    "            \n",
    "print(ans)\n",
    "            \n",
    "\n",
    "            \n",
    "        "
   ]
  }
 ],
 "metadata": {
  "kernelspec": {
   "display_name": "Python 3",
   "language": "python",
   "name": "python3"
  },
  "language_info": {
   "codemirror_mode": {
    "name": "ipython",
    "version": 3
   },
   "file_extension": ".py",
   "mimetype": "text/x-python",
   "name": "python",
   "nbconvert_exporter": "python",
   "pygments_lexer": "ipython3",
   "version": "3.7.4"
  }
 },
 "nbformat": 4,
 "nbformat_minor": 2
}
