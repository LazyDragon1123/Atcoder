{
 "cells": [
  {
   "cell_type": "code",
   "execution_count": 11,
   "metadata": {},
   "outputs": [
    {
     "name": "stdout",
     "output_type": "stream",
     "text": [
      "3 3\n",
      ".#.\n",
      "###\n",
      ".#.\n",
      "Yes\n"
     ]
    }
   ],
   "source": [
    "h,w = [int(i) for i in input().split()]\n",
    "\n",
    "s = [[] for _ in range(h+2)]\n",
    "\n",
    "for _ in range(0,h+2):\n",
    "    if _ == 0 or _ ==h+1:\n",
    "        temp = '.'*(w+2)\n",
    "    else:\n",
    "        temp = str(input())\n",
    "        temp = '.' + temp + '.'\n",
    "    s[_].append(temp)\n",
    "    \n",
    "flag = 0\n",
    "esc = 0\n",
    "    \n",
    "for i in range(1,h+1):\n",
    "    i_row_f = s[i+1][0]\n",
    "    i_row = s[i][0]\n",
    "    i_row_b = s[i-1][0]\n",
    "    for j in range(1,w+1):\n",
    "        if i_row[j] == '#':\n",
    "            if '#' in [i_row[j-1],i_row[j+1],i_row_f[j],i_row_b[j]]:\n",
    "                continue\n",
    "            else:\n",
    "                flag = 1\n",
    "                esc = 1\n",
    "                break\n",
    "        \n",
    "    if esc == 1:\n",
    "        break\n",
    "        \n",
    "if flag == 0:\n",
    "    print('Yes')\n",
    "else:\n",
    "    print('No')\n",
    "    \n",
    "    \n"
   ]
  },
  {
   "cell_type": "code",
   "execution_count": 8,
   "metadata": {},
   "outputs": [
    {
     "data": {
      "text/plain": [
       "['..#..']"
      ]
     },
     "execution_count": 8,
     "metadata": {},
     "output_type": "execute_result"
    }
   ],
   "source": [
    "i_row"
   ]
  },
  {
   "cell_type": "code",
   "execution_count": null,
   "metadata": {},
   "outputs": [],
   "source": []
  }
 ],
 "metadata": {
  "kernelspec": {
   "display_name": "Python 3",
   "language": "python",
   "name": "python3"
  },
  "language_info": {
   "codemirror_mode": {
    "name": "ipython",
    "version": 3
   },
   "file_extension": ".py",
   "mimetype": "text/x-python",
   "name": "python",
   "nbconvert_exporter": "python",
   "pygments_lexer": "ipython3",
   "version": "3.7.4"
  }
 },
 "nbformat": 4,
 "nbformat_minor": 2
}
