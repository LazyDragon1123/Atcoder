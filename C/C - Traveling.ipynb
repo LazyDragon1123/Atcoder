{
 "cells": [
  {
   "cell_type": "code",
   "execution_count": 7,
   "metadata": {},
   "outputs": [
    {
     "name": "stdout",
     "output_type": "stream",
     "text": [
      "2\n",
      "3 1 2\n",
      "6 1 1\n",
      "Yes\n"
     ]
    }
   ],
   "source": [
    "import numpy as np\n",
    "n = int(input())\n",
    "t, x, y = np.zeros(n+1), np.zeros(n+1), np.zeros(n+1)\n",
    "\n",
    "\n",
    "def feasible(a,b,x,y,m,n):\n",
    "    dist = abs(a-x) + abs(b-y)\n",
    "    time = n - m\n",
    "    \n",
    "    if time >= dist and (time - dist) % 2 ==0:\n",
    "        return True\n",
    "    else:\n",
    "        return False\n",
    "    \n",
    "flag = True\n",
    "for i in range(1,n+1):\n",
    "    t[i], x[i], y[i] = [int(i) for i in input().split()]\n",
    "    \n",
    "    flag = flag and feasible(x[i-1],y[i-1],x[i],y[i],t[i-1],t[i])\n",
    "\n",
    "    \n",
    "if flag:\n",
    "    print('Yes')\n",
    "else:\n",
    "    print('No')\n"
   ]
  },
  {
   "cell_type": "code",
   "execution_count": null,
   "metadata": {},
   "outputs": [],
   "source": []
  }
 ],
 "metadata": {
  "kernelspec": {
   "display_name": "Python 3",
   "language": "python",
   "name": "python3"
  },
  "language_info": {
   "codemirror_mode": {
    "name": "ipython",
    "version": 3
   },
   "file_extension": ".py",
   "mimetype": "text/x-python",
   "name": "python",
   "nbconvert_exporter": "python",
   "pygments_lexer": "ipython3",
   "version": "3.7.4"
  }
 },
 "nbformat": 4,
 "nbformat_minor": 2
}
