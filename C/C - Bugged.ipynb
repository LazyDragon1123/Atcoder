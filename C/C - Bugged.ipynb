{
 "cells": [
  {
   "cell_type": "code",
   "execution_count": null,
   "metadata": {},
   "outputs": [],
   "source": [
    "import numpy as np\n",
    "n = int(input())\n",
    "\n",
    "s = np.ones(n)\n",
    "\n",
    "\n",
    "\n",
    "for i in range(n):\n",
    "    s[i] = int(input())\n",
    "    \n",
    "sum_all = sum(s)\n",
    "\n",
    "s.sort()\n",
    "\n",
    "if sum_all%10!=0:\n",
    "    ans = sum_all\n",
    "else:\n",
    "    for i in range(n):\n",
    "        if s[i]%10 !=0:\n",
    "            ans = sum_all - s[i]\n",
    "            break\n",
    "        elif i==n-1:\n",
    "            ans =0\n",
    "            \n",
    "print(int(ans))\n"
   ]
  }
 ],
 "metadata": {
  "kernelspec": {
   "display_name": "Python 3",
   "language": "python",
   "name": "python3"
  },
  "language_info": {
   "codemirror_mode": {
    "name": "ipython",
    "version": 3
   },
   "file_extension": ".py",
   "mimetype": "text/x-python",
   "name": "python",
   "nbconvert_exporter": "python",
   "pygments_lexer": "ipython3",
   "version": "3.7.4"
  }
 },
 "nbformat": 4,
 "nbformat_minor": 2
}
