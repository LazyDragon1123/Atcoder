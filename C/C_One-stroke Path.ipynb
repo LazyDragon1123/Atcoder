{
 "cells": [
  {
   "cell_type": "code",
   "execution_count": null,
   "metadata": {},
   "outputs": [],
   "source": [
    "# DFS + Recursive\n",
    "N, M = [int(i) for i in input().split()]\n",
    "adj_mat = [[0]* N for _ in range(N)]\n",
    "\n",
    "for i in range(M):\n",
    "    a, b = [int(i) for i in input().split()]\n",
    "    adj_mat[a-1][b-1] = 1\n",
    "    adj_mat[b-1][a-1] = 1\n",
    "\n",
    "def DFS_Recursice(v, tracked):\n",
    "    if not False in tracked: # all tracked\n",
    "        return 1\n",
    "    \n",
    "    ans = 0\n",
    "    for i in range(N):\n",
    "        if adj_mat[v][i]==0: # not connected to \"v\"\n",
    "            continue\n",
    "        if tracked[i]: # i has not been yet tracked\n",
    "            continue\n",
    "        \n",
    "        tracked[i] = True\n",
    "        ans += DFS_Recursice(i, tracked) # v and i are tracked here\n",
    "        tracked[i] = False\n",
    "    \n",
    "    return ans\n",
    "\n",
    "tracked = [False] * N\n",
    "tracked[0] = True # otigin\n",
    "\n",
    "print(int(DFS_Recursice(0, tracked))"
   ]
  }
 ],
 "metadata": {
  "kernelspec": {
   "display_name": "Python 3",
   "language": "python",
   "name": "python3"
  },
  "language_info": {
   "codemirror_mode": {
    "name": "ipython",
    "version": 3
   },
   "file_extension": ".py",
   "mimetype": "text/x-python",
   "name": "python",
   "nbconvert_exporter": "python",
   "pygments_lexer": "ipython3",
   "version": "3.7.4"
  }
 },
 "nbformat": 4,
 "nbformat_minor": 2
}
