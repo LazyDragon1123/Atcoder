{
 "cells": [
  {
   "cell_type": "code",
   "execution_count": null,
   "metadata": {},
   "outputs": [],
   "source": [
    "import numpy as np\n",
    "n = int(input())\n",
    "a = [int(i) for i in input().split()]\n",
    "\n",
    "sorted_a = sort(a,reverse=True)\n",
    "a = sorted_a[::-1]\n",
    "\n",
    "max_1 = 0\n",
    "max_2 = 0\n",
    "max_sqr = 0\n",
    "\n",
    "prev = 0 \n",
    "\n",
    "for i in range(len(a)-1):\n",
    "    if a[i] != a[i+1]:\n",
    "        num = i - prev\n",
    "        prev = i\n",
    "        if num >= 4:\n",
    "            max_sqr = a[i]\n",
    "        elif (num < 4) & (num>1):\n",
    "            if max_1 == 0:\n",
    "                max_1 = a[i]\n",
    "            else:\n",
    "                max_2 = a[i]\n",
    "                \n",
    "    if (max_sqr != 0) | ((max_1 != 0) & (max_2 != 0)):\n",
    "        break\n",
    "        \n",
    "if max_sqr != 0:\n",
    "    if max_sqr < max_1:\n",
    "        ans =max_sqr*max_1\n",
    "    else:\n",
    "        ans = max_sqr**2\n",
    "else:\n",
    "    ans = max1*max_2\n",
    "    \n",
    "print(int(ans))"
   ]
  }
 ],
 "metadata": {
  "kernelspec": {
   "display_name": "Python 3",
   "language": "python",
   "name": "python3"
  },
  "language_info": {
   "codemirror_mode": {
    "name": "ipython",
    "version": 3
   },
   "file_extension": ".py",
   "mimetype": "text/x-python",
   "name": "python",
   "nbconvert_exporter": "python",
   "pygments_lexer": "ipython3",
   "version": "3.7.4"
  }
 },
 "nbformat": 4,
 "nbformat_minor": 2
}
