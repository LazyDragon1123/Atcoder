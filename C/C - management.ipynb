{
 "cells": [
  {
   "cell_type": "code",
   "execution_count": null,
   "metadata": {},
   "outputs": [],
   "source": [
    "import numpy as np\n",
    "n = int(input())\n",
    "\n",
    "a = [int(i) for i in input().split()]\n",
    "\n",
    "ans = np.zeros(n)\n",
    "\n",
    "for i in range(n-1):\n",
    "    ans[a[n-1-i]-1]+=1\n",
    "    pritnt(ans[n-i])\n",
    "    if i ==n-1:\n",
    "        print(ans[0])\n",
    "    \n"
   ]
  }
 ],
 "metadata": {
  "kernelspec": {
   "display_name": "Python 3",
   "language": "python",
   "name": "python3"
  },
  "language_info": {
   "codemirror_mode": {
    "name": "ipython",
    "version": 3
   },
   "file_extension": ".py",
   "mimetype": "text/x-python",
   "name": "python",
   "nbconvert_exporter": "python",
   "pygments_lexer": "ipython3",
   "version": "3.7.4"
  }
 },
 "nbformat": 4,
 "nbformat_minor": 2
}
