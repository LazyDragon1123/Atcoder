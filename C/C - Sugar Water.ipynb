{
 "cells": [
  {
   "cell_type": "code",
   "execution_count": 19,
   "metadata": {},
   "outputs": [
    {
     "name": "stdout",
     "output_type": "stream",
     "text": [
      "17 19 22 26 55 2802\n",
      "2634 934\n"
     ]
    }
   ],
   "source": [
    "a,b,c,d,e,f = [int(i) for i in input().split()]\n",
    "\n",
    "sugar_ratio = 0\n",
    "weight_a = 0\n",
    "weight_sugar = 0\n",
    "\n",
    "max_a = (f // a*100) +1\n",
    "max_b = (f // b*100) +1\n",
    "\n",
    "\n",
    "\n",
    "\n",
    "\n",
    "for i in range(max_a):\n",
    "    if a*i*100 > f:\n",
    "        break\n",
    "    for j in range(max_b):\n",
    "        if (a*i+b*j)*100 > f:\n",
    "            break\n",
    "        else:\n",
    "            max_sug = e*(b*j+i*a)\n",
    "            max_weight = f - (i*a+b*j)*100\n",
    "            max_c = min(max_sug,max_weight)//c\n",
    "            \n",
    "            for k in range(max_c+1):\n",
    "                max_d = ((max_sug - c*k)//d)*d\n",
    "                if max_sug == 0:\n",
    "                    max_sug = float('inf')\n",
    "                ratio = (c*k + max_d) / max_sug \n",
    "                if (ratio > sugar_ratio) & (((a*i+j*b)*100 + c*k + max_d)<=f):\n",
    "                    sugar_ratio = ratio\n",
    "                    weight_a = (a*i+j*b)*100 + c*k + max_d\n",
    "                    weight_sugar =  c*k + max_d\n",
    "                \n",
    "print(weight_a,weight_sugar)"
   ]
  }
 ],
 "metadata": {
  "kernelspec": {
   "display_name": "Python 3",
   "language": "python",
   "name": "python3"
  },
  "language_info": {
   "codemirror_mode": {
    "name": "ipython",
    "version": 3
   },
   "file_extension": ".py",
   "mimetype": "text/x-python",
   "name": "python",
   "nbconvert_exporter": "python",
   "pygments_lexer": "ipython3",
   "version": "3.7.4"
  }
 },
 "nbformat": 4,
 "nbformat_minor": 2
}
