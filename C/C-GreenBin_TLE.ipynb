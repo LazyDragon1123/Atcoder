{
 "cells": [
  {
   "cell_type": "code",
   "execution_count": 28,
   "metadata": {},
   "outputs": [],
   "source": [
    "import numpy as np\n",
    "import math"
   ]
  },
  {
   "cell_type": "code",
   "execution_count": 29,
   "metadata": {},
   "outputs": [
    {
     "name": "stdout",
     "output_type": "stream",
     "text": [
      "3\n",
      "aa\n",
      "bb\n",
      "aa\n"
     ]
    }
   ],
   "source": [
    "# input\n",
    "\n",
    "N = int(input())\n",
    "s = [str(input()) for _ in range(N)]"
   ]
  },
  {
   "cell_type": "code",
   "execution_count": 30,
   "metadata": {},
   "outputs": [],
   "source": [
    "# sort\n",
    "for i in range(0,N):\n",
    "    s[i] = sorted(s[i])"
   ]
  },
  {
   "cell_type": "code",
   "execution_count": 31,
   "metadata": {},
   "outputs": [],
   "source": [
    "def Number_Each_Element(group):\n",
    "    group = sorted(group)\n",
    "    discrepancy = np.array([])\n",
    "    \n",
    "    for i in range(len(group)-1):\n",
    "        if group[i] != group[i+1]:\n",
    "            discrepancy = np.append(discrepancy,i)\n",
    "    discrepancy = np.append(discrepancy,len(group)-1)\n",
    "    \n",
    "    \n",
    "    result = np.ones(len(discrepancy))\n",
    "    for i in range(len(result)):\n",
    "        if i == 0:\n",
    "            result[i] = int(discrepancy[i]+1)\n",
    "        else:\n",
    "            result[i] = int(discrepancy[i]-discrepancy[i-1])\n",
    "            \n",
    "            \n",
    "    return result"
   ]
  },
  {
   "cell_type": "code",
   "execution_count": 32,
   "metadata": {},
   "outputs": [],
   "source": [
    "result = Number_Each_Element(s)"
   ]
  },
  {
   "cell_type": "code",
   "execution_count": 33,
   "metadata": {},
   "outputs": [],
   "source": [
    "count = 0\n",
    "for i in result:\n",
    "    count += i*(i-1)/2\n",
    "\n",
    "print(int(count))"
   ]
  },
  {
   "cell_type": "code",
   "execution_count": 34,
   "metadata": {},
   "outputs": [
    {
     "data": {
      "text/plain": [
       "1.0"
      ]
     },
     "execution_count": 34,
     "metadata": {},
     "output_type": "execute_result"
    }
   ],
   "source": []
  },
  {
   "cell_type": "code",
   "execution_count": null,
   "metadata": {},
   "outputs": [],
   "source": []
  }
 ],
 "metadata": {
  "kernelspec": {
   "display_name": "Python 3",
   "language": "python",
   "name": "python3"
  },
  "language_info": {
   "codemirror_mode": {
    "name": "ipython",
    "version": 3
   },
   "file_extension": ".py",
   "mimetype": "text/x-python",
   "name": "python",
   "nbconvert_exporter": "python",
   "pygments_lexer": "ipython3",
   "version": "3.7.4"
  }
 },
 "nbformat": 4,
 "nbformat_minor": 2
}
