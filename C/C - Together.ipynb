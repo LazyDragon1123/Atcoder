{
 "cells": [
  {
   "cell_type": "code",
   "execution_count": null,
   "metadata": {},
   "outputs": [],
   "source": [
    "import numpy as np\n",
    "n = int (input())\n",
    "a = [int(i) for i in input().split()]\n",
    "\n",
    "a_sort = np.sort(a)\n",
    "a_min = a_sort[0]-1\n",
    "a_max = a_sort[-1]+1\n",
    "#num_cand = a_max_a_min + +1\n",
    "\n",
    "\n",
    "dic = {}\n",
    "for i in range(len(a_sort)):\n",
    "    added = [a_sort[i]-1, a_sort[i] ,a_sort[i]+1]\n",
    "    for j in range(len(added)):\n",
    "        if dic.get(added[j]) is None:\n",
    "                  dic[added[j]] = 1\n",
    "        else:\n",
    "            dic[added[j]] += 1\n",
    "            \n",
    "            \n",
    "            \n",
    "val = max(list(dic.values()))\n",
    "\n",
    "print(int(val))\n"
   ]
  },
  {
   "cell_type": "code",
   "execution_count": null,
   "metadata": {},
   "outputs": [],
   "source": []
  }
 ],
 "metadata": {
  "kernelspec": {
   "display_name": "Python 3",
   "language": "python",
   "name": "python3"
  },
  "language_info": {
   "codemirror_mode": {
    "name": "ipython",
    "version": 3
   },
   "file_extension": ".py",
   "mimetype": "text/x-python",
   "name": "python",
   "nbconvert_exporter": "python",
   "pygments_lexer": "ipython3",
   "version": "3.7.4"
  }
 },
 "nbformat": 4,
 "nbformat_minor": 2
}
