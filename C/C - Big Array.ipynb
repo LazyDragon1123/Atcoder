{
 "cells": [
  {
   "cell_type": "code",
   "execution_count": 12,
   "metadata": {},
   "outputs": [
    {
     "name": "stdout",
     "output_type": "stream",
     "text": [
      "3 4\n",
      "1 1\n",
      "2 2\n",
      "3 3\n",
      "3\n"
     ]
    }
   ],
   "source": [
    "import numpy as np\n",
    "\n",
    "N,K = [int(i) for i in input().split()]\n",
    "\n",
    "ab = np.ones([N,2])\n",
    "\n",
    "for i in range(N):\n",
    "    ab[i,0], ab[i,1] = [int(i) for i in input().split()]\n",
    "\n",
    "ab_sort = ab[np.argsort(ab[:,0])]\n",
    "\n",
    "cout = 0\n",
    "\n",
    "for i in range(N):\n",
    "    cout += ab_sort[i,1]\n",
    "    if cout >= K:\n",
    "        print(int(ab_sort[i,0]))\n",
    "        break\n"
   ]
  }
 ],
 "metadata": {
  "kernelspec": {
   "display_name": "Python 3",
   "language": "python",
   "name": "python3"
  },
  "language_info": {
   "codemirror_mode": {
    "name": "ipython",
    "version": 3
   },
   "file_extension": ".py",
   "mimetype": "text/x-python",
   "name": "python",
   "nbconvert_exporter": "python",
   "pygments_lexer": "ipython3",
   "version": "3.7.4"
  }
 },
 "nbformat": 4,
 "nbformat_minor": 2
}
