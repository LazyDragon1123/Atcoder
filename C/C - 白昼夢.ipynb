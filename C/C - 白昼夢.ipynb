{
 "cells": [
  {
   "cell_type": "code",
   "execution_count": null,
   "metadata": {},
   "outputs": [],
   "source": [
    "\"\"\"\n",
    "\"e\"\n",
    "str[:4]= 'erase' and     :else break\n",
    "\n",
    "\n",
    "str[+5] = r        : + eraser\n",
    "str[+5] = d     : + erase\n",
    "    others: break No\n",
    "\n",
    "\"d\"\n",
    "str[:4] ='dream' and       : else break\n",
    "\n",
    "str[+5] ='d'    : +dream\n",
    "str[5:6]='er'\n",
    "    str[7] == 'd' |'e' dreamer\n",
    "        others:dream\n",
    "        \n",
    "others break\n",
    "\n",
    "\n",
    "\n",
    "    \n",
    "\n",
    "\n",
    "\n",
    "\n",
    "\"\"\""
   ]
  },
  {
   "cell_type": "code",
   "execution_count": null,
   "metadata": {},
   "outputs": [],
   "source": [
    "s = str(input())\n",
    "\n",
    "s = s[::-1]\n",
    "\n",
    "t =str()\n",
    "\n",
    "i=0\n",
    "\n",
    "while len(t)<len(S):\n",
    "    if s[i] == 'r':\n",
    "        t = t +'eraser'\n",
    "                i+=6\n",
    "            elif s[i+5] == 'd':\n",
    "                t = t +'erase'\n",
    "                i+=5\n",
    "                "
   ]
  }
 ],
 "metadata": {
  "kernelspec": {
   "display_name": "Python 3",
   "language": "python",
   "name": "python3"
  },
  "language_info": {
   "codemirror_mode": {
    "name": "ipython",
    "version": 3
   },
   "file_extension": ".py",
   "mimetype": "text/x-python",
   "name": "python",
   "nbconvert_exporter": "python",
   "pygments_lexer": "ipython3",
   "version": "3.7.4"
  }
 },
 "nbformat": 4,
 "nbformat_minor": 2
}
