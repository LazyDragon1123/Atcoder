{
 "cells": [
  {
   "cell_type": "code",
   "execution_count": 8,
   "metadata": {},
   "outputs": [
    {
     "name": "stdout",
     "output_type": "stream",
     "text": [
      "5\n",
      "M\n",
      "R\n",
      "O\n",
      "H\n",
      "H\n",
      "2\n"
     ]
    }
   ],
   "source": [
    "from itertools import combinations\n",
    "n = int(input())\n",
    "sta = ['M','A','R','C','H']\n",
    "dic = {}\n",
    "\n",
    "for _ in range(n):\n",
    "    name = str(input())\n",
    "    fir = name[0]\n",
    "    \n",
    "    if fir in sta:\n",
    "        if dic.get(fir) is None:\n",
    "            dic[fir] = 1\n",
    "        else:\n",
    "            dic[fir] += 1\n",
    "    \n",
    "names = len(list(dic.keys()))\n",
    "val = list(dic.values())\n",
    "\n",
    "if names <3:\n",
    "    ans = 0\n",
    "elif names == 3:\n",
    "    ans = 1\n",
    "    for i in val:\n",
    "        ans *= int(i)\n",
    "        \n",
    "else:\n",
    "    ans = 0\n",
    "    for i in combinations(val,3):\n",
    "        adding = 1\n",
    "        for j in i:\n",
    "            adding *= int(j)\n",
    "        \n",
    "        ans += adding\n",
    "\n",
    "print(ans)\n",
    "        \n",
    "    \n"
   ]
  }
 ],
 "metadata": {
  "kernelspec": {
   "display_name": "Python 3",
   "language": "python",
   "name": "python3"
  },
  "language_info": {
   "codemirror_mode": {
    "name": "ipython",
    "version": 3
   },
   "file_extension": ".py",
   "mimetype": "text/x-python",
   "name": "python",
   "nbconvert_exporter": "python",
   "pygments_lexer": "ipython3",
   "version": "3.7.4"
  }
 },
 "nbformat": 4,
 "nbformat_minor": 2
}
