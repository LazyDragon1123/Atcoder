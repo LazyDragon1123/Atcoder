{
 "cells": [
  {
   "cell_type": "code",
   "execution_count": 12,
   "metadata": {},
   "outputs": [
    {
     "name": "stdout",
     "output_type": "stream",
     "text": [
      "1 2 3\n",
      "2 3 4\n",
      "3 4 5\n"
     ]
    }
   ],
   "source": [
    "import numpy as np\n",
    "c = np.ones([3,3])\n",
    "for i in range(3):\n",
    "    c[i] = [int(j) for j in input().split()]\n",
    "    \n",
    "if ((((c[2]-c[1])/(c[2]-c[1])[0])).all() ==(((c[2]-c[0])/(c[2]-c[0])[0])).all()) & ((((c[:][2]-c[:][1])/((c[:][2]-c[:][1])[0])).all()) ==(((c[:][2]-c[:][0])/(c[:][2]-c[:][0])[0])).all()):\n",
    "    if ((((c[2]-c[1])/(c[2]-c[1])[1])).all() ==(((c[2]-c[0])/(c[2]-c[0])[1])).all()) & ((((c[:][2]-c[:][1])/((c[:][2]-c[:][1])[1])).all()) ==(((c[:][2]-c[:][0])/(c[:][2]-c[:][0])[1])).all()):\n",
    "        if ((((c[2]-c[1])/(c[2]-c[1])[2])).all() ==(((c[2]-c[0])/(c[2]-c[0])[2])).all()) & ((((c[:][2]-c[:][1])/((c[:][2]-c[:][1])[2])).all()) ==(((c[:][2]-c[:][0])/(c[:][2]-c[:][0])[2])).all()):\n",
    "            print(\"Yes\")\n",
    "else:\n",
    "    print(\"No\")"
   ]
  },
  {
   "cell_type": "code",
   "execution_count": null,
   "metadata": {},
   "outputs": [],
   "source": []
  }
 ],
 "metadata": {
  "kernelspec": {
   "display_name": "Python 3",
   "language": "python",
   "name": "python3"
  },
  "language_info": {
   "codemirror_mode": {
    "name": "ipython",
    "version": 3
   },
   "file_extension": ".py",
   "mimetype": "text/x-python",
   "name": "python",
   "nbconvert_exporter": "python",
   "pygments_lexer": "ipython3",
   "version": "3.7.4"
  }
 },
 "nbformat": 4,
 "nbformat_minor": 2
}
