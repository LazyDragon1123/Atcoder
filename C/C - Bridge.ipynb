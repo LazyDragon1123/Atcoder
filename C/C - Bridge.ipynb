{
 "cells": [
  {
   "cell_type": "code",
   "execution_count": 27,
   "metadata": {},
   "outputs": [
    {
     "name": "stdout",
     "output_type": "stream",
     "text": [
      "7 7\n",
      "1 3\n",
      "2 7\n",
      "3 4\n",
      "4 5\n",
      "4 6\n",
      "5 6\n",
      "6 7\n",
      "[[inf inf  1. inf inf inf inf]\n",
      " [inf inf inf inf inf inf  1.]\n",
      " [ 1. inf inf  1. inf inf inf]\n",
      " [inf inf  1. inf  1.  1. inf]\n",
      " [inf inf inf  1. inf  1. inf]\n",
      " [inf inf inf  1.  1. inf  1.]\n",
      " [inf  1. inf inf inf  1. inf]]\n",
      "6\n"
     ]
    }
   ],
   "source": [
    "import numpy as np\n",
    "n, m = [int(i) for i in input().split()]\n",
    "\n",
    "s = np.ones([n,n])*float('inf')\n",
    "\n",
    "a = np.zeros(m)\n",
    "b = np.zeros(m)\n",
    "\n",
    "for i in range(m):\n",
    "    a[i], b[i] = [int(i) for i in input().split()]\n",
    "    \n",
    "    s[int(a[i]-1),int(b[i]-1)] = 1\n",
    "    s[int(b[i]-1),int(a[i]-1)] = 1\n",
    "    \n",
    "   \n",
    "\n",
    "\n",
    "def floyd_warshall(weights,n):\n",
    "    distance_matrix = weights\n",
    "    for k in range(n):\n",
    "        for i in range(n):\n",
    "            for j in range(n):\n",
    "                distance_matrix[i,j] = min(distance_matrix[i,j], distance_matrix[i,k] + distance_matrix[k,j])\n",
    "    return distance_matrix\n",
    "\n",
    "\n",
    "\n",
    "cout = 0\n",
    "\n",
    "for i in range(m):\n",
    "    dum = s\n",
    "    dum[int(a[i]-1),int(b[i]-1)] = float('inf')\n",
    "    dum[int(b[i]-1),int(a[i]-1)] = float('inf')\n",
    "\n",
    "    s_exp = floyd_warshall(dum,n)\n",
    "    if float('inf') in s_exp[0][:]:\n",
    "        cout +=1\n",
    "    s[int(a[i]-1),int(b[i]-1)] = 1\n",
    "    s[int(b[i]-1),int(a[i]-1)] = 1\n",
    "    \n",
    "ans = cout\n",
    "\n",
    "print(ans)"
   ]
  },
  {
   "cell_type": "markdown",
   "metadata": {},
   "source": [
    "## 7 7\n",
    "1 3\n",
    "2 7\n",
    "3 4\n",
    "4 5\n",
    "4 6\n",
    "5 6\n",
    "6 7"
   ]
  },
  {
   "cell_type": "code",
   "execution_count": 24,
   "metadata": {},
   "outputs": [
    {
     "data": {
      "text/plain": [
       "[[1, 1, 1, 1, 1, 1, 1],\n",
       " [1, 1, 1, 1, 1, 1, 1],\n",
       " [1, 1, 1, 1, 1, 1, 1],\n",
       " [1, 1, 1, 1, 1, 1, 1],\n",
       " [1, 1, 1, 1, 1, 1, 1],\n",
       " [1, 1, 1, 1, 1, 1, 1],\n",
       " [1, 1, 1, 1, 1, 1, 1]]"
      ]
     },
     "execution_count": 24,
     "metadata": {},
     "output_type": "execute_result"
    }
   ],
   "source": [
    "s"
   ]
  },
  {
   "cell_type": "code",
   "execution_count": null,
   "metadata": {},
   "outputs": [],
   "source": []
  }
 ],
 "metadata": {
  "kernelspec": {
   "display_name": "Python 3",
   "language": "python",
   "name": "python3"
  },
  "language_info": {
   "codemirror_mode": {
    "name": "ipython",
    "version": 3
   },
   "file_extension": ".py",
   "mimetype": "text/x-python",
   "name": "python",
   "nbconvert_exporter": "python",
   "pygments_lexer": "ipython3",
   "version": "3.7.4"
  }
 },
 "nbformat": 4,
 "nbformat_minor": 2
}
