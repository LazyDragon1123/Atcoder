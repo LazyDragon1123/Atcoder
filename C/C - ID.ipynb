{
 "cells": [
  {
   "cell_type": "code",
   "execution_count": 28,
   "metadata": {},
   "outputs": [
    {
     "name": "stdout",
     "output_type": "stream",
     "text": [
      "2 3\n",
      "1 32\n",
      "2 53\n",
      "1 12\n",
      "000001000002\n",
      "000002000001\n",
      "000001000001\n"
     ]
    }
   ],
   "source": [
    "import numpy as np\n",
    "n,m = [int(i) for i in input().split()]\n",
    "\n",
    "ind =[]\n",
    "p= []\n",
    "y = []\n",
    "\n",
    "for i in range(m):\n",
    "    ind_ = i\n",
    "    p_,y_ = [int(i) for i in input().split()]\n",
    "    \n",
    "    ind.append(ind_)\n",
    "    p.append(p_)\n",
    "    y.append(y_)\n",
    "\n",
    "temp1 = np.array([ind, p, y])\n",
    "\n",
    "temp1 = temp1[:,np.argsort(temp1[2])]\n",
    "\n",
    "def labe(pre,yr):\n",
    "    num_pre = len(str(pre))\n",
    "    num_yr = len(str(yr))\n",
    "    \n",
    "    res = '0'*(6-num_pre) + str(pre)  + '0'*(6-num_yr) + str(yr) \n",
    "    \n",
    "    return res\n",
    "\n",
    "inds = []\n",
    "labs = []\n",
    "dic = {}\n",
    "\n",
    "for i in range(m):\n",
    "    if dic.get(temp1[1][i]) is None:\n",
    "        dic[temp1[1][i]] = 1\n",
    "    else:\n",
    "        dic[temp1[1][i]] += 1\n",
    "    lab = labe(temp1[1][i], dic[temp1[1][i]])\n",
    "    ind = temp1[0][i]\n",
    "    \n",
    "    inds.append(int(ind))\n",
    "    labs.append(lab)\n",
    "    \n",
    "temp2 = np.array([inds, labs])\n",
    "temp2 = temp2[:,np.argsort(temp2[0])]\n",
    "\n",
    "    \n",
    "for i in range(m):\n",
    "    print(temp2[1][i])\n",
    "    \n",
    "    "
   ]
  }
 ],
 "metadata": {
  "kernelspec": {
   "display_name": "Python 3",
   "language": "python",
   "name": "python3"
  },
  "language_info": {
   "codemirror_mode": {
    "name": "ipython",
    "version": 3
   },
   "file_extension": ".py",
   "mimetype": "text/x-python",
   "name": "python",
   "nbconvert_exporter": "python",
   "pygments_lexer": "ipython3",
   "version": "3.7.4"
  }
 },
 "nbformat": 4,
 "nbformat_minor": 2
}
