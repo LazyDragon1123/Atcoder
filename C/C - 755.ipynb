{
 "cells": [
  {
   "cell_type": "code",
   "execution_count": 11,
   "metadata": {},
   "outputs": [
    {
     "name": "stdout",
     "output_type": "stream",
     "text": [
      "3600\n",
      "357\n",
      "375\n",
      "537\n",
      "573\n",
      "735\n",
      "753\n",
      "3357\n",
      "3375\n",
      "3537\n",
      "3557\n",
      "3573\n",
      "3575\n",
      "3577\n",
      "13\n"
     ]
    }
   ],
   "source": [
    "import itertools \n",
    "\n",
    "n = int(input())\n",
    "\n",
    "dig = len(str(n))\n",
    "\n",
    "\n",
    "\n",
    "ans = 0\n",
    "\n",
    "for i in itertools.product('0357',repeat = dig):\n",
    "    temp = ''.join(list(i))\n",
    "    num = int(temp)  \n",
    "    temp= str(num)\n",
    "    if '3' in temp and '5' in temp and '7' in temp and '0' not in temp:    \n",
    "        if num <= n:\n",
    "\n",
    "            ans += 1\n",
    "        \n",
    "print(ans)"
   ]
  },
  {
   "cell_type": "code",
   "execution_count": 9,
   "metadata": {},
   "outputs": [
    {
     "data": {
      "text/plain": [
       "('7', '7', '7')"
      ]
     },
     "execution_count": 9,
     "metadata": {},
     "output_type": "execute_result"
    }
   ],
   "source": [
    "i[]"
   ]
  },
  {
   "cell_type": "code",
   "execution_count": null,
   "metadata": {},
   "outputs": [],
   "source": []
  }
 ],
 "metadata": {
  "kernelspec": {
   "display_name": "Python 3",
   "language": "python",
   "name": "python3"
  },
  "language_info": {
   "codemirror_mode": {
    "name": "ipython",
    "version": 3
   },
   "file_extension": ".py",
   "mimetype": "text/x-python",
   "name": "python",
   "nbconvert_exporter": "python",
   "pygments_lexer": "ipython3",
   "version": "3.7.4"
  }
 },
 "nbformat": 4,
 "nbformat_minor": 2
}
