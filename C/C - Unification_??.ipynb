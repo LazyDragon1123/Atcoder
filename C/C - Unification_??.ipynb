{
 "cells": [
  {
   "cell_type": "code",
   "execution_count": 4,
   "metadata": {},
   "outputs": [
    {
     "name": "stdout",
     "output_type": "stream",
     "text": [
      "11011010001011\n",
      "10\n"
     ]
    }
   ],
   "source": [
    "import numpy as np\n",
    "\n",
    "S = str(input())\n",
    "\n",
    "r = '00'\n",
    "b = '11'\n",
    "\n",
    "count=0\n",
    "i=0\n",
    "while i < (len(S)-1):\n",
    "    if r == S[i:i+2]:\n",
    "        S = S.replace(r,'',1)\n",
    "        count+=1\n",
    "        i=0\n",
    "    if b == S[i:i+2]:\n",
    "        S = S.replace(b,'',1)\n",
    "        count+=1\n",
    "        i=0\n",
    "    else:\n",
    "        i+=1\n",
    "        \n",
    "print(int(2*count))"
   ]
  },
  {
   "cell_type": "code",
   "execution_count": null,
   "metadata": {},
   "outputs": [],
   "source": []
  }
 ],
 "metadata": {
  "kernelspec": {
   "display_name": "Python 3",
   "language": "python",
   "name": "python3"
  },
  "language_info": {
   "codemirror_mode": {
    "name": "ipython",
    "version": 3
   },
   "file_extension": ".py",
   "mimetype": "text/x-python",
   "name": "python",
   "nbconvert_exporter": "python",
   "pygments_lexer": "ipython3",
   "version": "3.7.4"
  }
 },
 "nbformat": 4,
 "nbformat_minor": 2
}
