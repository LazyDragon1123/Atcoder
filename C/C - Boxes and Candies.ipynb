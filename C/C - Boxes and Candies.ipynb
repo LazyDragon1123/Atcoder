{
 "cells": [
  {
   "cell_type": "code",
   "execution_count": 4,
   "metadata": {},
   "outputs": [
    {
     "name": "stdout",
     "output_type": "stream",
     "text": [
      "2 0\n",
      "5 5\n",
      "0\n",
      "5\n"
     ]
    }
   ],
   "source": [
    "N, x = [int(i) for i in input().split()]\n",
    "\n",
    "a = [int(i) for i in input().split()]\n",
    "ans = 0 \n",
    "\n",
    "if a[0] > x:\n",
    "    ans+=a[0]-x\n",
    "    a[0] = x\n",
    "\n",
    "for i in range(1, N):\n",
    "    if (a[i-1]+a[i] > x):       \n",
    "        ans+= (a[i]-(x-a[i-1]))\n",
    "        a[i] = x-a[i-1]\n",
    "        \n",
    "print(int(ans))"
   ]
  },
  {
   "cell_type": "code",
   "execution_count": null,
   "metadata": {},
   "outputs": [],
   "source": []
  }
 ],
 "metadata": {
  "kernelspec": {
   "display_name": "Python 3",
   "language": "python",
   "name": "python3"
  },
  "language_info": {
   "codemirror_mode": {
    "name": "ipython",
    "version": 3
   },
   "file_extension": ".py",
   "mimetype": "text/x-python",
   "name": "python",
   "nbconvert_exporter": "python",
   "pygments_lexer": "ipython3",
   "version": "3.7.4"
  }
 },
 "nbformat": 4,
 "nbformat_minor": 2
}
