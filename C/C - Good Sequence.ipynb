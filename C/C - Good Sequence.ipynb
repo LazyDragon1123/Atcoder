{
 "cells": [
  {
   "cell_type": "code",
   "execution_count": 4,
   "metadata": {},
   "outputs": [
    {
     "name": "stdout",
     "output_type": "stream",
     "text": [
      "4\n",
      "3 3 3 3\n",
      "3 4\n",
      "1\n"
     ]
    }
   ],
   "source": [
    "n = int(input())\n",
    "a = [int(i) for i in input().split()]\n",
    "\n",
    "dic = {}\n",
    "\n",
    "for i in a:\n",
    "    if dic.get(i) is None:\n",
    "        dic[i] = 1\n",
    "    else:\n",
    "        dic[i] += 1\n",
    "        \n",
    "ans = 0\n",
    "        \n",
    "for i in dic:\n",
    "    num = dic[i]\n",
    "    val = i\n",
    "\n",
    "    if i > num:\n",
    "        ans += num\n",
    "    else:\n",
    "        ans += (num - i)\n",
    "        \n",
    "print(int(ans))"
   ]
  },
  {
   "cell_type": "code",
   "execution_count": null,
   "metadata": {},
   "outputs": [],
   "source": []
  }
 ],
 "metadata": {
  "kernelspec": {
   "display_name": "Python 3",
   "language": "python",
   "name": "python3"
  },
  "language_info": {
   "codemirror_mode": {
    "name": "ipython",
    "version": 3
   },
   "file_extension": ".py",
   "mimetype": "text/x-python",
   "name": "python",
   "nbconvert_exporter": "python",
   "pygments_lexer": "ipython3",
   "version": "3.7.4"
  }
 },
 "nbformat": 4,
 "nbformat_minor": 2
}
