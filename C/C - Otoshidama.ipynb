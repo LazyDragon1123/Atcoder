{
 "cells": [
  {
   "cell_type": "code",
   "execution_count": 4,
   "metadata": {},
   "outputs": [
    {
     "name": "stdout",
     "output_type": "stream",
     "text": [
      "9 45000\n",
      "0 9 0\n"
     ]
    }
   ],
   "source": [
    "'''\n",
    "Y - 10000*i = 5000*j + 1000*k = 5000j + 1000(n-i-j),Y = 4000j + 9000i + 1000n:  (Y-11000i - 1000n)%4000 = 0?\n",
    "j+k = n - i\n",
    "k = n - i - j\n",
    "\n",
    "'''\n",
    "\n",
    "n, y = [int(i) for i in input().split()]\n",
    "\n",
    "\n",
    "flag = 0\n",
    "\n",
    "for i in range(n+1):\n",
    "    if 10000*i > y:\n",
    "        break\n",
    "    else:\n",
    "        j = float((y - 9000*i - 1000*n) / 4000)\n",
    "        if j == int(j):\n",
    "            flag = 1\n",
    "            break\n",
    "            \n",
    "if flag == 0:\n",
    "    ans = '-1 -1 -1'\n",
    "    \n",
    "else:\n",
    "    ans = str(i) + ' ' + str(int(j)) + ' ' + str(int(n - i - j))\n",
    "    \n",
    "print(ans)\n",
    "        "
   ]
  },
  {
   "cell_type": "code",
   "execution_count": null,
   "metadata": {},
   "outputs": [],
   "source": []
  }
 ],
 "metadata": {
  "kernelspec": {
   "display_name": "Python 3",
   "language": "python",
   "name": "python3"
  },
  "language_info": {
   "codemirror_mode": {
    "name": "ipython",
    "version": 3
   },
   "file_extension": ".py",
   "mimetype": "text/x-python",
   "name": "python",
   "nbconvert_exporter": "python",
   "pygments_lexer": "ipython3",
   "version": "3.7.4"
  }
 },
 "nbformat": 4,
 "nbformat_minor": 2
}
