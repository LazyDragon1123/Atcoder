{
 "cells": [
  {
   "cell_type": "code",
   "execution_count": null,
   "metadata": {},
   "outputs": [],
   "source": [
    "q = int(input())\n",
    "\n",
    "for _ in range(q):\n",
    "    a, b = [int(i) for i in input().split()]\n",
    "    m = max(a,b)\n",
    "    n = min(a,b)\n",
    "    \n",
    "    ans = int((m*n-1)//(n+1)) + min(m-1-int((m-1)//(n+1)),n-1)\n",
    "    \n",
    "    print(ans)"
   ]
  }
 ],
 "metadata": {
  "kernelspec": {
   "display_name": "Python 3",
   "language": "python",
   "name": "python3"
  },
  "language_info": {
   "codemirror_mode": {
    "name": "ipython",
    "version": 3
   },
   "file_extension": ".py",
   "mimetype": "text/x-python",
   "name": "python",
   "nbconvert_exporter": "python",
   "pygments_lexer": "ipython3",
   "version": "3.7.4"
  }
 },
 "nbformat": 4,
 "nbformat_minor": 2
}
