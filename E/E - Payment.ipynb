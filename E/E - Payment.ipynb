{
 "cells": [
  {
   "cell_type": "code",
   "execution_count": 20,
   "metadata": {},
   "outputs": [
    {
     "name": "stdout",
     "output_type": "stream",
     "text": [
      "91\n",
      "3\n"
     ]
    }
   ],
   "source": [
    "import numpy as np\n",
    "\n",
    "Ns =str(input())\n",
    "sub = np.ones(len(Ns))\n",
    "\n",
    "for j in range(len(Ns)):\n",
    "    i = len(Ns)-j-1\n",
    "    intt = int(Ns[i])\n",
    "    if j == 0:\n",
    "        sub[i] = intt\n",
    "    else:\n",
    "        if sub[i+1]>4:\n",
    "            sub[i]= intt+1\n",
    "        else:\n",
    "            sub[i] = intt\n",
    "\n",
    "\n",
    "count = 0\n",
    "for i in sub:\n",
    "    i = int(i)\n",
    "    if 10>i>5:\n",
    "        count+=(11-i)\n",
    "    elif i<6:\n",
    "        count+=i\n",
    "    elif i==10:\n",
    "        pass\n",
    "count = int(count)\n",
    "\n",
    "print(count)"
   ]
  },
  {
   "cell_type": "code",
   "execution_count": 8,
   "metadata": {},
   "outputs": [
    {
     "name": "stdout",
     "output_type": "stream",
     "text": [
      "314159265358979323846264338327950288419716939937551058209749445923078164062862089986280348253421170\n"
     ]
    }
   ],
   "source": [
    "print(Ns)"
   ]
  },
  {
   "cell_type": "code",
   "execution_count": null,
   "metadata": {},
   "outputs": [],
   "source": []
  }
 ],
 "metadata": {
  "kernelspec": {
   "display_name": "Python 3",
   "language": "python",
   "name": "python3"
  },
  "language_info": {
   "codemirror_mode": {
    "name": "ipython",
    "version": 3
   },
   "file_extension": ".py",
   "mimetype": "text/x-python",
   "name": "python",
   "nbconvert_exporter": "python",
   "pygments_lexer": "ipython3",
   "version": "3.7.4"
  }
 },
 "nbformat": 4,
 "nbformat_minor": 2
}
