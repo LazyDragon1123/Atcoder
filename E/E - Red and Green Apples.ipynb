{
 "cells": [
  {
   "cell_type": "code",
   "execution_count": 12,
   "metadata": {},
   "outputs": [
    {
     "name": "stdout",
     "output_type": "stream",
     "text": [
      "1 2 2 2 1\n",
      "2 4 \n",
      "5 1\n",
      "3\n",
      "12\n"
     ]
    }
   ],
   "source": [
    "import numpy as np\n",
    "\n",
    "X,Y,A,B,C = [int(i) for i in input().split()]\n",
    "\n",
    "p = [int(i) for i in input().split()]\n",
    "\n",
    "q = [int(i) for i in input().split()]\n",
    "\n",
    "r = [int(i) for i in input().split()]\n",
    "\n",
    "\n",
    "p.sort(reverse =True)\n",
    "q.sort(reverse=True)\n",
    "r.sort(reverse=True)\n",
    "\n",
    "#initial\n",
    "\n",
    "x_ans = p[:X]\n",
    "y_ans = q[:Y]\n",
    "\n",
    "ans = sum(x_ans) + sum(y_ans)\n",
    "\n",
    "x_mark = -1\n",
    "y_mark = -1\n",
    "for i in range(len(r)):\n",
    "    \n",
    "    if -x_mark > len(x_ans):\n",
    "        x_mark +=len(x_ans)\n",
    "    if -y_mark > len(y_ans):\n",
    "        y_mark +=len(y_ans)\n",
    "        \n",
    "    del_x = r[i] - x_ans[x_mark]\n",
    "    del_y = r[i] - y_ans[y_mark]\n",
    "    if (del_x<=0) & (del_y<=0):\n",
    "        break\n",
    "    else:\n",
    "        if del_x>=del_y:\n",
    "            ans = ans +del_x \n",
    "            x_mark-=1\n",
    "        else:\n",
    "            ans = ans +del_y\n",
    "            y_mark-=1\n",
    "            \n",
    "print(ans)\n",
    "            "
   ]
  }
 ],
 "metadata": {
  "kernelspec": {
   "display_name": "Python 3",
   "language": "python",
   "name": "python3"
  },
  "language_info": {
   "codemirror_mode": {
    "name": "ipython",
    "version": 3
   },
   "file_extension": ".py",
   "mimetype": "text/x-python",
   "name": "python",
   "nbconvert_exporter": "python",
   "pygments_lexer": "ipython3",
   "version": "3.7.4"
  }
 },
 "nbformat": 4,
 "nbformat_minor": 2
}
