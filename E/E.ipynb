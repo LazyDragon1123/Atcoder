{
 "cells": [
  {
   "cell_type": "code",
   "execution_count": 1,
   "metadata": {},
   "outputs": [
    {
     "name": "stdout",
     "output_type": "stream",
     "text": [
      "4 3\n",
      "3543\n",
      "6\n"
     ]
    }
   ],
   "source": [
    "import numpy as np\n",
    "\n",
    "N,P =[int(i) for i in input().split()]\n",
    "\n",
    "S=str(input())\n",
    "\n",
    "s=np.ones(N+1)\n",
    "\n",
    "s[0]=0\n",
    "\n",
    "for i in range(1,N+1):\n",
    "    plu=0\n",
    "    for j in range(i):\n",
    "        num = int(S[i-1-j:i])\n",
    "        if num%P==0:\n",
    "            plu+=1\n",
    "            \n",
    "    s[i]=s[i-1]+plu\n",
    "    \n",
    "print(int(s[-1]))"
   ]
  },
  {
   "cell_type": "code",
   "execution_count": null,
   "metadata": {},
   "outputs": [],
   "source": [
    "4 3\n",
    "3543"
   ]
  }
 ],
 "metadata": {
  "kernelspec": {
   "display_name": "Python 3",
   "language": "python",
   "name": "python3"
  },
  "language_info": {
   "codemirror_mode": {
    "name": "ipython",
    "version": 3
   },
   "file_extension": ".py",
   "mimetype": "text/x-python",
   "name": "python",
   "nbconvert_exporter": "python",
   "pygments_lexer": "ipython3",
   "version": "3.7.4"
  }
 },
 "nbformat": 4,
 "nbformat_minor": 2
}
