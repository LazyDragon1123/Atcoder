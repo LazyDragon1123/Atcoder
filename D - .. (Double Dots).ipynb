{
 "cells": [
  {
   "cell_type": "code",
   "execution_count": 59,
   "metadata": {},
   "outputs": [
    {
     "name": "stdout",
     "output_type": "stream",
     "text": [
      "4 4\n",
      "1 2\n",
      "2 3\n",
      "3 4\n",
      "4 2\n",
      "Yes\n",
      "1\n",
      "2\n",
      "2\n"
     ]
    }
   ],
   "source": [
    "import numpy as np\n",
    "from collections import deque\n",
    "n, m = [int(i) for i in input().split()]\n",
    "\n",
    "e = [ [] for i in range(n)]\n",
    "\n",
    "\n",
    "\n",
    "for _ in range(m):\n",
    "    a, b = [int(i) for i in input().split()]\n",
    "    e[a-1].append(b-1)\n",
    "    e[b-1].append(a-1)\n",
    "    \n",
    "    \n",
    "q = deque()\n",
    "q.append(0)\n",
    "ans = np.ones(n-1)\n",
    "check = np.zeros(n)\n",
    "\n",
    "while len(q) > 0:\n",
    "    # キューの先頭（左端）からnodeを取り出す\n",
    "    node = q.popleft()\n",
    "\n",
    "    if node is not None:\n",
    "        check[node] = 2\n",
    "        con = e[node]\n",
    "        for i in con:\n",
    "            if check[i] ==0:\n",
    "                ans[i-1] = int(node) + 1\n",
    "                q.append(i)\n",
    "                check[i] = 1\n",
    "\n",
    "        \n",
    "\n",
    "print('Yes')\n",
    "\n",
    "for i in ans:\n",
    "    print(int(i))"
   ]
  }
 ],
 "metadata": {
  "kernelspec": {
   "display_name": "Python 3",
   "language": "python",
   "name": "python3"
  },
  "language_info": {
   "codemirror_mode": {
    "name": "ipython",
    "version": 3
   },
   "file_extension": ".py",
   "mimetype": "text/x-python",
   "name": "python",
   "nbconvert_exporter": "python",
   "pygments_lexer": "ipython3",
   "version": "3.7.4"
  }
 },
 "nbformat": 4,
 "nbformat_minor": 2
}
