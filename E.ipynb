{
 "cells": [
  {
   "cell_type": "code",
   "execution_count": null,
   "metadata": {},
   "outputs": [],
   "source": [
    "n = int(input())\n",
    "\n",
    "ab = []\n",
    "for i in range(n):\n",
    "    a, b = [int(i) for i in put().split()]\n",
    "    if b == 0:\n",
    "        ab_ = float('inf')\n",
    "    else:\n",
    "        ab_ = a/b\n",
    "        \n",
    "    ab.append(ab_)\n",
    "    \n",
    "ans = 0\n",
    "dic = {}\n",
    "for i in range(n):\n",
    "    if dic.get(ab[i]) is None:\n",
    "        dic[ab[i]] = 1\n",
    "    else:\n",
    "        dic[ab[i]] += 1\n",
    "    ans += ans + 1\n",
    "    if dic.get(1/ab[i]) is not None:\n",
    "        num = int(dic[1/ab[i]])\n",
    "        ans -= \n",
    "        "
   ]
  }
 ],
 "metadata": {
  "kernelspec": {
   "display_name": "Python 3",
   "language": "python",
   "name": "python3"
  },
  "language_info": {
   "codemirror_mode": {
    "name": "ipython",
    "version": 3
   },
   "file_extension": ".py",
   "mimetype": "text/x-python",
   "name": "python",
   "nbconvert_exporter": "python",
   "pygments_lexer": "ipython3",
   "version": "3.7.4"
  }
 },
 "nbformat": 4,
 "nbformat_minor": 2
}
