{
 "cells": [
  {
   "cell_type": "code",
   "execution_count": 5,
   "metadata": {},
   "outputs": [
    {
     "name": "stdout",
     "output_type": "stream",
     "text": [
      "1 10\n",
      "3 5\n",
      "3\n"
     ]
    }
   ],
   "source": [
    "import numpy as np\n",
    "n, h = [int(i) for i in input().split()]\n",
    "\n",
    "a = np.ones(n)\n",
    "b = np.ones(n)\n",
    "\n",
    "for _ in range(n):\n",
    "    a[_], b[_] = [int(i) for i in input().split()]\n",
    "    \n",
    "ind = a.argmax()\n",
    "a_m = a[ind]\n",
    "\n",
    "b_ = np.append(b[:ind],b[ind+1:])\n",
    "b_list = [i for i in b_ if i > a_m]\n",
    "b_list.sort(reverse=True)\n",
    "\n",
    "if h <= sum(b_list):\n",
    "    ans = 0\n",
    "    dam = 0\n",
    "    while h > dam:\n",
    "        dam += b_list[ans]\n",
    "        ans += 1\n",
    "    print(ans)\n",
    "else:\n",
    "    h -= sum(b_list)\n",
    "    ans = len(b_list)\n",
    "    h -= b[ind]\n",
    "    ans += 1\n",
    "    ans += np.ceil(h/a_m)\n",
    "    \n",
    "print(int(ans))\n"
   ]
  }
 ],
 "metadata": {
  "kernelspec": {
   "display_name": "Python 3",
   "language": "python",
   "name": "python3"
  },
  "language_info": {
   "codemirror_mode": {
    "name": "ipython",
    "version": 3
   },
   "file_extension": ".py",
   "mimetype": "text/x-python",
   "name": "python",
   "nbconvert_exporter": "python",
   "pygments_lexer": "ipython3",
   "version": "3.7.4"
  }
 },
 "nbformat": 4,
 "nbformat_minor": 2
}
