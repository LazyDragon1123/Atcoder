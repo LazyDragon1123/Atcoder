{
 "cells": [
  {
   "cell_type": "code",
   "execution_count": 29,
   "metadata": {
    "scrolled": true
   },
   "outputs": [
    {
     "name": "stdout",
     "output_type": "stream",
     "text": [
      "4\n",
      "aaaa\n",
      "aaab\n",
      "aaba\n",
      "aabb\n",
      "aabc\n",
      "abaa\n",
      "abab\n",
      "abac\n",
      "abba\n",
      "abbb\n",
      "abbc\n",
      "abca\n",
      "abcb\n",
      "abcc\n",
      "abcd\n"
     ]
    }
   ],
   "source": [
    "N = int(input())-1\n",
    "\n",
    "dic={}\n",
    "ans=[]\n",
    "#N=1\n",
    "dic['a']=1\n",
    "ans.append('a')\n",
    "\n",
    "alp = ['a','b','c','d','e','f','g','h','i','j','k']\n",
    "\n",
    "\n",
    "for i in range(N):\n",
    "    ans_temp = ans\n",
    "    dic_temp = dic\n",
    "    #init for N\n",
    "    ans = []\n",
    "    dic={}\n",
    "    dic_count={}\n",
    "    #left a\n",
    "    for j in ans_temp:\n",
    "        new_j = 'a'+ j\n",
    "        ans.append(new_j)\n",
    "        dic[new_j]=dic_temp[j]\n",
    "        dic_count[new_j]=1\n",
    "    # right append\n",
    "    for l in ans_temp:\n",
    "        num_alp = dic_temp[l]\n",
    "        for m in range(num_alp+1):\n",
    "            new_l = l+alp[m]\n",
    "\n",
    "            if dic_count.get(new_l) is None:\n",
    "                ans.append(new_l)\n",
    "                dic_count[new_j]=1\n",
    "                if m==num_alp:\n",
    "                    dic[new_l]=dic_temp[l]+1\n",
    "                else:\n",
    "                    dic[new_l]=dic_temp[l]\n",
    "\n",
    "        \n",
    "    \n",
    "        \n",
    "        \n",
    "\n",
    "for i in ans:\n",
    "    print(i)"
   ]
  }
 ],
 "metadata": {
  "kernelspec": {
   "display_name": "Python 3",
   "language": "python",
   "name": "python3"
  },
  "language_info": {
   "codemirror_mode": {
    "name": "ipython",
    "version": 3
   },
   "file_extension": ".py",
   "mimetype": "text/x-python",
   "name": "python",
   "nbconvert_exporter": "python",
   "pygments_lexer": "ipython3",
   "version": "3.7.4"
  }
 },
 "nbformat": 4,
 "nbformat_minor": 2
}
