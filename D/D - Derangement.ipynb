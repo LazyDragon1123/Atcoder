{
 "cells": [
  {
   "cell_type": "code",
   "execution_count": null,
   "metadata": {},
   "outputs": [],
   "source": [
    "n = int(input())\n",
    "\n",
    "p = [int(i) for i in input().split()]\n",
    "\n",
    "cout = 0\n",
    "temp_cout = 0\n",
    "\n",
    "for i in range(len(p)):\n",
    "    num = i+1\n",
    "    if num == p[i]:\n",
    "        cout +=1\n",
    "        temp_cout +=1\n",
    "    else:\n",
    "        temp_cout = 0\n",
    "        \n",
    "    if temp_cout == 2:\n",
    "        temp_cout = 0\n",
    "        cout -= 1\n",
    "        \n",
    "print(cout)"
   ]
  }
 ],
 "metadata": {
  "kernelspec": {
   "display_name": "Python 3",
   "language": "python",
   "name": "python3"
  },
  "language_info": {
   "codemirror_mode": {
    "name": "ipython",
    "version": 3
   },
   "file_extension": ".py",
   "mimetype": "text/x-python",
   "name": "python",
   "nbconvert_exporter": "python",
   "pygments_lexer": "ipython3",
   "version": "3.7.4"
  }
 },
 "nbformat": 4,
 "nbformat_minor": 2
}
