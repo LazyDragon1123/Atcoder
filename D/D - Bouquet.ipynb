{
 "cells": [
  {
   "cell_type": "code",
   "execution_count": 76,
   "metadata": {},
   "outputs": [
    {
     "name": "stdout",
     "output_type": "stream",
     "text": [
      "4 1 3\n",
      "999999858\n"
     ]
    }
   ],
   "source": [
    "import numpy as np\n",
    "import math\n",
    "\n",
    "n,a,b = [int(i) for i in input().split()]\n",
    "\n",
    "k = max(a,b)\n",
    "\n",
    "def Mod_Pow(a,n,mod):\n",
    "    res = 1\n",
    "    while (n > 0):\n",
    "        if (n & 1):\n",
    "            res = (res * a )% mod\n",
    "        a = (a * a)% mod\n",
    "        n >>= 1\n",
    "    \n",
    "    return res\n",
    "\n",
    "\n",
    "\n",
    "# n>10**9\n",
    "#\n",
    "\n",
    "MOD = 10**9+7  # mod\n",
    "#\n",
    "\n",
    "\n",
    "fac_k= np.ones(k+1)\n",
    "finv= np.ones(k+1)\n",
    "inv= np.ones(k+1)\n",
    "\n",
    "#\n",
    "\n",
    "fac_k[0] = 1\n",
    "fac_k[1] = n\n",
    "finv[0] = finv[1] = 1\n",
    "inv[1] = 1\n",
    "for i in range(2,k+1):\n",
    "    fac_k[i] = (fac_k[i - 1] * (n-i+1)) % MOD\n",
    "    inv[i] = (MOD- inv[MOD%i] * (MOD // i)) % MOD\n",
    "    finv[i] = (finv[i - 1] * inv[i]) % MOD\n",
    "    i+=1\n",
    "\n",
    "#\n",
    "    \n",
    "    \n",
    "def COM(n, c):\n",
    "    if (n < c):\n",
    "        return 0\n",
    "    if (n < 0) | (c < 0):\n",
    "        return 0\n",
    "    return ((fac_k[c] * finv[c]) % MOD)\n",
    "\n",
    "\n",
    "\n",
    "\n",
    "\n",
    "\n",
    "\n",
    "X = int((Mod_Pow(2,n,(10**9+7))-COM(n, a)-COM(n,b)-1)%(10**9+7))\n",
    "\n",
    "\n",
    "\n",
    "\n",
    "print(X)\n",
    "\n"
   ]
  },
  {
   "cell_type": "code",
   "execution_count": 74,
   "metadata": {},
   "outputs": [
    {
     "data": {
      "text/plain": [
       "4"
      ]
     },
     "execution_count": 74,
     "metadata": {},
     "output_type": "execute_result"
    }
   ],
   "source": [
    "inver = (7 - 1 * (7 // 2)) % 7\n",
    "inver"
   ]
  },
  {
   "cell_type": "code",
   "execution_count": 38,
   "metadata": {},
   "outputs": [
    {
     "data": {
      "text/plain": [
       "16"
      ]
     },
     "execution_count": 38,
     "metadata": {},
     "output_type": "execute_result"
    }
   ],
   "source": [
    "Mod_Pow(2,n,(10**9+7))"
   ]
  },
  {
   "cell_type": "code",
   "execution_count": 52,
   "metadata": {},
   "outputs": [
    {
     "data": {
      "text/plain": [
       "0.0"
      ]
     },
     "execution_count": 52,
     "metadata": {},
     "output_type": "execute_result"
    }
   ],
   "source": [
    "COM(n, 2)"
   ]
  },
  {
   "cell_type": "code",
   "execution_count": 51,
   "metadata": {},
   "outputs": [
    {
     "data": {
      "text/plain": [
       "500000003.5"
      ]
     },
     "execution_count": 51,
     "metadata": {},
     "output_type": "execute_result"
    }
   ],
   "source": [
    "finv[2]"
   ]
  },
  {
   "cell_type": "code",
   "execution_count": 47,
   "metadata": {},
   "outputs": [
    {
     "data": {
      "text/plain": [
       "0.0"
      ]
     },
     "execution_count": 47,
     "metadata": {},
     "output_type": "execute_result"
    }
   ],
   "source": [
    "fac_k[2] * finv[2] % MOD"
   ]
  },
  {
   "cell_type": "code",
   "execution_count": 49,
   "metadata": {},
   "outputs": [
    {
     "data": {
      "text/plain": [
       "array([ 1.,  4., 12., 24.])"
      ]
     },
     "execution_count": 49,
     "metadata": {},
     "output_type": "execute_result"
    }
   ],
   "source": [
    "fac_k"
   ]
  },
  {
   "cell_type": "code",
   "execution_count": 60,
   "metadata": {},
   "outputs": [
    {
     "data": {
      "text/plain": [
       "3"
      ]
     },
     "execution_count": 60,
     "metadata": {},
     "output_type": "execute_result"
    }
   ],
   "source": [
    "7//2"
   ]
  },
  {
   "cell_type": "code",
   "execution_count": 16,
   "metadata": {},
   "outputs": [],
   "source": [
    "n >>=1"
   ]
  },
  {
   "cell_type": "code",
   "execution_count": 17,
   "metadata": {},
   "outputs": [
    {
     "data": {
      "text/plain": [
       "1"
      ]
     },
     "execution_count": 17,
     "metadata": {},
     "output_type": "execute_result"
    }
   ],
   "source": [
    "n"
   ]
  },
  {
   "cell_type": "code",
   "execution_count": null,
   "metadata": {},
   "outputs": [],
   "source": []
  }
 ],
 "metadata": {
  "kernelspec": {
   "display_name": "Python 3",
   "language": "python",
   "name": "python3"
  },
  "language_info": {
   "codemirror_mode": {
    "name": "ipython",
    "version": 3
   },
   "file_extension": ".py",
   "mimetype": "text/x-python",
   "name": "python",
   "nbconvert_exporter": "python",
   "pygments_lexer": "ipython3",
   "version": "3.7.4"
  }
 },
 "nbformat": 4,
 "nbformat_minor": 2
}
