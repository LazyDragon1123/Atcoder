{
 "cells": [
  {
   "cell_type": "code",
   "execution_count": null,
   "metadata": {},
   "outputs": [],
   "source": [
    "n = int(input())\n",
    "s = str(input())\n",
    "\n",
    "r = []\n",
    "g = []\n",
    "b = []\n",
    "\n",
    "# Python Program for recursive binary search. \n",
    "\n",
    "# Returns index of x in arr if present, else -1 \n",
    "def binarySearch (arr, l, r, x): \n",
    "\n",
    "\t# Check base case \n",
    "\tif r >= l: \n",
    "\n",
    "\t\tmid = l + (r - l)//2\n",
    "\n",
    "\t\t# If element is present at the middle itself \n",
    "\t\tif arr[mid] == x: \n",
    "\t\t\treturn mid \n",
    "\t\t\n",
    "\t\t# If element is smaller than mid, then it can only \n",
    "\t\t# be present in left subarray \n",
    "\t\telif arr[mid] > x: \n",
    "\t\t\treturn binarySearch(arr, l, mid-1, x) \n",
    "\n",
    "\t\t# Else the element can only be present in right subarray \n",
    "\t\telse: \n",
    "\t\t\treturn binarySearch(arr, mid+1, r, x) \n",
    "\n",
    "\telse: \n",
    "\t\t# Element is not present in the array \n",
    "\t\treturn -1\n",
    "\n",
    "\n",
    "for i in range(n):\n",
    "    if s[i] =='R':\n",
    "        r.append(i)\n",
    "    elif s[i] == 'G':\n",
    "        g.append(i)\n",
    "    elif s[i] ==\"B\":\n",
    "        b.append(i)\n",
    "        \n",
    "cout = 0\n",
    "        \n",
    "for i in range(n):\n",
    "    if s[i] == 'r':\n",
    "        \n",
    "        "
   ]
  }
 ],
 "metadata": {
  "kernelspec": {
   "display_name": "Python 3",
   "language": "python",
   "name": "python3"
  },
  "language_info": {
   "codemirror_mode": {
    "name": "ipython",
    "version": 3
   },
   "file_extension": ".py",
   "mimetype": "text/x-python",
   "name": "python",
   "nbconvert_exporter": "python",
   "pygments_lexer": "ipython3",
   "version": "3.7.4"
  }
 },
 "nbformat": 4,
 "nbformat_minor": 2
}
