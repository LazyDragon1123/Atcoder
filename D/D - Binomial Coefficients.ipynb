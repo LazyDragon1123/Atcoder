{
 "cells": [
  {
   "cell_type": "code",
   "execution_count": 2,
   "metadata": {},
   "outputs": [
    {
     "name": "stdout",
     "output_type": "stream",
     "text": [
      "5\n",
      "9 9 4 2 11\n",
      "11 4\n"
     ]
    }
   ],
   "source": [
    "n = int(input())\n",
    "a = [int(i) for i in input().split()]\n",
    "\n",
    "a.sort()\n",
    "\n",
    "max_a = a[-1]\n",
    "\n",
    "max_b = 1\n",
    "\n",
    "for i in range(n):\n",
    "    if a[i] <= int((max_a+1)//2):\n",
    "        max_b = a[i]\n",
    "        \n",
    "    else:\n",
    "        break\n",
    "ans = str(max_a) + str(' ') + str(max_b)\n",
    "\n",
    "print(ans)\n",
    "    "
   ]
  },
  {
   "cell_type": "code",
   "execution_count": null,
   "metadata": {},
   "outputs": [],
   "source": []
  }
 ],
 "metadata": {
  "kernelspec": {
   "display_name": "Python 3",
   "language": "python",
   "name": "python3"
  },
  "language_info": {
   "codemirror_mode": {
    "name": "ipython",
    "version": 3
   },
   "file_extension": ".py",
   "mimetype": "text/x-python",
   "name": "python",
   "nbconvert_exporter": "python",
   "pygments_lexer": "ipython3",
   "version": "3.7.4"
  }
 },
 "nbformat": 4,
 "nbformat_minor": 2
}
