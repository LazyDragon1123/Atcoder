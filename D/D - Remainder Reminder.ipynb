{
 "cells": [
  {
   "cell_type": "code",
   "execution_count": 4,
   "metadata": {},
   "outputs": [
    {
     "name": "stdout",
     "output_type": "stream",
     "text": [
      "5 2\n",
      "2\n",
      "4\n",
      "7\n",
      "7\n"
     ]
    }
   ],
   "source": [
    "n, k = [int(i) for i in input().split()]\n",
    "\n",
    "# b >k+1\n",
    "\n",
    "cout = 0\n",
    "\n",
    "for i in range(k+1,n+1):\n",
    "    div = n // i\n",
    "    mod = n % i \n",
    "    one_more = mod - k + 1\n",
    "        \n",
    "    if one_more >= 0:\n",
    "        cout += (div+1)*one_more\n",
    "        cout += div*(i-k-one_more)\n",
    "    else:\n",
    "        cout += div * (i-k)\n",
    "\n",
    "        \n",
    "print(cout)"
   ]
  },
  {
   "cell_type": "code",
   "execution_count": null,
   "metadata": {},
   "outputs": [],
   "source": []
  }
 ],
 "metadata": {
  "kernelspec": {
   "display_name": "Python 3",
   "language": "python",
   "name": "python3"
  },
  "language_info": {
   "codemirror_mode": {
    "name": "ipython",
    "version": 3
   },
   "file_extension": ".py",
   "mimetype": "text/x-python",
   "name": "python",
   "nbconvert_exporter": "python",
   "pygments_lexer": "ipython3",
   "version": "3.7.4"
  }
 },
 "nbformat": 4,
 "nbformat_minor": 2
}
