{
 "cells": [
  {
   "cell_type": "code",
   "execution_count": 1,
   "metadata": {},
   "outputs": [
    {
     "name": "stdout",
     "output_type": "stream",
     "text": [
      "3 3\n",
      "1 3 4\n",
      "1 3 6\n",
      "60\n"
     ]
    }
   ],
   "source": [
    "n, m  = [int(i) for i in input().split()]\n",
    "\n",
    "x = [int(i) for i in input().split()]\n",
    "\n",
    "y = [int(i) for i in input().split()]\n",
    "\n",
    "div = int(10**9+7)\n",
    "\n",
    "X = 0\n",
    "\n",
    "\n",
    "for i in range(n):\n",
    "    x_large = x[i]*(i)\n",
    "    x_small = x[i]*(n-i-1)\n",
    "    \n",
    "    X+=(x_large - x_small)%div\n",
    "    \n",
    "Y = 0\n",
    "\n",
    "for i in range(m):\n",
    "    y_large = y[i]*(i)\n",
    "    y_small = y[i]*(m-i-1)\n",
    "    \n",
    "    Y+=(y_large - y_small)%div\n",
    "    \n",
    "ans = (X*Y)%div\n",
    "\n",
    "print(ans)"
   ]
  },
  {
   "cell_type": "code",
   "execution_count": null,
   "metadata": {},
   "outputs": [],
   "source": [
    "3 3\n",
    "1 3 4\n",
    "1 3 6"
   ]
  }
 ],
 "metadata": {
  "kernelspec": {
   "display_name": "Python 3",
   "language": "python",
   "name": "python3"
  },
  "language_info": {
   "codemirror_mode": {
    "name": "ipython",
    "version": 3
   },
   "file_extension": ".py",
   "mimetype": "text/x-python",
   "name": "python",
   "nbconvert_exporter": "python",
   "pygments_lexer": "ipython3",
   "version": "3.7.4"
  }
 },
 "nbformat": 4,
 "nbformat_minor": 2
}
