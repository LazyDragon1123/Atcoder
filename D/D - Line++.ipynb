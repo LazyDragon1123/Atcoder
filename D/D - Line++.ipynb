{
 "cells": [
  {
   "cell_type": "code",
   "execution_count": 8,
   "metadata": {},
   "outputs": [
    {
     "name": "stdout",
     "output_type": "stream",
     "text": [
      "7 3 7\n",
      "7\n",
      "8\n",
      "4\n",
      "2\n",
      "0\n",
      "0\n"
     ]
    }
   ],
   "source": [
    "import numpy as np\n",
    "n, x, y = [int(i) for i in input().split()]\n",
    "\n",
    "def short_dis(a,b,X,Y):\n",
    "    simple_roo = abs(a-b)\n",
    "    xy_roo = min(abs(a-X),abs(a-Y)) + min(abs(b-X),abs(b-Y)) +1\n",
    "    \n",
    "    short_roo = min(simple_roo,xy_roo)\n",
    "    \n",
    "    return short_roo\n",
    "\n",
    "ans = {}\n",
    "for i in range(1,n):\n",
    "    ans[i] = 0\n",
    "    \n",
    "    \n",
    "\n",
    "for i in range(2,n+1):\n",
    "    for j in range(1,i):\n",
    "        if i !=j:\n",
    "            dist = int(short_dis(i,j,x,y))\n",
    "            ans[dist]+=1\n",
    "\n",
    "for i in list(ans.values()):\n",
    "    print(int(i))"
   ]
  }
 ],
 "metadata": {
  "kernelspec": {
   "display_name": "Python 3",
   "language": "python",
   "name": "python3"
  },
  "language_info": {
   "codemirror_mode": {
    "name": "ipython",
    "version": 3
   },
   "file_extension": ".py",
   "mimetype": "text/x-python",
   "name": "python",
   "nbconvert_exporter": "python",
   "pygments_lexer": "ipython3",
   "version": "3.7.4"
  }
 },
 "nbformat": 4,
 "nbformat_minor": 2
}
