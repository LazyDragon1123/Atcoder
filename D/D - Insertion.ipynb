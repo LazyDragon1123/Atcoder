{
 "cells": [
  {
   "cell_type": "code",
   "execution_count": null,
   "metadata": {},
   "outputs": [],
   "source": [
    "n = int(input())\n",
    "\n",
    "s =str(input())\n",
    "\n",
    "\n",
    "left_save = 0\n",
    "dept=0\n",
    "\n",
    "for i in range(len(s)):\n",
    "    if s[i] ==')':\n",
    "        if left_save == 0:\n",
    "            dept +=1\n",
    "        else:\n",
    "            left_save-=1\n",
    "            \n",
    "    else:\n",
    "        left_save+=1\n",
    "\n",
    "ans = '('*dept + s + ')'*left_save\n",
    "\n",
    "print(ans)"
   ]
  }
 ],
 "metadata": {
  "kernelspec": {
   "display_name": "Python 3",
   "language": "python",
   "name": "python3"
  },
  "language_info": {
   "codemirror_mode": {
    "name": "ipython",
    "version": 3
   },
   "file_extension": ".py",
   "mimetype": "text/x-python",
   "name": "python",
   "nbconvert_exporter": "python",
   "pygments_lexer": "ipython3",
   "version": "3.7.4"
  }
 },
 "nbformat": 4,
 "nbformat_minor": 2
}
