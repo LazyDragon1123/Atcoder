{
 "cells": [
  {
   "cell_type": "code",
   "execution_count": 1,
   "metadata": {},
   "outputs": [
    {
     "name": "stdout",
     "output_type": "stream",
     "text": [
      "FTFFTFFF\n",
      "4 2\n",
      "Yes\n"
     ]
    }
   ],
   "source": [
    "# 4 N>=3, N=2, N =1, N = 0 #\n",
    "# N is # of F\n",
    "\n",
    "s = str(input())\n",
    "x, y = [int(i) for i in input().split()]\n",
    "\n",
    "T_num  = 0\n",
    "x_num = 0\n",
    "y_num = 0\n",
    "flag = 0\n",
    "\n",
    "for i in s:\n",
    "    if i == 'F':\n",
    "        if flag == 0:\n",
    "            x_num += 1\n",
    "        else:\n",
    "            y_num += 1\n",
    "        \n",
    "    if i == 'T':\n",
    "        T_num += 1\n",
    "        flag +=1\n",
    "        flag = flag %2\n",
    "        \n",
    "    \n",
    "if  T_num >=3:\n",
    "    if (x_num - x)%2 == 0 and (x_num-x)>=0 and (y_num - y)%2 == 0 and (y_num-y)>=0:\n",
    "        print(\"Yes\")\n",
    "    else:\n",
    "        print(\"No\")\n",
    "        \n",
    "elif T_num == 2:\n",
    "    if (x_num - x)%2 == 0 and (x_num-x)>=0 and (abs(y_num) - abs(y)) == 0:\n",
    "        print(\"Yes\")\n",
    "    else:\n",
    "        print(\"No\")\n",
    "elif T_num == 1:\n",
    "    if  (abs(x_num) - abs(x)) == 0 and (abs(y_num) - abs(y)) == 0:\n",
    "        print(\"Yes\")\n",
    "    else:\n",
    "        print(\"No\")\n",
    "else:\n",
    "    if  (abs(x_num) - abs(x)) == 0:\n",
    "        print(\"Yes\")\n",
    "    else:\n",
    "        print(\"No\")"
   ]
  },
  {
   "cell_type": "code",
   "execution_count": null,
   "metadata": {},
   "outputs": [],
   "source": [
    "FTFFTFFF\n",
    "4 2"
   ]
  }
 ],
 "metadata": {
  "kernelspec": {
   "display_name": "Python 3",
   "language": "python",
   "name": "python3"
  },
  "language_info": {
   "codemirror_mode": {
    "name": "ipython",
    "version": 3
   },
   "file_extension": ".py",
   "mimetype": "text/x-python",
   "name": "python",
   "nbconvert_exporter": "python",
   "pygments_lexer": "ipython3",
   "version": "3.7.4"
  }
 },
 "nbformat": 4,
 "nbformat_minor": 2
}
