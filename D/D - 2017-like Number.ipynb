{
 "cells": [
  {
   "cell_type": "code",
   "execution_count": null,
   "metadata": {},
   "outputs": [],
   "source": [
    "import math\n",
    "import numpy as np\n",
    "\n",
    "def is_prime(n):\n",
    "    if n == 1: return False\n",
    "\n",
    "    for k in range(2, int(math.sqrt(n)) + 1):\n",
    "        if n % k == 0:\n",
    "            return 0\n",
    "    return 1\n",
    "\n",
    "n = int(input())\n",
    "\n",
    "\n",
    "ans = np.ones(n)\n",
    "prime = np.ones(n)\n",
    "prime[0] = 0\n",
    "\n",
    "\n",
    "for i in range(2,n):\n",
    "    prime[i] = is_prime(i)\n",
    "    if prime[i] == 1 and prime[int((i+2)/2)] == 1:\n",
    "        continue\n",
    "    else:\n",
    "        ans[i] = 0\n",
    "        \n",
    "\n",
    "Ans = []\n",
    "        \n",
    "for i in range(n):\n",
    "    l, r = [int(i) for i in input().split()]\n",
    "    Ans[i] = sum(ans[l-1:r-1])\n",
    "    \n",
    "for i in range(n):\n",
    "    print(Ans[i])"
   ]
  },
  {
   "cell_type": "code",
   "execution_count": null,
   "metadata": {},
   "outputs": [],
   "source": []
  }
 ],
 "metadata": {
  "kernelspec": {
   "display_name": "Python 3",
   "language": "python",
   "name": "python3"
  },
  "language_info": {
   "codemirror_mode": {
    "name": "ipython",
    "version": 3
   },
   "file_extension": ".py",
   "mimetype": "text/x-python",
   "name": "python",
   "nbconvert_exporter": "python",
   "pygments_lexer": "ipython3",
   "version": "3.7.4"
  }
 },
 "nbformat": 4,
 "nbformat_minor": 2
}
