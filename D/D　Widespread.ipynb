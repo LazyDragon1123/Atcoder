{
 "cells": [
  {
   "cell_type": "code",
   "execution_count": null,
   "metadata": {},
   "outputs": [],
   "source": [
    "# Python Program for recursive binary search. \n",
    "import numpy as np\n",
    "n,a,b = [int(i) for i in input().split()]\n",
    "\n",
    "h = np.ones(n)\n",
    "\n",
    "for i in range(n):\n",
    "    h[i] = int(input())\n",
    "    \n",
    "max_num = max(h)//b +1\n",
    "\n",
    "min_num = 0\n",
    "\n",
    "def checker(ene,big,sma,t):\n",
    "    ene = ene - np.ones(len(ene))*sma\n",
    "    add_dam = (big-sma)\n",
    "    cout = 0\n",
    "    for i in ene:\n",
    "        \n",
    "        if i>0:\n",
    "            add_time = i//add_dam +1\n",
    "            cout+=add_time\n",
    "            \n",
    "        if cout > t:\n",
    "            return -1\n",
    "    if cout<=t:\n",
    "        return 1\n",
    "\n",
    "\n",
    "\n",
    "\n",
    "\n",
    "\n",
    "def binarySearch (arr, l, r, x): \n",
    "\n",
    "\tif r >= l: \n",
    "\n",
    "\t\tmid = l + (r - l)//2\n",
    "\n",
    "\t\t# If element is present at the middle itself \n",
    "\t\tif arr[mid] == x: \n",
    "\t\t\treturn mid \n",
    "\t\t\n",
    "\t\t# If element is smaller than mid, then it can only \n",
    "\t\t# be present in left subarray \n",
    "\t\telif arr[mid] > x: \n",
    "\t\t\treturn binarySearch(arr, l, mid-1, x) \n",
    "\n",
    "\t\t# Else the element can only be present in right subarray \n",
    "\t\telse: \n",
    "\t\t\treturn binarySearch(arr, mid+1, r, x) \n",
    "\n",
    "\telse: \n",
    "\t\t# Element is not present in the array \n",
    "\t\treturn -1\n",
    "\n"
   ]
  }
 ],
 "metadata": {
  "kernelspec": {
   "display_name": "Python 3",
   "language": "python",
   "name": "python3"
  },
  "language_info": {
   "codemirror_mode": {
    "name": "ipython",
    "version": 3
   },
   "file_extension": ".py",
   "mimetype": "text/x-python",
   "name": "python",
   "nbconvert_exporter": "python",
   "pygments_lexer": "ipython3",
   "version": "3.7.4"
  }
 },
 "nbformat": 4,
 "nbformat_minor": 2
}
