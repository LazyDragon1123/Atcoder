{
 "cells": [
  {
   "cell_type": "code",
   "execution_count": 4,
   "metadata": {},
   "outputs": [
    {
     "ename": "ModuleNotFoundError",
     "evalue": "No module named 'scipy.sparce'",
     "output_type": "error",
     "traceback": [
      "\u001b[0;31m---------------------------------------------------------------------------\u001b[0m",
      "\u001b[0;31mModuleNotFoundError\u001b[0m                       Traceback (most recent call last)",
      "\u001b[0;32m<ipython-input-4-dbd82640df60>\u001b[0m in \u001b[0;36m<module>\u001b[0;34m\u001b[0m\n\u001b[1;32m      4\u001b[0m \u001b[0;34m\u001b[0m\u001b[0m\n\u001b[1;32m      5\u001b[0m \u001b[0;34m\u001b[0m\u001b[0m\n\u001b[0;32m----> 6\u001b[0;31m \u001b[0;32mfrom\u001b[0m \u001b[0mscipy\u001b[0m\u001b[0;34m.\u001b[0m\u001b[0msparce\u001b[0m\u001b[0;34m.\u001b[0m\u001b[0mcgraph\u001b[0m \u001b[0;32mimport\u001b[0m \u001b[0mfloyd_warshall\u001b[0m\u001b[0;34m\u001b[0m\u001b[0;34m\u001b[0m\u001b[0m\n\u001b[0m\u001b[1;32m      7\u001b[0m \u001b[0;34m\u001b[0m\u001b[0m\n\u001b[1;32m      8\u001b[0m \u001b[0;34m\u001b[0m\u001b[0m\n",
      "\u001b[0;31mModuleNotFoundError\u001b[0m: No module named 'scipy.sparce'"
     ]
    }
   ],
   "source": [
    "import numpy as np\n",
    "\n",
    "from itertools import permutations\n",
    "\n",
    "\n",
    "from scipy.sparse.cgraph import floyd_warshall\n",
    "\n",
    "\n",
    "\n",
    "n,m,R = [int(i) for i in input().split()]\n",
    "\n",
    "r = [int(i) for i in input().split()]\n",
    "\n",
    "mat = np.ones([n,n]) *float('inf')\n",
    "\n",
    "for i in range(m):\n",
    "    a, b, c = [int(i) for i in input().split()]\n",
    "    a -= 1\n",
    "    b -= 1\n",
    "    mat[a,b] = c\n",
    "    mat[b,a] = c\n",
    "    \n",
    "\n",
    "\n",
    "dis = floyd_warshall(mat,directed = False)\n",
    "ans = float('inf')\n",
    "\n",
    "for ite in permutations(r,R):\n",
    "    ans = min(ans, dis[ite[1:],ite[:-1]].sum())\n",
    "        \n",
    "print(int(ans))\n",
    "    \n",
    "\n",
    "\n",
    "\n",
    "\n",
    "\n",
    "    "
   ]
  },
  {
   "cell_type": "code",
   "execution_count": 3,
   "metadata": {},
   "outputs": [
    {
     "name": "stdout",
     "output_type": "stream",
     "text": [
      "1\n",
      "1\n",
      "2\n",
      "2\n",
      "4\n",
      "4\n"
     ]
    }
   ],
   "source": [
    "from itertools import permutations\n",
    "\n",
    "a = [1,2,4]\n",
    "\n",
    "for i in permutations(a):\n",
    "    print(i[0])\n",
    "    "
   ]
  },
  {
   "cell_type": "code",
   "execution_count": 5,
   "metadata": {},
   "outputs": [
    {
     "data": {
      "text/plain": [
       "[1, 2]"
      ]
     },
     "execution_count": 5,
     "metadata": {},
     "output_type": "execute_result"
    }
   ],
   "source": [
    "a[:-1]"
   ]
  },
  {
   "cell_type": "code",
   "execution_count": null,
   "metadata": {},
   "outputs": [],
   "source": []
  }
 ],
 "metadata": {
  "kernelspec": {
   "display_name": "Python 3",
   "language": "python",
   "name": "python3"
  },
  "language_info": {
   "codemirror_mode": {
    "name": "ipython",
    "version": 3
   },
   "file_extension": ".py",
   "mimetype": "text/x-python",
   "name": "python",
   "nbconvert_exporter": "python",
   "pygments_lexer": "ipython3",
   "version": "3.7.4"
  }
 },
 "nbformat": 4,
 "nbformat_minor": 2
}
