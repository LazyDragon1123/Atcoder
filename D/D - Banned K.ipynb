{
 "cells": [
  {
   "cell_type": "code",
   "execution_count": 15,
   "metadata": {},
   "outputs": [
    {
     "name": "stdout",
     "output_type": "stream",
     "text": [
      "5\n",
      "1 1 2 1 2\n",
      "2\n",
      "2\n",
      "3\n",
      "2\n",
      "3\n"
     ]
    }
   ],
   "source": [
    "def CountFrequency_mod(my_list): \n",
    "  \n",
    "    # Creating an empty dictionary  \n",
    "    freq = {} \n",
    "    for item in my_list: \n",
    "        if (item in freq): \n",
    "            freq[item] += 1\n",
    "        else: \n",
    "            freq[item] = 1\n",
    "    \n",
    "    freq_mod = freq\n",
    "    freq_val = list(freq.values())\n",
    "    all_sum=0\n",
    "    \n",
    "    for i in freq_val:\n",
    "        all_sum+=i*(i-1)/2\n",
    "        \n",
    "    for i in freq:\n",
    "        freq_mod[i] = all_sum - freq[i]*(freq[i]-1)/2 + (freq[i]-1)*(freq[i]-2)/2\n",
    "    return freq_mod\n",
    "\n",
    "\n",
    "N = int(input())\n",
    "\n",
    "A = [int(i) for i in input().split()]\n",
    "\n",
    "dic = CountFrequency_mod(A)\n",
    "\n",
    "for i in A:\n",
    "    print(int(dic[int(i)]))\n",
    "    "
   ]
  }
 ],
 "metadata": {
  "kernelspec": {
   "display_name": "Python 3",
   "language": "python",
   "name": "python3"
  },
  "language_info": {
   "codemirror_mode": {
    "name": "ipython",
    "version": 3
   },
   "file_extension": ".py",
   "mimetype": "text/x-python",
   "name": "python",
   "nbconvert_exporter": "python",
   "pygments_lexer": "ipython3",
   "version": "3.7.4"
  }
 },
 "nbformat": 4,
 "nbformat_minor": 2
}
