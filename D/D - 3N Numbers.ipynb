{
 "cells": [
  {
   "cell_type": "code",
   "execution_count": null,
   "metadata": {},
   "outputs": [],
   "source": [
    "import numpy as np\n",
    "\n",
    "import heapq  # heapqライブラリのimport\n",
    "\n",
    "N = int(input())\n",
    "\n",
    "a = [int(i) for i in input(),split()]\n",
    "\n",
    "a_fir\n",
    "for k in range(N,2*N):\n",
    "    \n",
    "a = [1, 6, 8, 0, -1]\n",
    "heapq.heapify(a)  # リストを優先度付きキューへ\n",
    "print(a)\n",
    "\n",
    "print(heapq.heappop(a))  # 最小値の取り出し\n",
    "print(a)\n",
    "\n",
    "heapq.heappush(a, -2)  # 要素の挿入\n",
    "print(a)"
   ]
  }
 ],
 "metadata": {
  "kernelspec": {
   "display_name": "Python 3",
   "language": "python",
   "name": "python3"
  },
  "language_info": {
   "codemirror_mode": {
    "name": "ipython",
    "version": 3
   },
   "file_extension": ".py",
   "mimetype": "text/x-python",
   "name": "python",
   "nbconvert_exporter": "python",
   "pygments_lexer": "ipython3",
   "version": "3.7.4"
  }
 },
 "nbformat": 4,
 "nbformat_minor": 2
}
