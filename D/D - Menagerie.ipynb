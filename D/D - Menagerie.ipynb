{
 "cells": [
  {
   "cell_type": "code",
   "execution_count": null,
   "metadata": {},
   "outputs": [],
   "source": [
    "#The first two determines it\n",
    "\n",
    "N =int(input())\n",
    "S = str(input())\n",
    "ans = str()\n",
    "\n",
    "def Sh_Wo(i,j): # i,j :two before itself\n",
    "    if (ans[i]=='S') & (ans[j]=='S'):\n",
    "        if (S[j]=='o'):\n",
    "            ans = ans+'S'\n",
    "        elif (S[j]=='x'):\n",
    "            ans = ans+'W'        \n",
    "    elif (ans[i]=='S') & (ans[j]=='W'):\n",
    "        if (S[j]=='o'):\n",
    "            ans = ans+'W'\n",
    "        elif (S[j]=='x'):\n",
    "            ans = ans+'S'\n",
    "    elif (ans[i]=='W') & (ans[j]=='S'):\n",
    "        if (S[j]=='o'):\n",
    "            ans = ans+'W'\n",
    "        elif (S[j]=='x'):\n",
    "            ans = ans+'S'       \n",
    "    elif (ans[i]=='W') & (ans[j]=='W'):\n",
    "        if (S[j]=='o'):\n",
    "            ans = ans+'S'\n",
    "        elif (S[j]=='x'):\n",
    "            ans = ans+'W'\n",
    "\n",
    "\n",
    "            \n",
    "if \n",
    "        "
   ]
  },
  {
   "cell_type": "code",
   "execution_count": 2,
   "metadata": {},
   "outputs": [
    {
     "data": {
      "text/plain": [
       "'1'"
      ]
     },
     "execution_count": 2,
     "metadata": {},
     "output_type": "execute_result"
    }
   ],
   "source": [
    "s=str()+'1'\n",
    "s"
   ]
  },
  {
   "cell_type": "code",
   "execution_count": null,
   "metadata": {},
   "outputs": [],
   "source": [
    "3x"
   ]
  },
  {
   "cell_type": "code",
   "execution_count": null,
   "metadata": {},
   "outputs": [],
   "source": []
  }
 ],
 "metadata": {
  "kernelspec": {
   "display_name": "Python 3",
   "language": "python",
   "name": "python3"
  },
  "language_info": {
   "codemirror_mode": {
    "name": "ipython",
    "version": 3
   },
   "file_extension": ".py",
   "mimetype": "text/x-python",
   "name": "python",
   "nbconvert_exporter": "python",
   "pygments_lexer": "ipython3",
   "version": "3.7.4"
  }
 },
 "nbformat": 4,
 "nbformat_minor": 2
}
