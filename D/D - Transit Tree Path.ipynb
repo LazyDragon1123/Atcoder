{
 "cells": [
  {
   "cell_type": "code",
   "execution_count": 7,
   "metadata": {},
   "outputs": [
    {
     "name": "stdout",
     "output_type": "stream",
     "text": [
      "5\n",
      "1 2 1\n",
      "1 3 1\n",
      "2 4 1\n",
      "3 5 1\n",
      "2 4\n"
     ]
    },
    {
     "data": {
      "text/plain": [
       "array([[2., 1., 1., 2., 2.],\n",
       "       [1., 2., 2., 1., 3.],\n",
       "       [1., 2., 2., 3., 1.],\n",
       "       [2., 1., 3., 2., 4.],\n",
       "       [2., 3., 1., 4., 2.]])"
      ]
     },
     "execution_count": 7,
     "metadata": {},
     "output_type": "execute_result"
    }
   ],
   "source": [
    "import numpy as np\n",
    "\n",
    "n = int(input())\n",
    "edges_ = np.ones([n,n])*float('inf')\n",
    "\n",
    "for i in range(n-1):\n",
    "    a,b,c = [int(i) for i in input().split()]\n",
    "    edges_[a-1,b-1] = c\n",
    "    edges_[b-1,a-1] = c\n",
    "    \n",
    "q, k = [int(i) for i in input().split()]\n",
    "    \n",
    "def Warshall_Floyd(edges,N):\n",
    "    for k in range(N):\n",
    "        for i in range(N):\n",
    "            for j in range(N):\n",
    "                edges[i,j]=min(edges[i,j],edges[i,k]+edges[k,j])\n",
    "    return edges\n",
    "\n",
    "\n",
    "ans = np.ones(q)\n",
    "\n",
    "for j in range(q):\n",
    "    x, y = [int(i) for i in input().split()]\n",
    "    ans[j] = int(Warshall_Floyd(edges_,n)[x-1,k-1]) + int(Warshall_Floyd(edges_,n)[k-1,y-1])\n",
    "\n",
    "\n",
    "for j in range(q):\n",
    "    print(int(ans[j])) "
   ]
  }
 ],
 "metadata": {
  "kernelspec": {
   "display_name": "Python 3",
   "language": "python",
   "name": "python3"
  },
  "language_info": {
   "codemirror_mode": {
    "name": "ipython",
    "version": 3
   },
   "file_extension": ".py",
   "mimetype": "text/x-python",
   "name": "python",
   "nbconvert_exporter": "python",
   "pygments_lexer": "ipython3",
   "version": "3.7.4"
  }
 },
 "nbformat": 4,
 "nbformat_minor": 2
}
