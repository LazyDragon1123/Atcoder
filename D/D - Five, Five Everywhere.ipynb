{
 "cells": [
  {
   "cell_type": "code",
   "execution_count": 3,
   "metadata": {},
   "outputs": [
    {
     "name": "stdout",
     "output_type": "stream",
     "text": [
      "5\n",
      "11 31 41 61 71\n"
     ]
    }
   ],
   "source": [
    "list_ = []\n",
    "\n",
    "import math\n",
    "\n",
    "def is_prime(n):\n",
    "    if n == 1: return False\n",
    "\n",
    "    for k in range(2, int(math.sqrt(n)) + 1):\n",
    "        if n % k == 0:\n",
    "            return False\n",
    "\n",
    "    return True\n",
    "\n",
    "n = int(55555 / 5)\n",
    "\n",
    "for i in range(1,n):\n",
    "    cand = 1 + 5 * i\n",
    "    if is_prime(cand):\n",
    "        list_.append(cand)\n",
    "\n",
    "k = int(input())\n",
    "\n",
    "st = str()\n",
    "\n",
    "for i in range(k):\n",
    "    if i == 0:\n",
    "        st  =  str(list_[i])\n",
    "    else:\n",
    "        st = st + ' ' + str(list_[i])\n",
    "\n",
    "print(st)"
   ]
  },
  {
   "cell_type": "code",
   "execution_count": null,
   "metadata": {},
   "outputs": [],
   "source": []
  }
 ],
 "metadata": {
  "kernelspec": {
   "display_name": "Python 3",
   "language": "python",
   "name": "python3"
  },
  "language_info": {
   "codemirror_mode": {
    "name": "ipython",
    "version": 3
   },
   "file_extension": ".py",
   "mimetype": "text/x-python",
   "name": "python",
   "nbconvert_exporter": "python",
   "pygments_lexer": "ipython3",
   "version": "3.7.4"
  }
 },
 "nbformat": 4,
 "nbformat_minor": 2
}
