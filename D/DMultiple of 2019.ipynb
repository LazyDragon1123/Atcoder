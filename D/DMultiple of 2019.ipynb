{
 "cells": [
  {
   "cell_type": "code",
   "execution_count": 34,
   "metadata": {},
   "outputs": [
    {
     "name": "stdout",
     "output_type": "stream",
     "text": [
      "1817181712114\n",
      "3\n"
     ]
    }
   ],
   "source": [
    "import numpy as np\n",
    "\n",
    "s = str(int(input()))\n",
    "n = len(s)\n",
    "\n",
    "\n",
    "modul = np.ones(n)\n",
    "\n",
    "modul[0] = int(s[-1]) % 2019\n",
    "\n",
    "\n",
    "if n>1: \n",
    "    dig = 1\n",
    "    for i in range(1,n):\n",
    "        dig = dig*10 %2019\n",
    "        modul[i] = (modul[i-1] + int(s[n-1-i])*(dig))%2019\n",
    "        \n",
    "dic = {}\n",
    "\n",
    "for i in range(n):\n",
    "    if dic.get(modul[i]) is None:\n",
    "        dic[modul[i]] = 1\n",
    "    else:\n",
    "        dic[modul[i]] += 1\n",
    "dic[0] +=1        \n",
    "ans = 0\n",
    "for i in list(dic.values()):\n",
    "    ans += i*(i-1)/2\n",
    "    \n",
    "print(int(ans))"
   ]
  },
  {
   "cell_type": "code",
   "execution_count": null,
   "metadata": {},
   "outputs": [],
   "source": [
    "1817181712114"
   ]
  },
  {
   "cell_type": "code",
   "execution_count": 25,
   "metadata": {},
   "outputs": [
    {
     "data": {
      "text/plain": [
       "{1.0: 1, 71.0: 1, 171.0: 1, 95.0: 2, 0.0: 2, 1426.0: 1, 2.0: 1, 1165.0: 1}"
      ]
     },
     "execution_count": 25,
     "metadata": {},
     "output_type": "execute_result"
    }
   ],
   "source": [
    "dic"
   ]
  },
  {
   "cell_type": "code",
   "execution_count": 22,
   "metadata": {},
   "outputs": [
    {
     "data": {
      "text/plain": [
       "297"
      ]
     },
     "execution_count": 22,
     "metadata": {},
     "output_type": "execute_result"
    }
   ],
   "source": [
    "(181718171-1817)%2019"
   ]
  },
  {
   "cell_type": "code",
   "execution_count": 33,
   "metadata": {},
   "outputs": [
    {
     "data": {
      "text/plain": [
       "465"
      ]
     },
     "execution_count": 33,
     "metadata": {},
     "output_type": "execute_result"
    }
   ],
   "source": [
    "817181712114%2019"
   ]
  },
  {
   "cell_type": "code",
   "execution_count": 30,
   "metadata": {},
   "outputs": [
    {
     "data": {
      "text/plain": [
       "array([1.000e+00, 7.100e+01, 1.710e+02, 9.500e+01, 0.000e+00, 1.426e+03,\n",
       "       2.000e+00, 1.165e+03, 9.500e+01])"
      ]
     },
     "execution_count": 30,
     "metadata": {},
     "output_type": "execute_result"
    }
   ],
   "source": [
    "modul"
   ]
  },
  {
   "cell_type": "code",
   "execution_count": null,
   "metadata": {},
   "outputs": [],
   "source": []
  }
 ],
 "metadata": {
  "kernelspec": {
   "display_name": "Python 3",
   "language": "python",
   "name": "python3"
  },
  "language_info": {
   "codemirror_mode": {
    "name": "ipython",
    "version": 3
   },
   "file_extension": ".py",
   "mimetype": "text/x-python",
   "name": "python",
   "nbconvert_exporter": "python",
   "pygments_lexer": "ipython3",
   "version": "3.7.4"
  }
 },
 "nbformat": 4,
 "nbformat_minor": 2
}
