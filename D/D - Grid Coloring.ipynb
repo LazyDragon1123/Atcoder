{
 "cells": [
  {
   "cell_type": "code",
   "execution_count": 27,
   "metadata": {},
   "outputs": [
    {
     "name": "stdout",
     "output_type": "stream",
     "text": [
      "2 2\n",
      "3\n",
      "2 1 1\n",
      "1 1\n",
      "3 2\n"
     ]
    }
   ],
   "source": [
    "\n",
    "\n",
    "import numpy as np\n",
    "\n",
    "h,w = [int(i) for i in input().split()]\n",
    "n = int(input())\n",
    "a = [int(i) for i in input().split()]\n",
    "\n",
    "def row_create(row,mark):\n",
    "    \n",
    "    res = str()\n",
    "    num = len(row)\n",
    "    for i in range(num):\n",
    "        res = res + str(row[i]) + ' '\n",
    "        \n",
    "\n",
    "    res = res[:-1]\n",
    "    if mark == 1:\n",
    "        res = res[::-1]\n",
    "    return res\n",
    "\n",
    "cout = 0 \n",
    "mark = 0\n",
    "each_row = str()\n",
    "remain_row = w\n",
    "\n",
    "for i in range(n):\n",
    "    num = i + 1\n",
    "    num_str = str(num)\n",
    "    \n",
    "    cout += a[i]\n",
    "    \n",
    "    while cout>=remain_row:\n",
    "        \n",
    "        each_row = each_row + num_str*remain_row\n",
    "\n",
    "        print(row_create(each_row,mark))\n",
    "        \n",
    "        # refreshed\n",
    "        mark = (mark +1)%2\n",
    "        each_row = str()\n",
    "        cout -= remain_row\n",
    "        remain_row=w\n",
    "        \n",
    "        \n",
    "    \n",
    "    if cout < remain_row:\n",
    "        each_row = each_row + num_str*cout\n",
    "        remain_row = remain_row - cout\n",
    "        cout = 0\n",
    "    "
   ]
  }
 ],
 "metadata": {
  "kernelspec": {
   "display_name": "Python 3",
   "language": "python",
   "name": "python3"
  },
  "language_info": {
   "codemirror_mode": {
    "name": "ipython",
    "version": 3
   },
   "file_extension": ".py",
   "mimetype": "text/x-python",
   "name": "python",
   "nbconvert_exporter": "python",
   "pygments_lexer": "ipython3",
   "version": "3.7.4"
  }
 },
 "nbformat": 4,
 "nbformat_minor": 2
}
