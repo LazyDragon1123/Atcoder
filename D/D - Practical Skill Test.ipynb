{
 "cells": [
  {
   "cell_type": "code",
   "execution_count": null,
   "metadata": {},
   "outputs": [],
   "source": [
    "import numpy as np\n",
    "h, w, d = [int(i) for i in input().split()]\n",
    "\n",
    "a = np.ones([h,w])\n",
    "\n",
    "b = np.ones([int(h*w // d), d])\n",
    "\n",
    "for i in range(h):\n",
    "    a[i,:] = [int(i) for i in input().split()]\n",
    "    \n",
    "    \n",
    "q = int(input())\n"
   ]
  }
 ],
 "metadata": {
  "kernelspec": {
   "display_name": "Python 3",
   "language": "python",
   "name": "python3"
  },
  "language_info": {
   "codemirror_mode": {
    "name": "ipython",
    "version": 3
   },
   "file_extension": ".py",
   "mimetype": "text/x-python",
   "name": "python",
   "nbconvert_exporter": "python",
   "pygments_lexer": "ipython3",
   "version": "3.7.4"
  }
 },
 "nbformat": 4,
 "nbformat_minor": 2
}
