{
 "cells": [
  {
   "cell_type": "code",
   "execution_count": 2,
   "metadata": {},
   "outputs": [
    {
     "name": "stdout",
     "output_type": "stream",
     "text": [
      "3\n",
      "-2 5 -1\n",
      "2\n",
      "2 3\n",
      "2 3\n"
     ]
    }
   ],
   "source": [
    "n = int(input())\n",
    "\n",
    "a = [int(i) for i in input().split()]\n",
    "\n",
    "cout = 0\n",
    "ans = []\n",
    "\n",
    "for i in range(n-1):\n",
    "    if a[i] > a[i+1]:\n",
    "        cout += 2\n",
    "        st = str(i+1) + ' ' + str(i+2)\n",
    "        ans.append([st])\n",
    "        ans.append([st])\n",
    "        a [i+1] += a[i]*2 \n",
    "        \n",
    "print(cout)\n",
    "for i in range(cout):\n",
    "    print(ans[i][0])\n",
    "    "
   ]
  },
  {
   "cell_type": "code",
   "execution_count": null,
   "metadata": {},
   "outputs": [],
   "source": []
  }
 ],
 "metadata": {
  "kernelspec": {
   "display_name": "Python 3",
   "language": "python",
   "name": "python3"
  },
  "language_info": {
   "codemirror_mode": {
    "name": "ipython",
    "version": 3
   },
   "file_extension": ".py",
   "mimetype": "text/x-python",
   "name": "python",
   "nbconvert_exporter": "python",
   "pygments_lexer": "ipython3",
   "version": "3.7.4"
  }
 },
 "nbformat": 4,
 "nbformat_minor": 2
}
