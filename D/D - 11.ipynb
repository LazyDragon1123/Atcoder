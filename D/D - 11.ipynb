{
 "cells": [
  {
   "cell_type": "code",
   "execution_count": 12,
   "metadata": {},
   "outputs": [
    {
     "name": "stdout",
     "output_type": "stream",
     "text": [
      "3\n",
      "1 2 1 3\n",
      "3\n",
      "1000000004\n",
      "999999971\n"
     ]
    }
   ],
   "source": [
    "import numpy as np\n",
    "\n",
    "n = int(input())\n",
    "\n",
    "a = [int(i) for i in input().split()]\n",
    "\n",
    "\n",
    "MAX = 10**9+7\n",
    "MOD = 1000000007   # mod\n",
    "#\n",
    "k=10**5\n",
    "\n",
    "fac_k= np.ones(k+1)\n",
    "finv= np.ones(k+1)\n",
    "inv= np.ones(k+1)\n",
    "\n",
    "#\n",
    "\n",
    "fac_k[0] = 1\n",
    "fac_k[1] = n\n",
    "finv[0] = finv[1] = 1\n",
    "inv[1] = 1\n",
    "for i in range(2,k+1):\n",
    "    fac_k[i] = fac_k[i - 1] * (n-i+1) % MOD\n",
    "    inv[i] = MOD - inv[MOD%i] * (MOD / i) % MOD\n",
    "    finv[i] = finv[i - 1] * inv[i] % MOD\n",
    "    i+=1\n",
    "\n",
    "#\n",
    "    \n",
    "    \n",
    "def COM(n, k):\n",
    "    if (n < k):\n",
    "        return 0\n",
    "    if (n < 0) | (k < 0):\n",
    "        return 0\n",
    "    return (fac_k[k] * finv[k] % MOD)\n",
    "\n",
    "\n",
    "\n",
    "\n",
    "def CountFrequency(my_list): \n",
    "  \n",
    "    # Creating an empty dictionary  \n",
    "    freq = {} \n",
    "    for i in range(len(my_list)): \n",
    "        if (my_list[i] in freq): \n",
    "            ind = [freq[my_list[i]],i+1]\n",
    "            return ind\n",
    "        else: \n",
    "            freq[my_list[i]] = i+1\n",
    "  \n",
    "    return None\n",
    "dic = CountFrequency(a)\n",
    "right =dic[0]\n",
    "left = dic[1]\n",
    "\n",
    "div= 10**9+7\n",
    "for i in range(n):\n",
    "    num_s = i+1\n",
    "    if num_s==1:\n",
    "        ans = n+1-1\n",
    "        print(ans)\n",
    "    else:\n",
    "        ans = COM(n+1,num_s)\n",
    "        double_cand = n+1 - (left-right+1)\n",
    "        double_cout = COM(double_cand,num_s-1)\n",
    "        ans = int((ans-double_cout)%div)\n",
    "        print(ans)"
   ]
  },
  {
   "cell_type": "code",
   "execution_count": 9,
   "metadata": {},
   "outputs": [
    {
     "data": {
      "text/plain": [
       "[1, 2]"
      ]
     },
     "execution_count": 9,
     "metadata": {},
     "output_type": "execute_result"
    }
   ],
   "source": [
    "dic"
   ]
  },
  {
   "cell_type": "code",
   "execution_count": null,
   "metadata": {},
   "outputs": [],
   "source": [
    "COM(n+1,)"
   ]
  },
  {
   "cell_type": "code",
   "execution_count": 16,
   "metadata": {},
   "outputs": [
    {
     "data": {
      "text/plain": [
       "0.0"
      ]
     },
     "execution_count": 16,
     "metadata": {},
     "output_type": "execute_result"
    }
   ],
   "source": [
    "COM(3,2)"
   ]
  },
  {
   "cell_type": "code",
   "execution_count": null,
   "metadata": {},
   "outputs": [],
   "source": []
  }
 ],
 "metadata": {
  "kernelspec": {
   "display_name": "Python 3",
   "language": "python",
   "name": "python3"
  },
  "language_info": {
   "codemirror_mode": {
    "name": "ipython",
    "version": 3
   },
   "file_extension": ".py",
   "mimetype": "text/x-python",
   "name": "python",
   "nbconvert_exporter": "python",
   "pygments_lexer": "ipython3",
   "version": "3.7.4"
  }
 },
 "nbformat": 4,
 "nbformat_minor": 2
}
