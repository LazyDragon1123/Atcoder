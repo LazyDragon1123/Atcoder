{
 "cells": [
  {
   "cell_type": "code",
   "execution_count": null,
   "metadata": {},
   "outputs": [],
   "source": [
    "n,x = [int(i) for i in input()split()]\n",
    "\n",
    "al, p = [],[]\n",
    "\n",
    "for i in range(n+1):\n",
    "    if i == 0:\n",
    "        p.append(1)\n",
    "        a.append(1)\n",
    "    else:\n",
    "        p.append(p[i-1]*2 + 1)\n",
    "        a.append(a[i-1]*3 + 3)\n",
    "        \n",
    "        \n",
    "def func(n,x):\n",
    "    if n == 0:\n",
    "        if x != 0:\n",
    "            res = 1\n",
    "        else:\n",
    "            res = 0\n",
    "        return res\n",
    "    elif x < 1 + a[n-1]:\n",
    "        res = func(n-1,x-1)\n",
    "        return res\n",
    "    else:\n",
    "        res = p[i-1] + 1 + func(n-1,x - 2 - a[i-1])\n",
    "        return res\n",
    "    \n",
    "print(func(n,x))"
   ]
  }
 ],
 "metadata": {
  "kernelspec": {
   "display_name": "Python 3",
   "language": "python",
   "name": "python3"
  },
  "language_info": {
   "codemirror_mode": {
    "name": "ipython",
    "version": 3
   },
   "file_extension": ".py",
   "mimetype": "text/x-python",
   "name": "python",
   "nbconvert_exporter": "python",
   "pygments_lexer": "ipython3",
   "version": "3.7.4"
  }
 },
 "nbformat": 4,
 "nbformat_minor": 2
}
