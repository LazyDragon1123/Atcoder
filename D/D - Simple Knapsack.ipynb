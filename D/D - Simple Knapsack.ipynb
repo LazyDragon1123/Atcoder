{
 "cells": [
  {
   "cell_type": "code",
   "execution_count": 8,
   "metadata": {},
   "outputs": [
    {
     "name": "stdout",
     "output_type": "stream",
     "text": [
      "4 10\n",
      "1 100\n",
      "1 100\n",
      "1 100\n",
      "1 100\n",
      "0\n"
     ]
    }
   ],
   "source": [
    "import numpy as np\n",
    "\n",
    "N,W = [int(i) for i in input().split()]\n",
    "\n",
    "w = np.ones(N)\n",
    "v = np.ones(N)\n",
    "\n",
    "for i in range(N):\n",
    "    w[i] , v[i] = [int(i) for i in input().split()]\n",
    "    \n",
    "    \n",
    "w_0 = w[0]\n",
    "v_0 = []\n",
    "v_1 = []\n",
    "v_2 = []\n",
    "v_3 = []\n",
    "\n",
    "for i in range(N):\n",
    "    if w[i] == w_0:\n",
    "        v_0.append(v[i])\n",
    "    elif w[i] == w_0 +1:\n",
    "        v_1.append(v[i])\n",
    "    elif w[i] == w_0 +2:\n",
    "        v_2.append(v[i])\n",
    "    elif w[i] == w_0 +3:\n",
    "        v_3.append(v[i])\n",
    "        \n",
    "        \n",
    "v_0.sort(reverse=True)\n",
    "v_1.sort(reverse=True)\n",
    "v_2.sort(reverse=True)\n",
    "v_3.sort(reverse=True)\n",
    "\n",
    "# cumulative sum\n",
    "\n",
    "v_0_c = np.cumsum(v_0)\n",
    "\n",
    "\n",
    "v_1_c = np.cumsum(v_1)\n",
    "\n",
    "\n",
    "v_2_c = np.cumsum(v_2)\n",
    "\n",
    "\n",
    "v_3_c = np.cumsum(v_3)\n",
    "\n",
    "\n",
    "ans = 0\n",
    "\n",
    "for i in range(len(v_0)):\n",
    "    W_0 = (i+1)*w_0\n",
    "    for j in range(len(v_1)):\n",
    "        W_1 = (j+1)*(w_0+1)\n",
    "        for k in range(len(v_2)):\n",
    "            W_2 = (k+1)*(w_0+2)\n",
    "            for l in range(len(v_3)):\n",
    "                W_3 = (l+1)*(w_0+3)\n",
    "                        \n",
    "                if (W_0+W_1+W_2+W_3)<=W:\n",
    "                    print(\"yes\")\n",
    "                    sum_val = v_0_c[i] + v_1_c[j] + v_2_c[k] + v_3_c[l]\n",
    "                            \n",
    "                    if sum_val > ans:\n",
    "                        ans = sum_val\n",
    "print(ans)\n",
    "    \n",
    "\n",
    "\n"
   ]
  },
  {
   "cell_type": "markdown",
   "metadata": {},
   "source": [
    "# 4 10\n",
    "1 100\n",
    "1 100\n",
    "1 100\n",
    "1 100"
   ]
  },
  {
   "cell_type": "code",
   "execution_count": 9,
   "metadata": {},
   "outputs": [
    {
     "ename": "NameError",
     "evalue": "name 'W_1' is not defined",
     "output_type": "error",
     "traceback": [
      "\u001b[0;31m---------------------------------------------------------------------------\u001b[0m",
      "\u001b[0;31mNameError\u001b[0m                                 Traceback (most recent call last)",
      "\u001b[0;32m<ipython-input-9-3d8a064838e1>\u001b[0m in \u001b[0;36m<module>\u001b[0;34m\u001b[0m\n\u001b[0;32m----> 1\u001b[0;31m \u001b[0mW_1\u001b[0m\u001b[0;34m\u001b[0m\u001b[0;34m\u001b[0m\u001b[0m\n\u001b[0m",
      "\u001b[0;31mNameError\u001b[0m: name 'W_1' is not defined"
     ]
    }
   ],
   "source": [
    "W_1"
   ]
  },
  {
   "cell_type": "code",
   "execution_count": null,
   "metadata": {},
   "outputs": [],
   "source": []
  }
 ],
 "metadata": {
  "kernelspec": {
   "display_name": "Python 3",
   "language": "python",
   "name": "python3"
  },
  "language_info": {
   "codemirror_mode": {
    "name": "ipython",
    "version": 3
   },
   "file_extension": ".py",
   "mimetype": "text/x-python",
   "name": "python",
   "nbconvert_exporter": "python",
   "pygments_lexer": "ipython3",
   "version": "3.7.4"
  }
 },
 "nbformat": 4,
 "nbformat_minor": 2
}
