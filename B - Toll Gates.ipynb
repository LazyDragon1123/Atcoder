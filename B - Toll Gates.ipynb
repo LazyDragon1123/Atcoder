{
 "cells": [
  {
   "cell_type": "code",
   "execution_count": 2,
   "metadata": {},
   "outputs": [
    {
     "name": "stdout",
     "output_type": "stream",
     "text": [
      "5 3 3\n",
      "1 2 4\n",
      "1\n"
     ]
    }
   ],
   "source": [
    "n,m,x = [int(i) for i in input().split()]\n",
    "\n",
    "a = [int(i) for i in input().split()]\n",
    "\n",
    "to0 = len([i for i in a if i < x])\n",
    "ton = len([i for i in a if i > x])\n",
    "\n",
    "ans = int(min(to0,ton))\n",
    "\n",
    "print(ans)"
   ]
  },
  {
   "cell_type": "code",
   "execution_count": null,
   "metadata": {},
   "outputs": [],
   "source": []
  }
 ],
 "metadata": {
  "kernelspec": {
   "display_name": "Python 3",
   "language": "python",
   "name": "python3"
  },
  "language_info": {
   "codemirror_mode": {
    "name": "ipython",
    "version": 3
   },
   "file_extension": ".py",
   "mimetype": "text/x-python",
   "name": "python",
   "nbconvert_exporter": "python",
   "pygments_lexer": "ipython3",
   "version": "3.7.4"
  }
 },
 "nbformat": 4,
 "nbformat_minor": 2
}
