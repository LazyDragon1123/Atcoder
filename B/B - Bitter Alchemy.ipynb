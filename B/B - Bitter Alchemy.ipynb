{
 "cells": [
  {
   "cell_type": "code",
   "execution_count": 1,
   "metadata": {},
   "outputs": [
    {
     "name": "stdout",
     "output_type": "stream",
     "text": [
      "4 360\n",
      "90\n",
      "90\n",
      "90\n",
      "90\n",
      "4\n"
     ]
    }
   ],
   "source": [
    "n,x = [int(i) for i in input().split()]\n",
    "\n",
    "mind = float('inf')\n",
    "for i in range(n):\n",
    "    m_ = int(input())\n",
    "    x -= m_\n",
    "    if mind > m_:\n",
    "        mind = m_\n",
    "ans = n + int(x // mind)\n",
    "print(ans)"
   ]
  },
  {
   "cell_type": "code",
   "execution_count": null,
   "metadata": {},
   "outputs": [],
   "source": []
  }
 ],
 "metadata": {
  "kernelspec": {
   "display_name": "Python 3",
   "language": "python",
   "name": "python3"
  },
  "language_info": {
   "codemirror_mode": {
    "name": "ipython",
    "version": 3
   },
   "file_extension": ".py",
   "mimetype": "text/x-python",
   "name": "python",
   "nbconvert_exporter": "python",
   "pygments_lexer": "ipython3",
   "version": "3.7.4"
  }
 },
 "nbformat": 4,
 "nbformat_minor": 2
}
