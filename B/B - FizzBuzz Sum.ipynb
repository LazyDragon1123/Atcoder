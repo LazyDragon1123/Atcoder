{
 "cells": [
  {
   "cell_type": "code",
   "execution_count": 8,
   "metadata": {},
   "outputs": [
    {
     "name": "stdout",
     "output_type": "stream",
     "text": [
      "1000000\n",
      "266666333332\n"
     ]
    }
   ],
   "source": [
    "n = int(input())\n",
    "\n",
    "initial = 1+2+4+7+8+11+13+14\n",
    "\n",
    "max_per = int((n+1)//15)\n",
    "\n",
    "ans = 0\n",
    "\n",
    "ans+= (max_per*initial + 8*15*(max_per-1)*max_per/2)\n",
    "\n",
    "\n",
    "left = n - 15*max_per\n",
    "\n",
    "if left<=0:\n",
    "    print(int(ans))\n",
    "else:\n",
    "    for i in range(left):\n",
    "        cand = 15*max_per + i+1\n",
    "        if (cand%3!=0) & (cand%5!=0):\n",
    "            ans+= cand\n",
    "    print(int(ans))\n",
    "    \n",
    "\n",
    "            \n",
    "\n",
    "    \n",
    "\n"
   ]
  },
  {
   "cell_type": "code",
   "execution_count": 6,
   "metadata": {},
   "outputs": [
    {
     "data": {
      "text/plain": [
       "33341166607"
      ]
     },
     "execution_count": 6,
     "metadata": {},
     "output_type": "execute_result"
    }
   ],
   "source": [
    "266666333332\n",
    "33341166607"
   ]
  },
  {
   "cell_type": "code",
   "execution_count": null,
   "metadata": {},
   "outputs": [],
   "source": [
    "60*2+30"
   ]
  }
 ],
 "metadata": {
  "kernelspec": {
   "display_name": "Python 3",
   "language": "python",
   "name": "python3"
  },
  "language_info": {
   "codemirror_mode": {
    "name": "ipython",
    "version": 3
   },
   "file_extension": ".py",
   "mimetype": "text/x-python",
   "name": "python",
   "nbconvert_exporter": "python",
   "pygments_lexer": "ipython3",
   "version": "3.7.4"
  }
 },
 "nbformat": 4,
 "nbformat_minor": 2
}
