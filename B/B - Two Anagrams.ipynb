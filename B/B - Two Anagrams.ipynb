{
 "cells": [
  {
   "cell_type": "code",
   "execution_count": 6,
   "metadata": {},
   "outputs": [
    {
     "name": "stdout",
     "output_type": "stream",
     "text": [
      "cd\n",
      "abc\n",
      "No\n"
     ]
    }
   ],
   "source": [
    "s = str(input())\n",
    "t = str(input())\n",
    "\n",
    "st = []\n",
    "ts = []\n",
    "for i in s:\n",
    "    st.append(i)\n",
    "for i in t:\n",
    "    ts.append(i)\n",
    "    \n",
    "\n",
    "st.sort()\n",
    "ts.sort(reverse=True)\n",
    "\n",
    "s = str()\n",
    "t = str()\n",
    "\n",
    "for i in range(len(st)):\n",
    "    s = s + st[i]\n",
    "    \n",
    "for i in range(len(ts)):\n",
    "    t = t + ts[i]\n",
    "\n",
    "if s < t:\n",
    "    print(\"Yes\")\n",
    "else:\n",
    "    print(\"No\")\n",
    "    \n"
   ]
  },
  {
   "cell_type": "code",
   "execution_count": null,
   "metadata": {},
   "outputs": [],
   "source": []
  }
 ],
 "metadata": {
  "kernelspec": {
   "display_name": "Python 3",
   "language": "python",
   "name": "python3"
  },
  "language_info": {
   "codemirror_mode": {
    "name": "ipython",
    "version": 3
   },
   "file_extension": ".py",
   "mimetype": "text/x-python",
   "name": "python",
   "nbconvert_exporter": "python",
   "pygments_lexer": "ipython3",
   "version": "3.7.4"
  }
 },
 "nbformat": 4,
 "nbformat_minor": 2
}
