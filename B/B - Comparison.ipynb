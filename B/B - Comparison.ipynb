{
 "cells": [
  {
   "cell_type": "code",
   "execution_count": null,
   "metadata": {},
   "outputs": [],
   "source": [
    "A = int(input())\n",
    "B = int(input())\n",
    "\n",
    "A_s =str(A)\n",
    "B_s = str(B)\n",
    "\n",
    "if len(A_s) > len(B_s):\n",
    "    print(\"GREATER\")\n",
    "elif len(A_s) < len(B_s):\n",
    "    print(\"LESS\")\n",
    "else:\n",
    "    for i in range(len(A_s)):\n",
    "        if A_s[i] > B_s[i]:\n",
    "            print(\"GREATER\")\n",
    "            break\n",
    "        elif A_s[i] < B_s[i]:\n",
    "            print(\"LESS\")\n",
    "            break\n",
    "        elif (A_s[i] == B_s[i]) & (i == len(A_s)-1):\n",
    "            print(\"EQUAL\")\n",
    "            break\n",
    "            \n",
    "    \n",
    "            "
   ]
  }
 ],
 "metadata": {
  "kernelspec": {
   "display_name": "Python 3",
   "language": "python",
   "name": "python3"
  },
  "language_info": {
   "codemirror_mode": {
    "name": "ipython",
    "version": 3
   },
   "file_extension": ".py",
   "mimetype": "text/x-python",
   "name": "python",
   "nbconvert_exporter": "python",
   "pygments_lexer": "ipython3",
   "version": "3.7.4"
  }
 },
 "nbformat": 4,
 "nbformat_minor": 2
}
