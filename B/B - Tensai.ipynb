{
 "cells": [
  {
   "cell_type": "code",
   "execution_count": 28,
   "metadata": {},
   "outputs": [
    {
     "name": "stdout",
     "output_type": "stream",
     "text": [
      "3 1\n",
      "1 4\n",
      "1 3\n",
      "1 4\n",
      "15\n"
     ]
    }
   ],
   "source": [
    "import numpy as np\n",
    "N, X = [int(i) for i in input().split()]\n",
    "ab = np.ones([N,2])\n",
    "\n",
    "for i in range(N):\n",
    "    ab[i][0], ab[i][1] = [int(i) for i in input().split()]\n",
    "    \n",
    "max_b = ab.max(0)[1]\n",
    "max_b_index = int(np.where(ab[:,1] == max_b)[0][0])\n",
    "ab[max_b_index][0] = X+ab[max_b_index][0]\n",
    "\n",
    "ans = 0\n",
    "\n",
    "for i in range(N):\n",
    "    ans += ab[i][0]*ab[i][1]\n",
    "    \n",
    "print(int(ans))"
   ]
  }
 ],
 "metadata": {
  "kernelspec": {
   "display_name": "Python 3",
   "language": "python",
   "name": "python3"
  },
  "language_info": {
   "codemirror_mode": {
    "name": "ipython",
    "version": 3
   },
   "file_extension": ".py",
   "mimetype": "text/x-python",
   "name": "python",
   "nbconvert_exporter": "python",
   "pygments_lexer": "ipython3",
   "version": "3.7.4"
  }
 },
 "nbformat": 4,
 "nbformat_minor": 2
}
