{
 "cells": [
  {
   "cell_type": "code",
   "execution_count": 4,
   "metadata": {},
   "outputs": [
    {
     "name": "stdout",
     "output_type": "stream",
     "text": [
      "1 1\n",
      "---\n",
      "No\n"
     ]
    }
   ],
   "source": [
    "a, b = [int(i) for i in input().split()]\n",
    "\n",
    "s = str(input())\n",
    "\n",
    "if s[a] == '-' and '-' not in s[:a] and '-' not in s[a+1:]:\n",
    "    print(\"Yes\")\n",
    "else:\n",
    "    print('No')\n",
    "    "
   ]
  }
 ],
 "metadata": {
  "kernelspec": {
   "display_name": "Python 3",
   "language": "python",
   "name": "python3"
  },
  "language_info": {
   "codemirror_mode": {
    "name": "ipython",
    "version": 3
   },
   "file_extension": ".py",
   "mimetype": "text/x-python",
   "name": "python",
   "nbconvert_exporter": "python",
   "pygments_lexer": "ipython3",
   "version": "3.7.4"
  }
 },
 "nbformat": 4,
 "nbformat_minor": 2
}
