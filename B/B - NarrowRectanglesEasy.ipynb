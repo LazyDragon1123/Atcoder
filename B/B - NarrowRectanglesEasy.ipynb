{
 "cells": [
  {
   "cell_type": "code",
   "execution_count": null,
   "metadata": {},
   "outputs": [],
   "source": [
    "W,a,b = [int(i) for i in input().split()]\n",
    "\n",
    "if a<=b:\n",
    "    cand_1 = b-a\n",
    "    cand_2 = abs(b-a-W) + 1\n",
    "    ans = int(min(cand_1,cand_2))\n",
    "else:\n",
    "    cand_1 = a-b\n",
    "    cand_2 = abs(b-a+W) + 1\n",
    "    ans = int(min(cand_1,cand_2))\n",
    "    \n",
    "print(ans)"
   ]
  }
 ],
 "metadata": {
  "kernelspec": {
   "display_name": "Python 3",
   "language": "python",
   "name": "python3"
  },
  "language_info": {
   "codemirror_mode": {
    "name": "ipython",
    "version": 3
   },
   "file_extension": ".py",
   "mimetype": "text/x-python",
   "name": "python",
   "nbconvert_exporter": "python",
   "pygments_lexer": "ipython3",
   "version": "3.7.4"
  }
 },
 "nbformat": 4,
 "nbformat_minor": 2
}
