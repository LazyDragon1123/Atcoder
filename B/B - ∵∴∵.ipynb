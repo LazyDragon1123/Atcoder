{
 "cells": [
  {
   "cell_type": "code",
   "execution_count": null,
   "metadata": {
    "scrolled": true
   },
   "outputs": [],
   "source": [
    "O = str(input())\n",
    "E = str(input())\n",
    "ans = str()\n",
    "\n",
    "if len(O) == len(E):\n",
    "    for i in range(len(O)):\n",
    "        ans = ans + O[i] + E[i]\n",
    "else:\n",
    "    for i in range(len(O)-1):\n",
    "        ans = ans + O[i] + E[i]\n",
    "    ans = ans + O[-1]\n",
    "    \n",
    "print(ans)"
   ]
  }
 ],
 "metadata": {
  "kernelspec": {
   "display_name": "Python 3",
   "language": "python",
   "name": "python3"
  },
  "language_info": {
   "codemirror_mode": {
    "name": "ipython",
    "version": 3
   },
   "file_extension": ".py",
   "mimetype": "text/x-python",
   "name": "python",
   "nbconvert_exporter": "python",
   "pygments_lexer": "ipython3",
   "version": "3.7.4"
  }
 },
 "nbformat": 4,
 "nbformat_minor": 2
}
