{
 "cells": [
  {
   "cell_type": "code",
   "execution_count": 25,
   "metadata": {},
   "outputs": [
    {
     "name": "stdout",
     "output_type": "stream",
     "text": [
      "1 1 2\n",
      "10\n",
      "10\n",
      "1 1 5\n",
      "1 1 10\n",
      "10\n"
     ]
    }
   ],
   "source": [
    "import numpy as np\n",
    "\n",
    "\n",
    "A,B,M  = [int(i) for i in input().split()]\n",
    "\n",
    "a = [int(i) for i in input().split()]\n",
    "\n",
    "b = [int(i) for i in input().split()]\n",
    "\n",
    "order = np.ones([M,3])\n",
    "\n",
    "for i in range(M):\n",
    "    order[i,0],order[i,1],order[i,2] = [int(j) for j in input().split()]\n",
    "    \n",
    "dis_pri = float('inf')\n",
    "# discount\n",
    "for i in range(M):\n",
    "    if dis_pri > (a[int(order[i,0])-1] + b[int(order[i,1])-1] - order[i,2]):\n",
    "        dis_pri = int(a[int(order[i,0])-1] + b[int(order[i,1])-1] - order[i,2])\n",
    "        \n",
    "\n",
    "\n",
    "        \n",
    "sim_pri = int(min(a) + min(b))\n",
    "ans = min(sim_pri, dis_pri)\n",
    "              \n",
    "print(ans)"
   ]
  },
  {
   "cell_type": "code",
   "execution_count": null,
   "metadata": {},
   "outputs": [],
   "source": [
    "1 1 2\n",
    "10\n",
    "10\n",
    "1 1 5\n",
    "1 1 10"
   ]
  },
  {
   "cell_type": "code",
   "execution_count": 24,
   "metadata": {},
   "outputs": [
    {
     "data": {
      "text/plain": [
       "array([[ 1.,  1.,  5.],\n",
       "       [ 1.,  1., 10.]])"
      ]
     },
     "execution_count": 24,
     "metadata": {},
     "output_type": "execute_result"
    }
   ],
   "source": [
    "order"
   ]
  },
  {
   "cell_type": "code",
   "execution_count": 19,
   "metadata": {},
   "outputs": [
    {
     "data": {
      "text/plain": [
       "array([[1., 2., 1.]])"
      ]
     },
     "execution_count": 19,
     "metadata": {},
     "output_type": "execute_result"
    }
   ],
   "source": [
    "order"
   ]
  },
  {
   "cell_type": "code",
   "execution_count": 22,
   "metadata": {},
   "outputs": [
    {
     "data": {
      "text/plain": [
       "1.0"
      ]
     },
     "execution_count": 22,
     "metadata": {},
     "output_type": "execute_result"
    }
   ],
   "source": [
    "order[0,0]"
   ]
  },
  {
   "cell_type": "code",
   "execution_count": null,
   "metadata": {},
   "outputs": [],
   "source": []
  }
 ],
 "metadata": {
  "kernelspec": {
   "display_name": "Python 3",
   "language": "python",
   "name": "python3"
  },
  "language_info": {
   "codemirror_mode": {
    "name": "ipython",
    "version": 3
   },
   "file_extension": ".py",
   "mimetype": "text/x-python",
   "name": "python",
   "nbconvert_exporter": "python",
   "pygments_lexer": "ipython3",
   "version": "3.7.4"
  }
 },
 "nbformat": 4,
 "nbformat_minor": 2
}
