{
 "cells": [
  {
   "cell_type": "code",
   "execution_count": 1,
   "metadata": {},
   "outputs": [
    {
     "name": "stdout",
     "output_type": "stream",
     "text": [
      "3 70\n",
      "1 80\n",
      "4 50\n",
      "2 404\n",
      "4\n"
     ]
    }
   ],
   "source": [
    "n,t = [int(i) for i in input().split()]\n",
    "ans = float('inf')\n",
    "\n",
    "for i in range(n):\n",
    "    c, time = [int(i) for i in input().split()]\n",
    "    \n",
    "    if time <= t:\n",
    "        if ans > c:\n",
    "            ans = c\n",
    "            \n",
    "print(ans)"
   ]
  },
  {
   "cell_type": "code",
   "execution_count": null,
   "metadata": {},
   "outputs": [],
   "source": []
  }
 ],
 "metadata": {
  "kernelspec": {
   "display_name": "Python 3",
   "language": "python",
   "name": "python3"
  },
  "language_info": {
   "codemirror_mode": {
    "name": "ipython",
    "version": 3
   },
   "file_extension": ".py",
   "mimetype": "text/x-python",
   "name": "python",
   "nbconvert_exporter": "python",
   "pygments_lexer": "ipython3",
   "version": "3.7.4"
  }
 },
 "nbformat": 4,
 "nbformat_minor": 2
}
