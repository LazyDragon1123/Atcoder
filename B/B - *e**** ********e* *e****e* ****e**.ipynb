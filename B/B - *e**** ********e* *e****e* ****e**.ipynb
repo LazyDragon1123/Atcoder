{
 "cells": [
  {
   "cell_type": "code",
   "execution_count": 2,
   "metadata": {},
   "outputs": [
    {
     "name": "stdout",
     "output_type": "stream",
     "text": [
      "5\n",
      "affrf\n",
      "2\n",
      "a**r*\n"
     ]
    }
   ],
   "source": [
    "\n",
    "\n",
    "N = int(input())\n",
    "S = str(input())\n",
    "K =int(input())\n",
    "\n",
    "K_char = S[K-1]\n",
    "ans = ''\n",
    "for i in S:\n",
    "    if i == K_char:\n",
    "        ans += i\n",
    "    elif  i != K_char:\n",
    "        ans += '*'\n",
    "        \n",
    "print(ans)"
   ]
  },
  {
   "cell_type": "code",
   "execution_count": null,
   "metadata": {},
   "outputs": [],
   "source": []
  }
 ],
 "metadata": {
  "kernelspec": {
   "display_name": "Python 3",
   "language": "python",
   "name": "python3"
  },
  "language_info": {
   "codemirror_mode": {
    "name": "ipython",
    "version": 3
   },
   "file_extension": ".py",
   "mimetype": "text/x-python",
   "name": "python",
   "nbconvert_exporter": "python",
   "pygments_lexer": "ipython3",
   "version": "3.7.4"
  }
 },
 "nbformat": 4,
 "nbformat_minor": 2
}
