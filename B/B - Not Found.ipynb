{
 "cells": [
  {
   "cell_type": "code",
   "execution_count": null,
   "metadata": {},
   "outputs": [],
   "source": [
    "alpha = 'abcdefghijklmnopqrstu'\n",
    "dic ={}\n",
    "\n",
    "for i in range(len(alpha)):\n",
    "    dic[alpha[i]] = 1\n",
    "    \n",
    "s = str(input())\n",
    "\n",
    "for i in range(len(s)):\n",
    "    st_i = s[i]:\n",
    "    dic[st_i] = 0\n",
    "    \n",
    "for i in range(len(alpha)):\n",
    "    if dic[alpha[i]] == 1:\n",
    "        print(alpha[i])\n",
    "        break\n",
    "    elif i == len(alpha)-1:\n",
    "        print(\"None\")"
   ]
  }
 ],
 "metadata": {
  "kernelspec": {
   "display_name": "Python 3",
   "language": "python",
   "name": "python3"
  },
  "language_info": {
   "codemirror_mode": {
    "name": "ipython",
    "version": 3
   },
   "file_extension": ".py",
   "mimetype": "text/x-python",
   "name": "python",
   "nbconvert_exporter": "python",
   "pygments_lexer": "ipython3",
   "version": "3.7.4"
  }
 },
 "nbformat": 4,
 "nbformat_minor": 2
}
