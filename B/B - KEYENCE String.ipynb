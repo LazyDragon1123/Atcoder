{
 "cells": [
  {
   "cell_type": "code",
   "execution_count": 4,
   "metadata": {},
   "outputs": [
    {
     "name": "stdout",
     "output_type": "stream",
     "text": [
      "keyence\n",
      "Yes\n"
     ]
    }
   ],
   "source": [
    "Key_str = 7\n",
    "\n",
    "S = str(input())\n",
    "count =0\n",
    "\n",
    "if len(S)<Key_str:\n",
    "    print(\"No\")\n",
    "\n",
    "else:\n",
    "    del_str = len(S)-Key_str\n",
    "    \n",
    "    for i in range(len(S)-del_str):\n",
    "        try_str = S[:i] + S[i+del_str:]\n",
    "        if try_str == 'keyence':\n",
    "            print(\"Yes\")\n",
    "            count+=1\n",
    "            break\n",
    "    if count==0:\n",
    "        print(\"No\")\n",
    "        \n",
    "\n",
    "            \n",
    "            \n",
    "            \n",
    "    "
   ]
  },
  {
   "cell_type": "code",
   "execution_count": null,
   "metadata": {},
   "outputs": [],
   "source": []
  },
  {
   "cell_type": "code",
   "execution_count": null,
   "metadata": {},
   "outputs": [],
   "source": []
  }
 ],
 "metadata": {
  "kernelspec": {
   "display_name": "Python 3",
   "language": "python",
   "name": "python3"
  },
  "language_info": {
   "codemirror_mode": {
    "name": "ipython",
    "version": 3
   },
   "file_extension": ".py",
   "mimetype": "text/x-python",
   "name": "python",
   "nbconvert_exporter": "python",
   "pygments_lexer": "ipython3",
   "version": "3.7.4"
  }
 },
 "nbformat": 4,
 "nbformat_minor": 2
}
