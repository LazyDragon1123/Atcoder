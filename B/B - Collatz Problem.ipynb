{
 "cells": [
  {
   "cell_type": "code",
   "execution_count": 3,
   "metadata": {},
   "outputs": [
    {
     "name": "stdout",
     "output_type": "stream",
     "text": [
      "54\n",
      "114\n"
     ]
    }
   ],
   "source": [
    "s = int(input())\n",
    "\n",
    "cout = 0\n",
    "dic = {}\n",
    "\n",
    "def f(n):\n",
    "    if n%2 == 0:\n",
    "        return n/2\n",
    "    else:\n",
    "        return 3*n+1\n",
    "dic[s] = 1\n",
    "for i in range(10**6):\n",
    "    cout += 1\n",
    "    if dic.get(f(s)) is None:\n",
    "        dic[f(s)] = 1\n",
    "        s = f(s)\n",
    "    else:\n",
    "        break\n",
    "print(cout+1)"
   ]
  },
  {
   "cell_type": "code",
   "execution_count": null,
   "metadata": {},
   "outputs": [],
   "source": []
  }
 ],
 "metadata": {
  "kernelspec": {
   "display_name": "Python 3",
   "language": "python",
   "name": "python3"
  },
  "language_info": {
   "codemirror_mode": {
    "name": "ipython",
    "version": 3
   },
   "file_extension": ".py",
   "mimetype": "text/x-python",
   "name": "python",
   "nbconvert_exporter": "python",
   "pygments_lexer": "ipython3",
   "version": "3.7.4"
  }
 },
 "nbformat": 4,
 "nbformat_minor": 2
}
