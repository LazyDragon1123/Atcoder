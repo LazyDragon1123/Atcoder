{
 "cells": [
  {
   "cell_type": "code",
   "execution_count": null,
   "metadata": {},
   "outputs": [],
   "source": [
    "a,b,c,d = [int(i) for i in input().split()]\n",
    "\n",
    "begin_num = max(a,c)\n",
    "end_num  = min(b,d)\n",
    "\n",
    "ans = end_num - begin_num\n",
    "\n",
    "if ans < 0:\n",
    "    ans = 0\n",
    "\n",
    "print(int(ans))"
   ]
  }
 ],
 "metadata": {
  "kernelspec": {
   "display_name": "Python 3",
   "language": "python",
   "name": "python3"
  },
  "language_info": {
   "codemirror_mode": {
    "name": "ipython",
    "version": 3
   },
   "file_extension": ".py",
   "mimetype": "text/x-python",
   "name": "python",
   "nbconvert_exporter": "python",
   "pygments_lexer": "ipython3",
   "version": "3.7.4"
  }
 },
 "nbformat": 4,
 "nbformat_minor": 2
}
