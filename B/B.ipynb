{
 "cells": [
  {
   "cell_type": "code",
   "execution_count": null,
   "metadata": {},
   "outputs": [],
   "source": [
    "import numpy as np\n",
    "\n",
    "N,A,B = [int(i) for i in input().split()]\n",
    "\n",
    "per = int(N//(A+B))\n",
    "\n",
    "last = int(N%(A+B))\n",
    "\n",
    "if last <=3:\n",
    "    add_ = last\n",
    "else:\n",
    "    add_=3\n",
    "    \n",
    "ans =int(3*per+add_)"
   ]
  }
 ],
 "metadata": {
  "kernelspec": {
   "display_name": "Python 3",
   "language": "python",
   "name": "python3"
  },
  "language_info": {
   "codemirror_mode": {
    "name": "ipython",
    "version": 3
   },
   "file_extension": ".py",
   "mimetype": "text/x-python",
   "name": "python",
   "nbconvert_exporter": "python",
   "pygments_lexer": "ipython3",
   "version": "3.7.4"
  }
 },
 "nbformat": 4,
 "nbformat_minor": 2
}
