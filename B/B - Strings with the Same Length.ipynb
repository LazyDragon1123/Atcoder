{
 "cells": [
  {
   "cell_type": "code",
   "execution_count": 23,
   "metadata": {},
   "outputs": [
    {
     "name": "stdout",
     "output_type": "stream",
     "text": [
      "3\n",
      "adf gdf\n",
      "agddff\n"
     ]
    }
   ],
   "source": [
    "import numpy as np\n",
    "N = int(input())\n",
    "\n",
    "S,T = [str(_) for _ in input().split()]\n",
    "\n",
    "S_char =[ i for i in S]\n",
    "T_char =[ i for i in T]\n",
    "new_S = []\n",
    "for i in range(2*N):\n",
    "    if i%2 == 0:\n",
    "        new_S = np.append(new_S,S_char[int(i/2)])\n",
    "    elif i%2 != 0:\n",
    "        new_S = np.append(new_S,T_char[int((i-1)/2)])\n",
    "        \n",
    "ans = str(''.join(map(str,new_S)))\n",
    "print(ans)"
   ]
  }
 ],
 "metadata": {
  "kernelspec": {
   "display_name": "Python 3",
   "language": "python",
   "name": "python3"
  },
  "language_info": {
   "codemirror_mode": {
    "name": "ipython",
    "version": 3
   },
   "file_extension": ".py",
   "mimetype": "text/x-python",
   "name": "python",
   "nbconvert_exporter": "python",
   "pygments_lexer": "ipython3",
   "version": "3.7.4"
  }
 },
 "nbformat": 4,
 "nbformat_minor": 2
}
