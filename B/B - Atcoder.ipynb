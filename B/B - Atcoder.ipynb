{
 "cells": [
  {
   "cell_type": "code",
   "execution_count": 1,
   "metadata": {},
   "outputs": [
    {
     "name": "stdout",
     "output_type": "stream",
     "text": [
      "ATCODER\n",
      "3\n"
     ]
    }
   ],
   "source": [
    "s = str(input())\n",
    "\n",
    "lis = ['A','G','T','C']\n",
    "\n",
    "cout = 0\n",
    "temp = 0\n",
    "\n",
    "for i in range(len(s)):\n",
    "    \n",
    "    if s[i] in lis:\n",
    "        if temp >0:\n",
    "            temp +=1\n",
    "        else:\n",
    "            temp = 1\n",
    "    else:\n",
    "        if temp > cout:\n",
    "            cout = temp\n",
    "            temp = 0\n",
    "        else:\n",
    "            temp = 0\n",
    "            \n",
    "print(cout)"
   ]
  },
  {
   "cell_type": "code",
   "execution_count": null,
   "metadata": {},
   "outputs": [],
   "source": []
  }
 ],
 "metadata": {
  "kernelspec": {
   "display_name": "Python 3",
   "language": "python",
   "name": "python3"
  },
  "language_info": {
   "codemirror_mode": {
    "name": "ipython",
    "version": 3
   },
   "file_extension": ".py",
   "mimetype": "text/x-python",
   "name": "python",
   "nbconvert_exporter": "python",
   "pygments_lexer": "ipython3",
   "version": "3.7.4"
  }
 },
 "nbformat": 4,
 "nbformat_minor": 2
}
