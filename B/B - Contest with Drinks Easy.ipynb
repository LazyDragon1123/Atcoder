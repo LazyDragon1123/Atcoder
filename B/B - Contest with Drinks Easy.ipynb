{
 "cells": [
  {
   "cell_type": "code",
   "execution_count": null,
   "metadata": {},
   "outputs": [],
   "source": [
    "import numpy as np\n",
    "\n",
    "N = int(input())\n",
    "T = [int(i) for i in input().split()]\n",
    "\n",
    "M = int(input())\n",
    "\n",
    "P = np.ones(M)\n",
    "X = np.ones(M)\n",
    "\n",
    "for i in range(M):\n",
    "    \n",
    "    P[i],X[i] = [int(i) for i in input().split()]\n",
    "    \n",
    "ans = sum(T)\n",
    "\n",
    "for i in range(M):\n",
    "    ans_ = int(ans + X[i] - T[int(P[i])])\n",
    "    print(ans_)"
   ]
  }
 ],
 "metadata": {
  "kernelspec": {
   "display_name": "Python 3",
   "language": "python",
   "name": "python3"
  },
  "language_info": {
   "codemirror_mode": {
    "name": "ipython",
    "version": 3
   },
   "file_extension": ".py",
   "mimetype": "text/x-python",
   "name": "python",
   "nbconvert_exporter": "python",
   "pygments_lexer": "ipython3",
   "version": "3.7.4"
  }
 },
 "nbformat": 4,
 "nbformat_minor": 2
}
