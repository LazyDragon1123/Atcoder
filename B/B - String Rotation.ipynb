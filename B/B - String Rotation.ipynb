{
 "cells": [
  {
   "cell_type": "code",
   "execution_count": 24,
   "metadata": {},
   "outputs": [
    {
     "name": "stdout",
     "output_type": "stream",
     "text": [
      "tokyo\n",
      "kyoto\n",
      "tokyo\n",
      "otoky\n",
      "yotok\n",
      "kyoto\n",
      "Yes\n"
     ]
    }
   ],
   "source": [
    "from itertools import cycle as pm\n",
    "\n",
    "s = str(input())\n",
    "t = str(input())\n",
    "\n",
    "ans = 'No'\n",
    "separator = ''\n",
    "for i in range(len(s)):\n",
    "    cand = s[len(s)-i:] +  s[:len(s)-i] \n",
    "    print(cand)\n",
    "    if cand == t:\n",
    "        ans = 'Yes'\n",
    "        break\n",
    "print(ans)"
   ]
  },
  {
   "cell_type": "code",
   "execution_count": null,
   "metadata": {},
   "outputs": [],
   "source": []
  }
 ],
 "metadata": {
  "kernelspec": {
   "display_name": "Python 3",
   "language": "python",
   "name": "python3"
  },
  "language_info": {
   "codemirror_mode": {
    "name": "ipython",
    "version": 3
   },
   "file_extension": ".py",
   "mimetype": "text/x-python",
   "name": "python",
   "nbconvert_exporter": "python",
   "pygments_lexer": "ipython3",
   "version": "3.7.4"
  }
 },
 "nbformat": 4,
 "nbformat_minor": 2
}
