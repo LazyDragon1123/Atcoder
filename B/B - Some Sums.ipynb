{
 "cells": [
  {
   "cell_type": "code",
   "execution_count": 3,
   "metadata": {},
   "outputs": [
    {
     "name": "stdout",
     "output_type": "stream",
     "text": [
      "20 2 5\n",
      "30\n"
     ]
    }
   ],
   "source": [
    "import numpy as np\n",
    "\n",
    "n, a, b = [int(i) for i in input().split()]\n",
    "\n",
    "ans = 0\n",
    "\n",
    "def check(m):\n",
    "    mst = str(m)\n",
    "    res = 0\n",
    "    for i in mst:\n",
    "        res += int(i)\n",
    "        \n",
    "    return res\n",
    "\n",
    "\n",
    "for num in range(1,n+1):\n",
    "    if a<= check(num) and b>=check(num):\n",
    "        ans += num\n",
    "    \n",
    "print(ans)"
   ]
  },
  {
   "cell_type": "code",
   "execution_count": null,
   "metadata": {},
   "outputs": [],
   "source": []
  }
 ],
 "metadata": {
  "kernelspec": {
   "display_name": "Python 3",
   "language": "python",
   "name": "python3"
  },
  "language_info": {
   "codemirror_mode": {
    "name": "ipython",
    "version": 3
   },
   "file_extension": ".py",
   "mimetype": "text/x-python",
   "name": "python",
   "nbconvert_exporter": "python",
   "pygments_lexer": "ipython3",
   "version": "3.7.4"
  }
 },
 "nbformat": 4,
 "nbformat_minor": 2
}
