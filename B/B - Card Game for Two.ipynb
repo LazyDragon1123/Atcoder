{
 "cells": [
  {
   "cell_type": "code",
   "execution_count": 7,
   "metadata": {},
   "outputs": [
    {
     "name": "stdout",
     "output_type": "stream",
     "text": [
      "2\n",
      "3 1\n",
      "2\n"
     ]
    }
   ],
   "source": [
    "n = int(input())\n",
    "a = [int(i) for i in input().split()]\n",
    "\n",
    "a.sort(reverse = True)\n",
    "\n",
    "A = sum(a[::2])\n",
    "B = sum(a[1::2])\n",
    "\n",
    "ans = A - B\n",
    "\n",
    "print(ans)"
   ]
  }
 ],
 "metadata": {
  "kernelspec": {
   "display_name": "Python 3",
   "language": "python",
   "name": "python3"
  },
  "language_info": {
   "codemirror_mode": {
    "name": "ipython",
    "version": 3
   },
   "file_extension": ".py",
   "mimetype": "text/x-python",
   "name": "python",
   "nbconvert_exporter": "python",
   "pygments_lexer": "ipython3",
   "version": "3.7.4"
  }
 },
 "nbformat": 4,
 "nbformat_minor": 2
}
