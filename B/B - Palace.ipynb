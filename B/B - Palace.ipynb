{
 "cells": [
  {
   "cell_type": "code",
   "execution_count": 14,
   "metadata": {},
   "outputs": [
    {
     "name": "stdout",
     "output_type": "stream",
     "text": [
      "3\n",
      "4 8\n",
      "13 6\n",
      "2\n"
     ]
    }
   ],
   "source": [
    "import numpy as np\n",
    "\n",
    "N = int(input())\n",
    "\n",
    "T, A = [int(i) for i in input().split()]\n",
    "\n",
    "H = np.array([int(i) for i in input().split()])\n",
    "\n",
    "temp = T - 0.006*H\n",
    "\n",
    "temp_def = temp-A\n",
    "\n",
    "temp_target = min(abs(temp_def))\n",
    "\n",
    "ans = int(np.where(abs(temp_def) == temp_target)[0]) +1\n",
    "\n",
    "\n",
    "print(ans)"
   ]
  }
 ],
 "metadata": {
  "kernelspec": {
   "display_name": "Python 3",
   "language": "python",
   "name": "python3"
  },
  "language_info": {
   "codemirror_mode": {
    "name": "ipython",
    "version": 3
   },
   "file_extension": ".py",
   "mimetype": "text/x-python",
   "name": "python",
   "nbconvert_exporter": "python",
   "pygments_lexer": "ipython3",
   "version": "3.7.4"
  }
 },
 "nbformat": 4,
 "nbformat_minor": 2
}
