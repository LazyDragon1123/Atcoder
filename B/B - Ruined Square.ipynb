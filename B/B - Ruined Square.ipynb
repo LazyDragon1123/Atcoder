{
 "cells": [
  {
   "cell_type": "code",
   "execution_count": 1,
   "metadata": {},
   "outputs": [
    {
     "name": "stdout",
     "output_type": "stream",
     "text": [
      "0 0 0 1\n",
      "-1 1 -1 0\n"
     ]
    }
   ],
   "source": [
    "x1, y1, x2, y2 = [int(i) for i in input().split()]\n",
    "\n",
    "if x1 == x2:\n",
    "    if y1 > y2:\n",
    "        x3, y3, x4, y4 = x2+y1-y2, y2,  x2+y1-y2, y1\n",
    "        \n",
    "    else:\n",
    "        x3, y3, x4, y4 = x2+y1-y2, y2,  x2+y1-y2, y1\n",
    "    \n",
    "    \n",
    "else:\n",
    "    if x1 > x2:\n",
    "        x3, y3, x4, y4 = x2, y2-x1+x2,  x1, y2-x1+x2\n",
    "    else:\n",
    "        x3, y3, x4, y4 = x2, y2-x1+x2,  x1, y2-x1+x2\n",
    "        \n",
    "        \n",
    "ans = str(x3) + ' ' +str(y3) + ' ' + str(x4) + ' ' + str(y4)\n",
    "print(ans)"
   ]
  },
  {
   "cell_type": "code",
   "execution_count": null,
   "metadata": {},
   "outputs": [],
   "source": []
  }
 ],
 "metadata": {
  "kernelspec": {
   "display_name": "Python 3",
   "language": "python",
   "name": "python3"
  },
  "language_info": {
   "codemirror_mode": {
    "name": "ipython",
    "version": 3
   },
   "file_extension": ".py",
   "mimetype": "text/x-python",
   "name": "python",
   "nbconvert_exporter": "python",
   "pygments_lexer": "ipython3",
   "version": "3.7.4"
  }
 },
 "nbformat": 4,
 "nbformat_minor": 2
}
