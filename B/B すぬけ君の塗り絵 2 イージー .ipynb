{
 "cells": [
  {
   "cell_type": "code",
   "execution_count": 1,
   "metadata": {},
   "outputs": [
    {
     "name": "stdout",
     "output_type": "stream",
     "text": [
      "5 4 2\n",
      "2 1 1\n",
      "3 3 4\n"
     ]
    }
   ],
   "source": [
    "import numpy as np\n",
    "\n",
    "W,H,N = [int(i) for i in input().split()]\n",
    "\n",
    "x = np.ones(N)\n",
    "y = np.ones(N)\n",
    "a = np.ones(N)\n",
    "\n",
    "for i in range(N):\n",
    "    x[i],y[i],a[i] = [int(i) for i in input().split()]\n",
    "    \n",
    "\n",
    "\n",
    "init_s = np.zeros([H+1,W+1])\n",
    "\n",
    "ind_a_1 = [ind for ind,v in enumerate(a) if v == 1]\n",
    "ind_a_2 = [ind for ind,v in enumerate(a) if v == 2]\n",
    "ind_a_3 = [ind for ind,v in enumerate(a) if v == 3]\n",
    "ind_a_4 = [ind for ind,v in enumerate(a) if v == 4]\n",
    "\n",
    "if len(ind_a_1)==0:\n",
    "    x_1 = 0\n",
    "else:\n",
    "    x_1=x[int(ind_a_1[0])]\n",
    "    for i in ind_a_1:\n",
    "        int_ind = int(i)\n",
    "        if x_1<x[int_ind]:\n",
    "            x_1=x[int_ind]\n",
    "    \n",
    "if len(ind_a_3)==0:\n",
    "    y_3 = 0\n",
    "else:\n",
    "    y_3=y[int(ind_a_3[0])]\n",
    "    for i in ind_a_3:\n",
    "        int_ind = int(i)\n",
    "        if y_3<y[int_ind]:\n",
    "            y_3=y[int_ind]  \n",
    "            \n",
    "if len(ind_a_2)==0:\n",
    "    x_2 = W+1\n",
    "else:\n",
    "    x_2=x[int(ind_a_2[0])]\n",
    "    for i in ind_a_2:\n",
    "        int_ind = int(i)\n",
    "        if x_2>x[int_ind]:\n",
    "            x_2=x[int_ind]\n",
    "            \n",
    "if len(ind_a_4)==0:\n",
    "    y_4 = H+1\n",
    "else:\n",
    "    y_4=y[int(ind_a_4[0])]\n",
    "    for i in ind_a_4:\n",
    "        int_ind = int(i)\n",
    "        if y_4>y[int_ind]:\n",
    "            y_4=y[int_ind]\n",
    "            \n",
    "            \n",
    "if (x_2-x_1>0) & (y_4-y_3>0):\n",
    "    ans =int((x_2-x_1>0)*(y_4-y_3>0))\n",
    "else:\n",
    "    ans = int(0)\n",
    "print(ans)"
   ]
  },
  {
   "cell_type": "code",
   "execution_count": 2,
   "metadata": {},
   "outputs": [
    {
     "data": {
      "text/plain": [
       "2.0"
      ]
     },
     "execution_count": 2,
     "metadata": {},
     "output_type": "execute_result"
    }
   ],
   "source": [
    "x_1"
   ]
  },
  {
   "cell_type": "code",
   "execution_count": null,
   "metadata": {},
   "outputs": [],
   "source": []
  }
 ],
 "metadata": {
  "kernelspec": {
   "display_name": "Python 3",
   "language": "python",
   "name": "python3"
  },
  "language_info": {
   "codemirror_mode": {
    "name": "ipython",
    "version": 3
   },
   "file_extension": ".py",
   "mimetype": "text/x-python",
   "name": "python",
   "nbconvert_exporter": "python",
   "pygments_lexer": "ipython3",
   "version": "3.7.4"
  }
 },
 "nbformat": 4,
 "nbformat_minor": 2
}
