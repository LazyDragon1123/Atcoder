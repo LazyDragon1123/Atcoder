{
 "cells": [
  {
   "cell_type": "code",
   "execution_count": 1,
   "metadata": {},
   "outputs": [
    {
     "name": "stdout",
     "output_type": "stream",
     "text": [
      "AtCoder\n",
      "AC\n"
     ]
    }
   ],
   "source": [
    "s = str(input())\n",
    "\n",
    "flag = 'WC'\n",
    "\n",
    "if  s[0] == 'A':\n",
    "    s_ = s[2:]\n",
    "    if 'C' in s_:\n",
    "        ind = s_.index('C')\n",
    "        if ind == len(s_)-1:\n",
    "            s__ = s[1] + s_[:ind]\n",
    "        else:\n",
    "            s__ = s[1] + s_[:ind] + s_[ind+1:]\n",
    "        if s__ == s__.lower():\n",
    "            flag = 'AC'\n",
    "            \n",
    "print(flag)"
   ]
  },
  {
   "cell_type": "code",
   "execution_count": null,
   "metadata": {},
   "outputs": [],
   "source": []
  }
 ],
 "metadata": {
  "kernelspec": {
   "display_name": "Python 3",
   "language": "python",
   "name": "python3"
  },
  "language_info": {
   "codemirror_mode": {
    "name": "ipython",
    "version": 3
   },
   "file_extension": ".py",
   "mimetype": "text/x-python",
   "name": "python",
   "nbconvert_exporter": "python",
   "pygments_lexer": "ipython3",
   "version": "3.7.4"
  }
 },
 "nbformat": 4,
 "nbformat_minor": 2
}
