{
 "cells": [
  {
   "cell_type": "code",
   "execution_count": 1,
   "metadata": {},
   "outputs": [
    {
     "name": "stdout",
     "output_type": "stream",
     "text": [
      "1234567876\n",
      "34\n"
     ]
    }
   ],
   "source": [
    "s = str(input())\n",
    "\n",
    "temp = [2,3,4]\n",
    "ans = float('inf')\n",
    "\n",
    "for i in temp:\n",
    "    for j in range(len(s)-i+1):\n",
    "        num = int(s[j:j+i])\n",
    "        cand = abs(753-num)\n",
    "        if cand < ans:\n",
    "            ans = cand\n",
    "            \n",
    "print(ans)"
   ]
  }
 ],
 "metadata": {
  "kernelspec": {
   "display_name": "Python 3",
   "language": "python",
   "name": "python3"
  },
  "language_info": {
   "codemirror_mode": {
    "name": "ipython",
    "version": 3
   },
   "file_extension": ".py",
   "mimetype": "text/x-python",
   "name": "python",
   "nbconvert_exporter": "python",
   "pygments_lexer": "ipython3",
   "version": "3.7.4"
  }
 },
 "nbformat": 4,
 "nbformat_minor": 2
}
