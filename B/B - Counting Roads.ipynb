{
 "cells": [
  {
   "cell_type": "code",
   "execution_count": null,
   "metadata": {},
   "outputs": [],
   "source": [
    "import numpy as np\n",
    "\n",
    "\n",
    "\n",
    "N,M =[int(i) for i in input().split()]\n",
    "\n",
    "a = np.ones(M)\n",
    "b = np.ones(M)\n",
    "\n",
    "for i in range(M):\n",
    "    a[i],b[i] = [int(j) for j in input().split()]\n",
    "    \n",
    "ans = np.zeros(N)\n",
    "    \n",
    "for i in range(M):\n",
    "    A = int(a[i]-1)\n",
    "    B = int(b[i]-1)\n",
    "    ans[A]+=1\n",
    "    ans[B]+=1\n",
    "    \n",
    "for i in range(N):\n",
    "    print(int(ans[i]))\n",
    "    \n"
   ]
  }
 ],
 "metadata": {
  "kernelspec": {
   "display_name": "Python 3",
   "language": "python",
   "name": "python3"
  },
  "language_info": {
   "codemirror_mode": {
    "name": "ipython",
    "version": 3
   },
   "file_extension": ".py",
   "mimetype": "text/x-python",
   "name": "python",
   "nbconvert_exporter": "python",
   "pygments_lexer": "ipython3",
   "version": "3.7.4"
  }
 },
 "nbformat": 4,
 "nbformat_minor": 2
}
