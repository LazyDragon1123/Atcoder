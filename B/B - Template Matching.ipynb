{
 "cells": [
  {
   "cell_type": "code",
   "execution_count": 5,
   "metadata": {},
   "outputs": [
    {
     "name": "stdout",
     "output_type": "stream",
     "text": [
      "1 1\n",
      ".\n",
      ".\n",
      "YES\n"
     ]
    }
   ],
   "source": [
    "import numpy as np\n",
    "\n",
    "N,M =[int(i) for i in input().split()]\n",
    "\n",
    "A=[]\n",
    "B=[]\n",
    "\n",
    "for i in range(N):\n",
    "    A.append(str(input()))\n",
    "    \n",
    "for i in range(M):\n",
    "    B.append(str(input()))\n",
    "    \n",
    "# reshape into m*m\n",
    "def Reshape_m(i,j,a,m): # (the left top is (i,j))\n",
    "    c=[]\n",
    "    for k in range(j,j+m):\n",
    "        c.append(a[k][i:i+m])\n",
    "    return c\n",
    "    \n",
    "    \n",
    "def Match_island(a,b,m):\n",
    "    flag = 0\n",
    "    for i in range(m):\n",
    "        if a[i] ==b[i]:\n",
    "            flag +=1\n",
    "    if flag == m:\n",
    "        return 1\n",
    "    else:\n",
    "        return 0\n",
    "ans = \"No\"    \n",
    "if N==M:\n",
    "    if Match_island(A,B,M) ==1:\n",
    "        ans = \"YES\" \n",
    "for p in range(N-M):\n",
    "    for q in range(N-M):\n",
    "        A_=Reshape_m(p,q,A,M)\n",
    "        if Match_island(A_,B,M) == 1:\n",
    "            ans = \"Yes\"\n",
    "            break\n",
    "print(ans)        \n"
   ]
  },
  {
   "cell_type": "code",
   "execution_count": null,
   "metadata": {},
   "outputs": [],
   "source": []
  }
 ],
 "metadata": {
  "kernelspec": {
   "display_name": "Python 3",
   "language": "python",
   "name": "python3"
  },
  "language_info": {
   "codemirror_mode": {
    "name": "ipython",
    "version": 3
   },
   "file_extension": ".py",
   "mimetype": "text/x-python",
   "name": "python",
   "nbconvert_exporter": "python",
   "pygments_lexer": "ipython3",
   "version": "3.7.4"
  }
 },
 "nbformat": 4,
 "nbformat_minor": 2
}
