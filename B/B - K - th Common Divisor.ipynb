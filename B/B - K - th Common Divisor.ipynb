{
 "cells": [
  {
   "cell_type": "code",
   "execution_count": 1,
   "metadata": {},
   "outputs": [
    {
     "name": "stdout",
     "output_type": "stream",
     "text": [
      "8 12 2\n",
      "2\n"
     ]
    }
   ],
   "source": [
    "import math\n",
    "a,b,k = map(int,input().split())\n",
    "\n",
    "temp = math.gcd(a,b)\n",
    "\n",
    "cout = 0\n",
    "\n",
    "\n",
    "for i in range(temp):\n",
    "    j = temp - i\n",
    "    if temp % j == 0:\n",
    "        cout += 1\n",
    "    if cout == k:\n",
    "        ans = j\n",
    "        \n",
    "print(ans)"
   ]
  },
  {
   "cell_type": "code",
   "execution_count": null,
   "metadata": {},
   "outputs": [],
   "source": []
  }
 ],
 "metadata": {
  "kernelspec": {
   "display_name": "Python 3",
   "language": "python",
   "name": "python3"
  },
  "language_info": {
   "codemirror_mode": {
    "name": "ipython",
    "version": 3
   },
   "file_extension": ".py",
   "mimetype": "text/x-python",
   "name": "python",
   "nbconvert_exporter": "python",
   "pygments_lexer": "ipython3",
   "version": "3.7.4"
  }
 },
 "nbformat": 4,
 "nbformat_minor": 2
}
