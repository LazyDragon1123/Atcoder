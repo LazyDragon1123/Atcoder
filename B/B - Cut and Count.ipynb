{
 "cells": [
  {
   "cell_type": "code",
   "execution_count": 2,
   "metadata": {},
   "outputs": [
    {
     "name": "stdout",
     "output_type": "stream",
     "text": [
      "10\n",
      "aaaaaaaaaaaaaaaaa\n",
      "1\n"
     ]
    }
   ],
   "source": [
    "n = int(input())\n",
    "s = str(input())\n",
    "\n",
    "dic = {}\n",
    "\n",
    "for i in range(n):\n",
    "    if dic.get(s[i]) is None:\n",
    "        dic[s[i]] = 1\n",
    "    else:\n",
    "        dic[s[i]] +=1\n",
    "cout = 0\n",
    "        \n",
    "for i in list(dic.values()):\n",
    "    if i > 1:\n",
    "        cout += 1\n",
    "print(cout)"
   ]
  },
  {
   "cell_type": "code",
   "execution_count": null,
   "metadata": {},
   "outputs": [],
   "source": []
  }
 ],
 "metadata": {
  "kernelspec": {
   "display_name": "Python 3",
   "language": "python",
   "name": "python3"
  },
  "language_info": {
   "codemirror_mode": {
    "name": "ipython",
    "version": 3
   },
   "file_extension": ".py",
   "mimetype": "text/x-python",
   "name": "python",
   "nbconvert_exporter": "python",
   "pygments_lexer": "ipython3",
   "version": "3.7.4"
  }
 },
 "nbformat": 4,
 "nbformat_minor": 2
}
