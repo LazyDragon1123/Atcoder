{
 "cells": [
  {
   "cell_type": "code",
   "execution_count": 1,
   "metadata": {},
   "outputs": [
    {
     "name": "stdout",
     "output_type": "stream",
     "text": [
      "3\n",
      "apple\n",
      "orange\n",
      "apple\n",
      "1\n",
      "grape\n",
      "2\n"
     ]
    }
   ],
   "source": [
    "n = int(input())\n",
    "dic = {}\n",
    "for _ in range(n):\n",
    "    s = str(input())\n",
    "    if dic.get(s) is None:\n",
    "        dic[s] = 1\n",
    "    else:\n",
    "        dic[s] +=1\n",
    "    \n",
    "m = int(input())\n",
    "\n",
    "for _ in range(m):\n",
    "    t = str(input())\n",
    "    if dic.get(t) is None:\n",
    "        dic[t] = -1\n",
    "    else:\n",
    "        dic[t] -=1\n",
    "        \n",
    "ans = max(list(dic.values()))\n",
    "\n",
    "if ans <0:\n",
    "    ans = 0\n",
    "    \n",
    "print(int(ans))"
   ]
  },
  {
   "cell_type": "code",
   "execution_count": null,
   "metadata": {},
   "outputs": [],
   "source": []
  }
 ],
 "metadata": {
  "kernelspec": {
   "display_name": "Python 3",
   "language": "python",
   "name": "python3"
  },
  "language_info": {
   "codemirror_mode": {
    "name": "ipython",
    "version": 3
   },
   "file_extension": ".py",
   "mimetype": "text/x-python",
   "name": "python",
   "nbconvert_exporter": "python",
   "pygments_lexer": "ipython3",
   "version": "3.7.4"
  }
 },
 "nbformat": 4,
 "nbformat_minor": 2
}
