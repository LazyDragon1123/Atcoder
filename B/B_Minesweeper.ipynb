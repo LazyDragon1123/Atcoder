{
 "cells": [
  {
   "cell_type": "code",
   "execution_count": 8,
   "metadata": {},
   "outputs": [
    {
     "name": "stdout",
     "output_type": "stream",
     "text": [
      "3 5\n",
      ".....\n",
      ".#.#.\n",
      ".....\n",
      "11211\n",
      "1#2#1\n",
      "11211\n"
     ]
    }
   ],
   "source": [
    "h, w = [int(i) for i in input().split()]\n",
    "\n",
    "s = []\n",
    "\n",
    "for i in range(h):\n",
    "    s += [str(input())]\n",
    "    \n",
    "    \n",
    "\n",
    "def padding(s,h,w):\n",
    "    res = []\n",
    "    res_0 = '.'*(w+2)\n",
    "    for i in range(h+2):\n",
    "        if i ==0:\n",
    "            res = res + [res_0]\n",
    "        elif i == h+1:\n",
    "            res = res + [res_0]\n",
    "        else:\n",
    "            res_add = '.' + s[i-1] + '.'\n",
    "            res += [res_add]\n",
    "    return res\n",
    "\n",
    "def check_mine(s,i,j):\n",
    "    cout = 0\n",
    "    for k in [-1+i,i,1+i]:\n",
    "        for l in [-1+j,j,1+j]:\n",
    "            if s[k][l] == '#':\n",
    "                cout +=1\n",
    "                \n",
    "    if s[i][j] == '.':\n",
    "        return str(cout)\n",
    "    else:\n",
    "        return '#'\n",
    "    \n",
    "s = padding(s,h,w)\n",
    "\n",
    "for i in range(h):\n",
    "    temp = str()\n",
    "    for j in range(w):\n",
    "        temp += check_mine(s,i+1,j+1)\n",
    "    print(temp)"
   ]
  }
 ],
 "metadata": {
  "kernelspec": {
   "display_name": "Python 3",
   "language": "python",
   "name": "python3"
  },
  "language_info": {
   "codemirror_mode": {
    "name": "ipython",
    "version": 3
   },
   "file_extension": ".py",
   "mimetype": "text/x-python",
   "name": "python",
   "nbconvert_exporter": "python",
   "pygments_lexer": "ipython3",
   "version": "3.7.4"
  }
 },
 "nbformat": 4,
 "nbformat_minor": 2
}
