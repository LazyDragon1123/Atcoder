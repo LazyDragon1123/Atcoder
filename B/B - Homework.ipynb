{
 "cells": [
  {
   "cell_type": "code",
   "execution_count": null,
   "metadata": {},
   "outputs": [],
   "source": [
    "n,m = [int(i) for i in input().split()]\n",
    "\n",
    "a = [int(i) for i in input().split()]\n",
    "\n",
    "temp = sum(a)\n",
    "\n",
    "if n>=temp:\n",
    "    ans = n-temp\n",
    "else:\n",
    "    ans = -1\n",
    "    \n",
    "print(ans)\n",
    "    "
   ]
  }
 ],
 "metadata": {
  "kernelspec": {
   "display_name": "Python 3",
   "language": "python",
   "name": "python3"
  },
  "language_info": {
   "codemirror_mode": {
    "name": "ipython",
    "version": 3
   },
   "file_extension": ".py",
   "mimetype": "text/x-python",
   "name": "python",
   "nbconvert_exporter": "python",
   "pygments_lexer": "ipython3",
   "version": "3.7.4"
  }
 },
 "nbformat": 4,
 "nbformat_minor": 2
}
