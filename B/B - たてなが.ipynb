{
 "cells": [
  {
   "cell_type": "code",
   "execution_count": 10,
   "metadata": {},
   "outputs": [
    {
     "name": "stdout",
     "output_type": "stream",
     "text": [
      "2 2\n",
      "<>\n",
      "><\n",
      "<>\n",
      "<>\n",
      "><\n",
      "><\n"
     ]
    }
   ],
   "source": [
    "import numpy as np\n",
    "H,W = [int(i) for i in input().split()]\n",
    "\n",
    "C = np.zeros([1,H],dtype = object)\n",
    "\n",
    "for i in range(H):\n",
    "    C[0,i] = str(input())\n",
    "    \n",
    "C_d = np.zeros([1,2*H],dtype = object)\n",
    "\n",
    "for i in range(2*H):\n",
    "    C_d[0,i] = C[0,int(i//2)]\n",
    "    \n",
    "for i in range(2*H):\n",
    "    print(C_d[0,i])\n",
    "    "
   ]
  },
  {
   "cell_type": "code",
   "execution_count": null,
   "metadata": {},
   "outputs": [],
   "source": []
  }
 ],
 "metadata": {
  "kernelspec": {
   "display_name": "Python 3",
   "language": "python",
   "name": "python3"
  },
  "language_info": {
   "codemirror_mode": {
    "name": "ipython",
    "version": 3
   },
   "file_extension": ".py",
   "mimetype": "text/x-python",
   "name": "python",
   "nbconvert_exporter": "python",
   "pygments_lexer": "ipython3",
   "version": "3.7.4"
  }
 },
 "nbformat": 4,
 "nbformat_minor": 2
}
