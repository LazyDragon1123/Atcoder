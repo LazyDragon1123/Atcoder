{
 "cells": [
  {
   "cell_type": "code",
   "execution_count": 17,
   "metadata": {},
   "outputs": [
    {
     "name": "stdout",
     "output_type": "stream",
     "text": [
      "123\n",
      "33\n"
     ]
    }
   ],
   "source": [
    "import numpy as np\n",
    "\n",
    "N = int(input())\n",
    "\n",
    "digit_max = len(str(N))\n",
    "\n",
    "if digit_max ==2:\n",
    "    ans =9\n",
    "elif digit_max ==1:\n",
    "    ans = N\n",
    "elif digit_max >2:\n",
    "    count=0\n",
    "    for i in range(int(np.ceil(digit_max/2)-1)):\n",
    "        j = 2*i+1\n",
    "        count+=9*10**(j-1)\n",
    "    if digit_max%2 ==1:\n",
    "        count+=N-10**(digit_max-1)+1\n",
    "    elif digit_max%2 ==0:   \n",
    "        count+=9*10**(digit_max-2)\n",
    "        \n",
    "    ans = count\n",
    "    \n",
    "print(ans)\n",
    "    "
   ]
  },
  {
   "cell_type": "code",
   "execution_count": null,
   "metadata": {},
   "outputs": [],
   "source": []
  },
  {
   "cell_type": "code",
   "execution_count": null,
   "metadata": {},
   "outputs": [],
   "source": []
  }
 ],
 "metadata": {
  "kernelspec": {
   "display_name": "Python 3",
   "language": "python",
   "name": "python3"
  },
  "language_info": {
   "codemirror_mode": {
    "name": "ipython",
    "version": 3
   },
   "file_extension": ".py",
   "mimetype": "text/x-python",
   "name": "python",
   "nbconvert_exporter": "python",
   "pygments_lexer": "ipython3",
   "version": "3.7.4"
  }
 },
 "nbformat": 4,
 "nbformat_minor": 2
}
